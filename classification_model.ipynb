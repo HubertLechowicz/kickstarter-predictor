{
  "nbformat": 4,
  "nbformat_minor": 0,
  "metadata": {
    "colab": {
      "name": "classification model",
      "provenance": [],
      "collapsed_sections": [],
      "toc_visible": true,
      "machine_shape": "hm",
      "include_colab_link": true
    },
    "kernelspec": {
      "name": "python3",
      "display_name": "Python 3"
    },
    "accelerator": "GPU"
  },
  "cells": [
    {
      "cell_type": "markdown",
      "metadata": {
        "id": "view-in-github",
        "colab_type": "text"
      },
      "source": [
        "<a href=\"https://colab.research.google.com/github/QuatZo/kickstarter-predictor/blob/master/classification_model.ipynb\" target=\"_parent\"><img src=\"https://colab.research.google.com/assets/colab-badge.svg\" alt=\"Open In Colab\"/></a>"
      ]
    },
    {
      "cell_type": "markdown",
      "metadata": {
        "id": "zX5bL75o4JVB",
        "colab_type": "text"
      },
      "source": [
        "# Import libraries & dataset"
      ]
    },
    {
      "cell_type": "code",
      "metadata": {
        "id": "DtqRfOuDl5nn",
        "colab_type": "code",
        "outputId": "48117c98-887b-4561-ce3e-b191c0f97da6",
        "colab": {
          "base_uri": "https://localhost:8080/",
          "height": 85
        }
      },
      "source": [
        "import pandas as pd\n",
        "import numpy as np\n",
        "import datetime\n",
        "import matplotlib.pyplot as plt\n",
        "import time\n",
        "import statistics as stats\n",
        "import requests\n",
        "import pickle\n",
        "import json\n",
        "\n",
        "from sklearn.svm import LinearSVC\n",
        "import xgboost as xgb\n",
        "from sklearn.linear_model import LogisticRegression\n",
        "from sklearn.ensemble import RandomForestClassifier\n",
        "import tensorflow as tf\n",
        "\n",
        "from sklearn.model_selection import train_test_split, GridSearchCV\n",
        "from sklearn.preprocessing import OneHotEncoder, StandardScaler\n",
        "from sklearn.compose import ColumnTransformer\n",
        "from sklearn.feature_selection import SelectFromModel\n",
        "from sklearn.metrics import classification_report\n",
        "from sklearn.base import clone\n",
        "from sklearn.externals.joblib import dump, load\n",
        "\n",
        "from mlxtend.feature_selection import ExhaustiveFeatureSelector as EFS\n",
        "from imblearn.over_sampling import SMOTE, SMOTENC, ADASYN, BorderlineSMOTE\n",
        "from imblearn.under_sampling import NearMiss, RandomUnderSampler\n",
        "\n",
        "df = pd.read_csv('http://puma.swstats.info/files/kickstarter_with_trends.csv', index_col=\"ID\")\n",
        "df.columns"
      ],
      "execution_count": 36,
      "outputs": [
        {
          "output_type": "execute_result",
          "data": {
            "text/plain": [
              "Index(['name', 'category', 'main_category', 'currency', 'deadline', 'goal',\n",
              "       'launched', 'pledged', 'state', 'backers', 'country', 'usd pledged',\n",
              "       'usd_pledged_real', 'usd_goal_real', 'tokenized_name', 'trend'],\n",
              "      dtype='object')"
            ]
          },
          "metadata": {
            "tags": []
          },
          "execution_count": 36
        }
      ]
    },
    {
      "cell_type": "markdown",
      "metadata": {
        "id": "Bd8ixBY6a0LY",
        "colab_type": "text"
      },
      "source": [
        "# Prepare for data cleaning"
      ]
    },
    {
      "cell_type": "code",
      "metadata": {
        "id": "Wrx5fuwJa0P-",
        "colab_type": "code",
        "colab": {}
      },
      "source": [
        "link = 'https://3l7z4wecia.execute-api.us-east-1.amazonaws.com/default/api-dynamodb/'\n",
        "\n",
        "get_categories = {\n",
        "  \"operation\": \"list\",\n",
        "  \"table\": \"categories\",\n",
        "}\n",
        "\n",
        "categories = requests.post(link, json=get_categories)\n",
        "\n",
        "categories = categories.json()['Items']\n",
        "categories_proper = dict()\n",
        "for item in categories:\n",
        "  categories_proper[item['name']] = item['id'] # map NAME to ID\n",
        "\n",
        "get_main_categories = {\n",
        "  \"operation\": \"list\",\n",
        "  \"table\": \"maincategories\",\n",
        "}\n",
        "\n",
        "main_categories = requests.post(link, json=get_main_categories)\n",
        "\n",
        "main_categories = main_categories.json()['Items']\n",
        "main_categories_proper = dict()\n",
        "for item in main_categories:\n",
        "  main_categories_proper[item['name']] = item['id'] # map NAME to ID\n",
        "\n",
        "get_countries = {\n",
        "  \"operation\": \"list\",\n",
        "  \"table\": \"countries\",\n",
        "}\n",
        "\n",
        "countries = requests.post(link, json=get_countries)\n",
        "\n",
        "countries = countries.json()['Items']\n",
        "countries_proper = dict()\n",
        "for item in countries:\n",
        "  countries_proper[item['name']] = item['id'] # map NAME to ID"
      ],
      "execution_count": 0,
      "outputs": []
    },
    {
      "cell_type": "markdown",
      "metadata": {
        "id": "i5kFeONb4SjC",
        "colab_type": "text"
      },
      "source": [
        "# Clean & prepare data\n",
        "* Calculate campaign length \n",
        "* Delete all incomplete data (like country == N,0\")\n",
        "* Delete all kickstarter projects with different state than 'failed' and 'successful' \n",
        "* Cast to numerical types all non-numerical features and drop all empty data\n",
        "* Use Label Encoding or One-Hot Encoding"
      ]
    },
    {
      "cell_type": "code",
      "metadata": {
        "id": "W22gDTwYsE3t",
        "colab_type": "code",
        "outputId": "d9fd7ab0-4f7f-4a9c-ae95-feed66131f17",
        "colab": {
          "base_uri": "https://localhost:8080/",
          "height": 450
        }
      },
      "source": [
        "df_clean = df.copy()\n",
        "\n",
        "indexes = df_clean[df_clean['country'] == 'N,0\"'].index\n",
        "df_clean.drop(indexes, inplace=True)\n",
        "# drop live & undefined states\n",
        "indexes = df_clean[(df_clean['state'] == 'live') | (df_clean['state'] == 'undefined')].index\n",
        "df_clean.drop(indexes, inplace=True)\n",
        "\n",
        "df_clean['campaign_length'] = pd.to_timedelta((pd.to_datetime(df_clean['deadline']) - pd.to_datetime(df_clean['launched'])), unit='days').dt.days\n",
        "# df_clean = df_clean[(df_clean['usd_goal_real'] >= 10) & (df_clean['campaign_length'] >= 7)] # drop all with lower goal than 10$ and shorter than week\n",
        "\n",
        "##########################################################\n",
        "# \"\"\" Label Encoding - if you want to run this, just comment lines with quotation marks\n",
        "jsons = dict()\n",
        "map_dict = {\n",
        "    'category': categories_proper,\n",
        "    'main_category': main_categories_proper,\n",
        "    'country': countries_proper,\n",
        "}\n",
        "for key, val in map_dict.items():\n",
        "  df_clean[key] = df_clean[key].map(val)\n",
        "\n",
        "json.dump(jsons, open('categories.json', 'w'))\n",
        "\n",
        "df_clean.drop(['tokenized_name', 'currency', 'name'], inplace=True, axis=1)\n",
        "df_clean.dropna(inplace=True)\n",
        "# \"\"\"\n",
        "##########################################################\n",
        "\n",
        "###########################################################\n",
        "\"\"\" One-Hot Encoding - if you want to run this, just comment lines with quotation marks\n",
        "column_transformer = ColumnTransformer([('encoder', OneHotEncoder(), ['category', 'main_category', 'currency', 'country'])], sparse_threshold=0, n_jobs=-1)\n",
        "onehot = pd.DataFrame(column_transformer.fit_transform(df_clean)).set_index(df_clean.index)\n",
        "new_cols_encoding = [col.replace('encoder__x0_', '').replace('encoder__x1_', '').replace('encoder__x2_', '').replace('encoder__x3_', '') for col in column_transformer.get_feature_names()]\n",
        "onehot.columns = new_cols_encoding\n",
        "df_clean = pd.concat([df_clean, onehot], axis=1)\n",
        "df_clean.drop(['category', 'main_category', 'currency', 'country', 'tokenized_name'], inplace=True, axis=1)\n",
        "df_clean = df_clean.loc[:,~df_clean.columns.duplicated()]\n",
        "\"\"\"\n",
        "##########################################################\n",
        "\n",
        "df_xd = df_clean[~df_clean['state'].str.contains('successful')].index\n",
        "df_clean.loc[df_clean['state'].str.contains('successful'), 'state'] = 1\n",
        "df_clean.loc[df_xd, 'state'] = 0\n",
        "df_clean['state'] = df_clean['state'].astype(int)\n",
        "\n",
        "\n",
        "df_clean"
      ],
      "execution_count": 39,
      "outputs": [
        {
          "output_type": "execute_result",
          "data": {
            "text/html": [
              "<div>\n",
              "<style scoped>\n",
              "    .dataframe tbody tr th:only-of-type {\n",
              "        vertical-align: middle;\n",
              "    }\n",
              "\n",
              "    .dataframe tbody tr th {\n",
              "        vertical-align: top;\n",
              "    }\n",
              "\n",
              "    .dataframe thead th {\n",
              "        text-align: right;\n",
              "    }\n",
              "</style>\n",
              "<table border=\"1\" class=\"dataframe\">\n",
              "  <thead>\n",
              "    <tr style=\"text-align: right;\">\n",
              "      <th></th>\n",
              "      <th>category</th>\n",
              "      <th>main_category</th>\n",
              "      <th>deadline</th>\n",
              "      <th>goal</th>\n",
              "      <th>launched</th>\n",
              "      <th>pledged</th>\n",
              "      <th>state</th>\n",
              "      <th>backers</th>\n",
              "      <th>country</th>\n",
              "      <th>usd pledged</th>\n",
              "      <th>usd_pledged_real</th>\n",
              "      <th>usd_goal_real</th>\n",
              "      <th>trend</th>\n",
              "      <th>campaign_length</th>\n",
              "    </tr>\n",
              "    <tr>\n",
              "      <th>ID</th>\n",
              "      <th></th>\n",
              "      <th></th>\n",
              "      <th></th>\n",
              "      <th></th>\n",
              "      <th></th>\n",
              "      <th></th>\n",
              "      <th></th>\n",
              "      <th></th>\n",
              "      <th></th>\n",
              "      <th></th>\n",
              "      <th></th>\n",
              "      <th></th>\n",
              "      <th></th>\n",
              "      <th></th>\n",
              "    </tr>\n",
              "  </thead>\n",
              "  <tbody>\n",
              "    <tr>\n",
              "      <th>1000002330</th>\n",
              "      <td>0</td>\n",
              "      <td>0</td>\n",
              "      <td>2015-10-09</td>\n",
              "      <td>1000.0</td>\n",
              "      <td>2015-08-11 12:12:28</td>\n",
              "      <td>0.0</td>\n",
              "      <td>0</td>\n",
              "      <td>0</td>\n",
              "      <td>0</td>\n",
              "      <td>0.0</td>\n",
              "      <td>0.0</td>\n",
              "      <td>1533.95</td>\n",
              "      <td>26.526034</td>\n",
              "      <td>58</td>\n",
              "    </tr>\n",
              "    <tr>\n",
              "      <th>1000003930</th>\n",
              "      <td>1</td>\n",
              "      <td>1</td>\n",
              "      <td>2017-11-01</td>\n",
              "      <td>30000.0</td>\n",
              "      <td>2017-09-02 04:43:57</td>\n",
              "      <td>2421.0</td>\n",
              "      <td>0</td>\n",
              "      <td>15</td>\n",
              "      <td>1</td>\n",
              "      <td>100.0</td>\n",
              "      <td>2421.0</td>\n",
              "      <td>30000.00</td>\n",
              "      <td>13.684380</td>\n",
              "      <td>59</td>\n",
              "    </tr>\n",
              "    <tr>\n",
              "      <th>1000004038</th>\n",
              "      <td>1</td>\n",
              "      <td>1</td>\n",
              "      <td>2013-02-26</td>\n",
              "      <td>45000.0</td>\n",
              "      <td>2013-01-12 00:20:50</td>\n",
              "      <td>220.0</td>\n",
              "      <td>0</td>\n",
              "      <td>3</td>\n",
              "      <td>1</td>\n",
              "      <td>220.0</td>\n",
              "      <td>220.0</td>\n",
              "      <td>45000.00</td>\n",
              "      <td>35.000000</td>\n",
              "      <td>44</td>\n",
              "    </tr>\n",
              "    <tr>\n",
              "      <th>1000007540</th>\n",
              "      <td>2</td>\n",
              "      <td>2</td>\n",
              "      <td>2012-04-16</td>\n",
              "      <td>5000.0</td>\n",
              "      <td>2012-03-17 03:24:11</td>\n",
              "      <td>1.0</td>\n",
              "      <td>0</td>\n",
              "      <td>1</td>\n",
              "      <td>1</td>\n",
              "      <td>1.0</td>\n",
              "      <td>1.0</td>\n",
              "      <td>5000.00</td>\n",
              "      <td>28.000000</td>\n",
              "      <td>29</td>\n",
              "    </tr>\n",
              "    <tr>\n",
              "      <th>1000011046</th>\n",
              "      <td>3</td>\n",
              "      <td>1</td>\n",
              "      <td>2015-08-29</td>\n",
              "      <td>19500.0</td>\n",
              "      <td>2015-07-04 08:35:03</td>\n",
              "      <td>1283.0</td>\n",
              "      <td>0</td>\n",
              "      <td>14</td>\n",
              "      <td>1</td>\n",
              "      <td>1283.0</td>\n",
              "      <td>1283.0</td>\n",
              "      <td>19500.00</td>\n",
              "      <td>21.800000</td>\n",
              "      <td>55</td>\n",
              "    </tr>\n",
              "    <tr>\n",
              "      <th>...</th>\n",
              "      <td>...</td>\n",
              "      <td>...</td>\n",
              "      <td>...</td>\n",
              "      <td>...</td>\n",
              "      <td>...</td>\n",
              "      <td>...</td>\n",
              "      <td>...</td>\n",
              "      <td>...</td>\n",
              "      <td>...</td>\n",
              "      <td>...</td>\n",
              "      <td>...</td>\n",
              "      <td>...</td>\n",
              "      <td>...</td>\n",
              "      <td>...</td>\n",
              "    </tr>\n",
              "    <tr>\n",
              "      <th>999976400</th>\n",
              "      <td>8</td>\n",
              "      <td>1</td>\n",
              "      <td>2014-10-17</td>\n",
              "      <td>50000.0</td>\n",
              "      <td>2014-09-17 02:35:30</td>\n",
              "      <td>25.0</td>\n",
              "      <td>0</td>\n",
              "      <td>1</td>\n",
              "      <td>1</td>\n",
              "      <td>25.0</td>\n",
              "      <td>25.0</td>\n",
              "      <td>50000.00</td>\n",
              "      <td>19.000000</td>\n",
              "      <td>29</td>\n",
              "    </tr>\n",
              "    <tr>\n",
              "      <th>999977640</th>\n",
              "      <td>1</td>\n",
              "      <td>1</td>\n",
              "      <td>2011-07-19</td>\n",
              "      <td>1500.0</td>\n",
              "      <td>2011-06-22 03:35:14</td>\n",
              "      <td>155.0</td>\n",
              "      <td>0</td>\n",
              "      <td>5</td>\n",
              "      <td>1</td>\n",
              "      <td>155.0</td>\n",
              "      <td>155.0</td>\n",
              "      <td>1500.00</td>\n",
              "      <td>56.000000</td>\n",
              "      <td>26</td>\n",
              "    </tr>\n",
              "    <tr>\n",
              "      <th>999986353</th>\n",
              "      <td>1</td>\n",
              "      <td>1</td>\n",
              "      <td>2010-08-16</td>\n",
              "      <td>15000.0</td>\n",
              "      <td>2010-07-01 19:40:30</td>\n",
              "      <td>20.0</td>\n",
              "      <td>0</td>\n",
              "      <td>1</td>\n",
              "      <td>1</td>\n",
              "      <td>20.0</td>\n",
              "      <td>20.0</td>\n",
              "      <td>15000.00</td>\n",
              "      <td>18.000000</td>\n",
              "      <td>45</td>\n",
              "    </tr>\n",
              "    <tr>\n",
              "      <th>999987933</th>\n",
              "      <td>57</td>\n",
              "      <td>12</td>\n",
              "      <td>2016-02-13</td>\n",
              "      <td>15000.0</td>\n",
              "      <td>2016-01-13 18:13:53</td>\n",
              "      <td>200.0</td>\n",
              "      <td>0</td>\n",
              "      <td>6</td>\n",
              "      <td>1</td>\n",
              "      <td>200.0</td>\n",
              "      <td>200.0</td>\n",
              "      <td>15000.00</td>\n",
              "      <td>27.666667</td>\n",
              "      <td>30</td>\n",
              "    </tr>\n",
              "    <tr>\n",
              "      <th>999988282</th>\n",
              "      <td>74</td>\n",
              "      <td>10</td>\n",
              "      <td>2011-08-16</td>\n",
              "      <td>2000.0</td>\n",
              "      <td>2011-07-19 09:07:47</td>\n",
              "      <td>524.0</td>\n",
              "      <td>0</td>\n",
              "      <td>17</td>\n",
              "      <td>1</td>\n",
              "      <td>524.0</td>\n",
              "      <td>524.0</td>\n",
              "      <td>2000.00</td>\n",
              "      <td>18.600000</td>\n",
              "      <td>27</td>\n",
              "    </tr>\n",
              "  </tbody>\n",
              "</table>\n",
              "<p>372054 rows × 14 columns</p>\n",
              "</div>"
            ],
            "text/plain": [
              "            category  main_category  ...      trend  campaign_length\n",
              "ID                                   ...                            \n",
              "1000002330         0              0  ...  26.526034               58\n",
              "1000003930         1              1  ...  13.684380               59\n",
              "1000004038         1              1  ...  35.000000               44\n",
              "1000007540         2              2  ...  28.000000               29\n",
              "1000011046         3              1  ...  21.800000               55\n",
              "...              ...            ...  ...        ...              ...\n",
              "999976400          8              1  ...  19.000000               29\n",
              "999977640          1              1  ...  56.000000               26\n",
              "999986353          1              1  ...  18.000000               45\n",
              "999987933         57             12  ...  27.666667               30\n",
              "999988282         74             10  ...  18.600000               27\n",
              "\n",
              "[372054 rows x 14 columns]"
            ]
          },
          "metadata": {
            "tags": []
          },
          "execution_count": 39
        }
      ]
    },
    {
      "cell_type": "markdown",
      "metadata": {
        "id": "2hV19F-C5ACG",
        "colab_type": "text"
      },
      "source": [
        "# Check features correlation\n",
        "We say features are dependant, if abs(correlation) > .5"
      ]
    },
    {
      "cell_type": "code",
      "metadata": {
        "id": "eW4UTNAPqvp1",
        "colab_type": "code",
        "outputId": "12070f48-ca0c-44a3-b771-df177a6f66e6",
        "colab": {
          "base_uri": "https://localhost:8080/",
          "height": 710
        }
      },
      "source": [
        "corr = df_clean.corr()\n",
        "\n",
        "plt.matshow(corr)\n",
        "plt.show()\n",
        "\n",
        "corr[(corr > .5) | (corr < -.5)]"
      ],
      "execution_count": 0,
      "outputs": [
        {
          "output_type": "display_data",
          "data": {
            "image/png": "[encoded data removed]",
            "text/plain": [
              "<Figure size 288x288 with 1 Axes>"
            ]
          },
          "metadata": {
            "tags": [],
            "needs_background": "light"
          }
        },
        {
          "output_type": "execute_result",
          "data": {
            "text/html": [
              "<div>\n",
              "<style scoped>\n",
              "    .dataframe tbody tr th:only-of-type {\n",
              "        vertical-align: middle;\n",
              "    }\n",
              "\n",
              "    .dataframe tbody tr th {\n",
              "        vertical-align: top;\n",
              "    }\n",
              "\n",
              "    .dataframe thead th {\n",
              "        text-align: right;\n",
              "    }\n",
              "</style>\n",
              "<table border=\"1\" class=\"dataframe\">\n",
              "  <thead>\n",
              "    <tr style=\"text-align: right;\">\n",
              "      <th></th>\n",
              "      <th>category</th>\n",
              "      <th>main_category</th>\n",
              "      <th>currency</th>\n",
              "      <th>goal</th>\n",
              "      <th>pledged</th>\n",
              "      <th>state</th>\n",
              "      <th>backers</th>\n",
              "      <th>country</th>\n",
              "      <th>usd pledged</th>\n",
              "      <th>usd_pledged_real</th>\n",
              "      <th>usd_goal_real</th>\n",
              "      <th>trend</th>\n",
              "      <th>campaign_length</th>\n",
              "    </tr>\n",
              "  </thead>\n",
              "  <tbody>\n",
              "    <tr>\n",
              "      <th>category</th>\n",
              "      <td>1.0</td>\n",
              "      <td>NaN</td>\n",
              "      <td>NaN</td>\n",
              "      <td>NaN</td>\n",
              "      <td>NaN</td>\n",
              "      <td>NaN</td>\n",
              "      <td>NaN</td>\n",
              "      <td>NaN</td>\n",
              "      <td>NaN</td>\n",
              "      <td>NaN</td>\n",
              "      <td>NaN</td>\n",
              "      <td>NaN</td>\n",
              "      <td>NaN</td>\n",
              "    </tr>\n",
              "    <tr>\n",
              "      <th>main_category</th>\n",
              "      <td>NaN</td>\n",
              "      <td>1.0</td>\n",
              "      <td>NaN</td>\n",
              "      <td>NaN</td>\n",
              "      <td>NaN</td>\n",
              "      <td>NaN</td>\n",
              "      <td>NaN</td>\n",
              "      <td>NaN</td>\n",
              "      <td>NaN</td>\n",
              "      <td>NaN</td>\n",
              "      <td>NaN</td>\n",
              "      <td>NaN</td>\n",
              "      <td>NaN</td>\n",
              "    </tr>\n",
              "    <tr>\n",
              "      <th>currency</th>\n",
              "      <td>NaN</td>\n",
              "      <td>NaN</td>\n",
              "      <td>1.000000</td>\n",
              "      <td>NaN</td>\n",
              "      <td>NaN</td>\n",
              "      <td>NaN</td>\n",
              "      <td>NaN</td>\n",
              "      <td>0.944548</td>\n",
              "      <td>NaN</td>\n",
              "      <td>NaN</td>\n",
              "      <td>NaN</td>\n",
              "      <td>NaN</td>\n",
              "      <td>NaN</td>\n",
              "    </tr>\n",
              "    <tr>\n",
              "      <th>goal</th>\n",
              "      <td>NaN</td>\n",
              "      <td>NaN</td>\n",
              "      <td>NaN</td>\n",
              "      <td>1.000000</td>\n",
              "      <td>NaN</td>\n",
              "      <td>NaN</td>\n",
              "      <td>NaN</td>\n",
              "      <td>NaN</td>\n",
              "      <td>NaN</td>\n",
              "      <td>NaN</td>\n",
              "      <td>0.940032</td>\n",
              "      <td>NaN</td>\n",
              "      <td>NaN</td>\n",
              "    </tr>\n",
              "    <tr>\n",
              "      <th>pledged</th>\n",
              "      <td>NaN</td>\n",
              "      <td>NaN</td>\n",
              "      <td>NaN</td>\n",
              "      <td>NaN</td>\n",
              "      <td>1.000000</td>\n",
              "      <td>NaN</td>\n",
              "      <td>0.718115</td>\n",
              "      <td>NaN</td>\n",
              "      <td>0.858192</td>\n",
              "      <td>0.953229</td>\n",
              "      <td>NaN</td>\n",
              "      <td>NaN</td>\n",
              "      <td>NaN</td>\n",
              "    </tr>\n",
              "    <tr>\n",
              "      <th>state</th>\n",
              "      <td>NaN</td>\n",
              "      <td>NaN</td>\n",
              "      <td>NaN</td>\n",
              "      <td>NaN</td>\n",
              "      <td>NaN</td>\n",
              "      <td>1.0</td>\n",
              "      <td>NaN</td>\n",
              "      <td>NaN</td>\n",
              "      <td>NaN</td>\n",
              "      <td>NaN</td>\n",
              "      <td>NaN</td>\n",
              "      <td>NaN</td>\n",
              "      <td>NaN</td>\n",
              "    </tr>\n",
              "    <tr>\n",
              "      <th>backers</th>\n",
              "      <td>NaN</td>\n",
              "      <td>NaN</td>\n",
              "      <td>NaN</td>\n",
              "      <td>NaN</td>\n",
              "      <td>0.718115</td>\n",
              "      <td>NaN</td>\n",
              "      <td>1.000000</td>\n",
              "      <td>NaN</td>\n",
              "      <td>0.697815</td>\n",
              "      <td>0.753329</td>\n",
              "      <td>NaN</td>\n",
              "      <td>NaN</td>\n",
              "      <td>NaN</td>\n",
              "    </tr>\n",
              "    <tr>\n",
              "      <th>country</th>\n",
              "      <td>NaN</td>\n",
              "      <td>NaN</td>\n",
              "      <td>0.944548</td>\n",
              "      <td>NaN</td>\n",
              "      <td>NaN</td>\n",
              "      <td>NaN</td>\n",
              "      <td>NaN</td>\n",
              "      <td>1.000000</td>\n",
              "      <td>NaN</td>\n",
              "      <td>NaN</td>\n",
              "      <td>NaN</td>\n",
              "      <td>NaN</td>\n",
              "      <td>NaN</td>\n",
              "    </tr>\n",
              "    <tr>\n",
              "      <th>usd pledged</th>\n",
              "      <td>NaN</td>\n",
              "      <td>NaN</td>\n",
              "      <td>NaN</td>\n",
              "      <td>NaN</td>\n",
              "      <td>0.858192</td>\n",
              "      <td>NaN</td>\n",
              "      <td>0.697815</td>\n",
              "      <td>NaN</td>\n",
              "      <td>1.000000</td>\n",
              "      <td>0.908090</td>\n",
              "      <td>NaN</td>\n",
              "      <td>NaN</td>\n",
              "      <td>NaN</td>\n",
              "    </tr>\n",
              "    <tr>\n",
              "      <th>usd_pledged_real</th>\n",
              "      <td>NaN</td>\n",
              "      <td>NaN</td>\n",
              "      <td>NaN</td>\n",
              "      <td>NaN</td>\n",
              "      <td>0.953229</td>\n",
              "      <td>NaN</td>\n",
              "      <td>0.753329</td>\n",
              "      <td>NaN</td>\n",
              "      <td>0.908090</td>\n",
              "      <td>1.000000</td>\n",
              "      <td>NaN</td>\n",
              "      <td>NaN</td>\n",
              "      <td>NaN</td>\n",
              "    </tr>\n",
              "    <tr>\n",
              "      <th>usd_goal_real</th>\n",
              "      <td>NaN</td>\n",
              "      <td>NaN</td>\n",
              "      <td>NaN</td>\n",
              "      <td>0.940032</td>\n",
              "      <td>NaN</td>\n",
              "      <td>NaN</td>\n",
              "      <td>NaN</td>\n",
              "      <td>NaN</td>\n",
              "      <td>NaN</td>\n",
              "      <td>NaN</td>\n",
              "      <td>1.000000</td>\n",
              "      <td>NaN</td>\n",
              "      <td>NaN</td>\n",
              "    </tr>\n",
              "    <tr>\n",
              "      <th>trend</th>\n",
              "      <td>NaN</td>\n",
              "      <td>NaN</td>\n",
              "      <td>NaN</td>\n",
              "      <td>NaN</td>\n",
              "      <td>NaN</td>\n",
              "      <td>NaN</td>\n",
              "      <td>NaN</td>\n",
              "      <td>NaN</td>\n",
              "      <td>NaN</td>\n",
              "      <td>NaN</td>\n",
              "      <td>NaN</td>\n",
              "      <td>1.0</td>\n",
              "      <td>NaN</td>\n",
              "    </tr>\n",
              "    <tr>\n",
              "      <th>campaign_length</th>\n",
              "      <td>NaN</td>\n",
              "      <td>NaN</td>\n",
              "      <td>NaN</td>\n",
              "      <td>NaN</td>\n",
              "      <td>NaN</td>\n",
              "      <td>NaN</td>\n",
              "      <td>NaN</td>\n",
              "      <td>NaN</td>\n",
              "      <td>NaN</td>\n",
              "      <td>NaN</td>\n",
              "      <td>NaN</td>\n",
              "      <td>NaN</td>\n",
              "      <td>1.0</td>\n",
              "    </tr>\n",
              "  </tbody>\n",
              "</table>\n",
              "</div>"
            ],
            "text/plain": [
              "                  category  main_category  ...  trend  campaign_length\n",
              "category               1.0            NaN  ...    NaN              NaN\n",
              "main_category          NaN            1.0  ...    NaN              NaN\n",
              "currency               NaN            NaN  ...    NaN              NaN\n",
              "goal                   NaN            NaN  ...    NaN              NaN\n",
              "pledged                NaN            NaN  ...    NaN              NaN\n",
              "state                  NaN            NaN  ...    NaN              NaN\n",
              "backers                NaN            NaN  ...    NaN              NaN\n",
              "country                NaN            NaN  ...    NaN              NaN\n",
              "usd pledged            NaN            NaN  ...    NaN              NaN\n",
              "usd_pledged_real       NaN            NaN  ...    NaN              NaN\n",
              "usd_goal_real          NaN            NaN  ...    NaN              NaN\n",
              "trend                  NaN            NaN  ...    1.0              NaN\n",
              "campaign_length        NaN            NaN  ...    NaN              1.0\n",
              "\n",
              "[13 rows x 13 columns]"
            ]
          },
          "metadata": {
            "tags": []
          },
          "execution_count": 3
        }
      ]
    },
    {
      "cell_type": "markdown",
      "metadata": {
        "id": "ZooYFrhL5TQI",
        "colab_type": "text"
      },
      "source": [
        "# Delete unnecessary features\n",
        "We delete dupe features (like converted goal value) and the ones that user won't be able to provide, like backers."
      ]
    },
    {
      "cell_type": "code",
      "metadata": {
        "id": "-BPFR1x6xk8S",
        "colab_type": "code",
        "outputId": "85a12d4e-d4ea-47e6-b0ef-7478b5b46cd3",
        "colab": {
          "base_uri": "https://localhost:8080/",
          "height": 450
        }
      },
      "source": [
        "df_shortened = df_clean.copy()\n",
        "df_shortened.drop(['pledged', 'backers', 'usd pledged', 'deadline', 'launched', 'usd_pledged_real', 'goal'], axis=1, inplace=True)\n",
        "df_shortened"
      ],
      "execution_count": 0,
      "outputs": [
        {
          "output_type": "execute_result",
          "data": {
            "text/html": [
              "<div>\n",
              "<style scoped>\n",
              "    .dataframe tbody tr th:only-of-type {\n",
              "        vertical-align: middle;\n",
              "    }\n",
              "\n",
              "    .dataframe tbody tr th {\n",
              "        vertical-align: top;\n",
              "    }\n",
              "\n",
              "    .dataframe thead th {\n",
              "        text-align: right;\n",
              "    }\n",
              "</style>\n",
              "<table border=\"1\" class=\"dataframe\">\n",
              "  <thead>\n",
              "    <tr style=\"text-align: right;\">\n",
              "      <th></th>\n",
              "      <th>category</th>\n",
              "      <th>main_category</th>\n",
              "      <th>state</th>\n",
              "      <th>country</th>\n",
              "      <th>usd_goal_real</th>\n",
              "      <th>trend</th>\n",
              "      <th>campaign_length</th>\n",
              "    </tr>\n",
              "    <tr>\n",
              "      <th>ID</th>\n",
              "      <th></th>\n",
              "      <th></th>\n",
              "      <th></th>\n",
              "      <th></th>\n",
              "      <th></th>\n",
              "      <th></th>\n",
              "      <th></th>\n",
              "    </tr>\n",
              "  </thead>\n",
              "  <tbody>\n",
              "    <tr>\n",
              "      <th>1000002330</th>\n",
              "      <td>0</td>\n",
              "      <td>0</td>\n",
              "      <td>0</td>\n",
              "      <td>0</td>\n",
              "      <td>1533.95</td>\n",
              "      <td>26.526034</td>\n",
              "      <td>58</td>\n",
              "    </tr>\n",
              "    <tr>\n",
              "      <th>1000003930</th>\n",
              "      <td>1</td>\n",
              "      <td>1</td>\n",
              "      <td>0</td>\n",
              "      <td>1</td>\n",
              "      <td>30000.00</td>\n",
              "      <td>13.684380</td>\n",
              "      <td>59</td>\n",
              "    </tr>\n",
              "    <tr>\n",
              "      <th>1000004038</th>\n",
              "      <td>1</td>\n",
              "      <td>1</td>\n",
              "      <td>0</td>\n",
              "      <td>1</td>\n",
              "      <td>45000.00</td>\n",
              "      <td>35.000000</td>\n",
              "      <td>44</td>\n",
              "    </tr>\n",
              "    <tr>\n",
              "      <th>1000007540</th>\n",
              "      <td>2</td>\n",
              "      <td>2</td>\n",
              "      <td>0</td>\n",
              "      <td>1</td>\n",
              "      <td>5000.00</td>\n",
              "      <td>28.000000</td>\n",
              "      <td>29</td>\n",
              "    </tr>\n",
              "    <tr>\n",
              "      <th>1000011046</th>\n",
              "      <td>3</td>\n",
              "      <td>1</td>\n",
              "      <td>0</td>\n",
              "      <td>1</td>\n",
              "      <td>19500.00</td>\n",
              "      <td>21.800000</td>\n",
              "      <td>55</td>\n",
              "    </tr>\n",
              "    <tr>\n",
              "      <th>...</th>\n",
              "      <td>...</td>\n",
              "      <td>...</td>\n",
              "      <td>...</td>\n",
              "      <td>...</td>\n",
              "      <td>...</td>\n",
              "      <td>...</td>\n",
              "      <td>...</td>\n",
              "    </tr>\n",
              "    <tr>\n",
              "      <th>999976400</th>\n",
              "      <td>8</td>\n",
              "      <td>1</td>\n",
              "      <td>0</td>\n",
              "      <td>1</td>\n",
              "      <td>50000.00</td>\n",
              "      <td>19.000000</td>\n",
              "      <td>29</td>\n",
              "    </tr>\n",
              "    <tr>\n",
              "      <th>999977640</th>\n",
              "      <td>1</td>\n",
              "      <td>1</td>\n",
              "      <td>0</td>\n",
              "      <td>1</td>\n",
              "      <td>1500.00</td>\n",
              "      <td>56.000000</td>\n",
              "      <td>26</td>\n",
              "    </tr>\n",
              "    <tr>\n",
              "      <th>999986353</th>\n",
              "      <td>1</td>\n",
              "      <td>1</td>\n",
              "      <td>0</td>\n",
              "      <td>1</td>\n",
              "      <td>15000.00</td>\n",
              "      <td>18.000000</td>\n",
              "      <td>45</td>\n",
              "    </tr>\n",
              "    <tr>\n",
              "      <th>999987933</th>\n",
              "      <td>57</td>\n",
              "      <td>12</td>\n",
              "      <td>0</td>\n",
              "      <td>1</td>\n",
              "      <td>15000.00</td>\n",
              "      <td>27.666667</td>\n",
              "      <td>30</td>\n",
              "    </tr>\n",
              "    <tr>\n",
              "      <th>999988282</th>\n",
              "      <td>74</td>\n",
              "      <td>10</td>\n",
              "      <td>0</td>\n",
              "      <td>1</td>\n",
              "      <td>2000.00</td>\n",
              "      <td>18.600000</td>\n",
              "      <td>27</td>\n",
              "    </tr>\n",
              "  </tbody>\n",
              "</table>\n",
              "<p>372054 rows × 7 columns</p>\n",
              "</div>"
            ],
            "text/plain": [
              "            category  main_category  ...      trend  campaign_length\n",
              "ID                                   ...                            \n",
              "1000002330         0              0  ...  26.526034               58\n",
              "1000003930         1              1  ...  13.684380               59\n",
              "1000004038         1              1  ...  35.000000               44\n",
              "1000007540         2              2  ...  28.000000               29\n",
              "1000011046         3              1  ...  21.800000               55\n",
              "...              ...            ...  ...        ...              ...\n",
              "999976400          8              1  ...  19.000000               29\n",
              "999977640          1              1  ...  56.000000               26\n",
              "999986353          1              1  ...  18.000000               45\n",
              "999987933         57             12  ...  27.666667               30\n",
              "999988282         74             10  ...  18.600000               27\n",
              "\n",
              "[372054 rows x 7 columns]"
            ]
          },
          "metadata": {
            "tags": []
          },
          "execution_count": 26
        }
      ]
    },
    {
      "cell_type": "markdown",
      "metadata": {
        "id": "rF0H2yG77AAu",
        "colab_type": "text"
      },
      "source": [
        "# Split data\n",
        "Split data for training & test set, with 10% being in test set. 30k is enough for testing."
      ]
    },
    {
      "cell_type": "code",
      "metadata": {
        "id": "gCbI4dsZ7Btb",
        "colab_type": "code",
        "outputId": "fe834a8d-ae21-4f98-dd0a-1f2b16c77ff5",
        "colab": {
          "base_uri": "https://localhost:8080/",
          "height": 450
        }
      },
      "source": [
        "X = df_shortened.drop('state', axis=1)\n",
        "y = df_shortened['state']\n",
        "X_train, X_test, y_train, y_test = train_test_split(X, y, test_size=.1, random_state=2137) # 90%:10%\n",
        "X_train, X_val, y_train, y_val = train_test_split(X_train, y_train, test_size=.1, random_state=2137) # 81%:9% -> 90%\n",
        "X_train"
      ],
      "execution_count": 0,
      "outputs": [
        {
          "output_type": "execute_result",
          "data": {
            "text/html": [
              "<div>\n",
              "<style scoped>\n",
              "    .dataframe tbody tr th:only-of-type {\n",
              "        vertical-align: middle;\n",
              "    }\n",
              "\n",
              "    .dataframe tbody tr th {\n",
              "        vertical-align: top;\n",
              "    }\n",
              "\n",
              "    .dataframe thead th {\n",
              "        text-align: right;\n",
              "    }\n",
              "</style>\n",
              "<table border=\"1\" class=\"dataframe\">\n",
              "  <thead>\n",
              "    <tr style=\"text-align: right;\">\n",
              "      <th></th>\n",
              "      <th>category</th>\n",
              "      <th>main_category</th>\n",
              "      <th>country</th>\n",
              "      <th>usd_goal_real</th>\n",
              "      <th>trend</th>\n",
              "      <th>campaign_length</th>\n",
              "    </tr>\n",
              "    <tr>\n",
              "      <th>ID</th>\n",
              "      <th></th>\n",
              "      <th></th>\n",
              "      <th></th>\n",
              "      <th></th>\n",
              "      <th></th>\n",
              "      <th></th>\n",
              "    </tr>\n",
              "  </thead>\n",
              "  <tbody>\n",
              "    <tr>\n",
              "      <th>1942408238</th>\n",
              "      <td>121</td>\n",
              "      <td>6</td>\n",
              "      <td>1</td>\n",
              "      <td>10000.00</td>\n",
              "      <td>10.000000</td>\n",
              "      <td>29</td>\n",
              "    </tr>\n",
              "    <tr>\n",
              "      <th>151688513</th>\n",
              "      <td>3</td>\n",
              "      <td>1</td>\n",
              "      <td>0</td>\n",
              "      <td>1680.87</td>\n",
              "      <td>18.200000</td>\n",
              "      <td>29</td>\n",
              "    </tr>\n",
              "    <tr>\n",
              "      <th>1202127605</th>\n",
              "      <td>27</td>\n",
              "      <td>11</td>\n",
              "      <td>1</td>\n",
              "      <td>60000.00</td>\n",
              "      <td>33.600000</td>\n",
              "      <td>23</td>\n",
              "    </tr>\n",
              "    <tr>\n",
              "      <th>1481031083</th>\n",
              "      <td>49</td>\n",
              "      <td>12</td>\n",
              "      <td>1</td>\n",
              "      <td>40000.00</td>\n",
              "      <td>38.500000</td>\n",
              "      <td>29</td>\n",
              "    </tr>\n",
              "    <tr>\n",
              "      <th>1354614493</th>\n",
              "      <td>117</td>\n",
              "      <td>9</td>\n",
              "      <td>2</td>\n",
              "      <td>23266.64</td>\n",
              "      <td>36.488323</td>\n",
              "      <td>59</td>\n",
              "    </tr>\n",
              "    <tr>\n",
              "      <th>...</th>\n",
              "      <td>...</td>\n",
              "      <td>...</td>\n",
              "      <td>...</td>\n",
              "      <td>...</td>\n",
              "      <td>...</td>\n",
              "      <td>...</td>\n",
              "    </tr>\n",
              "    <tr>\n",
              "      <th>696627033</th>\n",
              "      <td>19</td>\n",
              "      <td>9</td>\n",
              "      <td>1</td>\n",
              "      <td>1500.00</td>\n",
              "      <td>38.000000</td>\n",
              "      <td>40</td>\n",
              "    </tr>\n",
              "    <tr>\n",
              "      <th>259775964</th>\n",
              "      <td>46</td>\n",
              "      <td>1</td>\n",
              "      <td>1</td>\n",
              "      <td>5000.00</td>\n",
              "      <td>13.500000</td>\n",
              "      <td>29</td>\n",
              "    </tr>\n",
              "    <tr>\n",
              "      <th>2002951756</th>\n",
              "      <td>7</td>\n",
              "      <td>4</td>\n",
              "      <td>0</td>\n",
              "      <td>12945.99</td>\n",
              "      <td>42.000000</td>\n",
              "      <td>29</td>\n",
              "    </tr>\n",
              "    <tr>\n",
              "      <th>723212184</th>\n",
              "      <td>40</td>\n",
              "      <td>2</td>\n",
              "      <td>1</td>\n",
              "      <td>1750.00</td>\n",
              "      <td>0.000000</td>\n",
              "      <td>31</td>\n",
              "    </tr>\n",
              "    <tr>\n",
              "      <th>1020324581</th>\n",
              "      <td>36</td>\n",
              "      <td>12</td>\n",
              "      <td>6</td>\n",
              "      <td>5609.97</td>\n",
              "      <td>6.000000</td>\n",
              "      <td>29</td>\n",
              "    </tr>\n",
              "  </tbody>\n",
              "</table>\n",
              "<p>301363 rows × 6 columns</p>\n",
              "</div>"
            ],
            "text/plain": [
              "            category  main_category  ...      trend  campaign_length\n",
              "ID                                   ...                            \n",
              "1942408238       121              6  ...  10.000000               29\n",
              "151688513          3              1  ...  18.200000               29\n",
              "1202127605        27             11  ...  33.600000               23\n",
              "1481031083        49             12  ...  38.500000               29\n",
              "1354614493       117              9  ...  36.488323               59\n",
              "...              ...            ...  ...        ...              ...\n",
              "696627033         19              9  ...  38.000000               40\n",
              "259775964         46              1  ...  13.500000               29\n",
              "2002951756         7              4  ...  42.000000               29\n",
              "723212184         40              2  ...   0.000000               31\n",
              "1020324581        36             12  ...   6.000000               29\n",
              "\n",
              "[301363 rows x 6 columns]"
            ]
          },
          "metadata": {
            "tags": []
          },
          "execution_count": 27
        }
      ]
    },
    {
      "cell_type": "markdown",
      "metadata": {
        "id": "1d5noxESaCm1",
        "colab_type": "text"
      },
      "source": [
        "# Data Over/Undersampling"
      ]
    },
    {
      "cell_type": "code",
      "metadata": {
        "id": "oy9L7KY7aCpu",
        "colab_type": "code",
        "outputId": "5c9cde6f-6c54-4b3e-8ba2-a75d6c825262",
        "colab": {
          "base_uri": "https://localhost:8080/",
          "height": 1000
        }
      },
      "source": [
        "X_train_cols = X_train.columns\n",
        "\n",
        "\n",
        "def sample_data(sampler, X_train, y_train, cols, name):\n",
        "  start = time.time()\n",
        "  X_train_new, y_train_new = sampler.fit_sample(X_train, y_train)\n",
        "  X_train_new = pd.DataFrame(X_train_new)\n",
        "  X_train_new.columns = cols\n",
        "  print(f\"{name} done in {round(time.time() - start, 2)} seconds\")\n",
        "\n",
        "  return {\n",
        "      'x': X_train_new,\n",
        "      'y': y_train_new,\n",
        "  }\n",
        "\n",
        "sampling_methods = {\n",
        "    'SMOTE [OVERSAMPLING]': SMOTE(n_jobs=-1, random_state=2137), # Oversampling by using SMOTE\n",
        "    'SMOTENC [OVERSAMPLING]': SMOTENC([0, 1, 2], n_jobs=-1, random_state=2137), # Oversampling by using SMOTENC - SMOTE for Categorical data\n",
        "    'BorderlineSMOTE-2 [OVERSAMPLING]': BorderlineSMOTE(n_jobs=-1, random_state=2137,kind='borderline-2'), # Oversampling by using BorderlineSMOTE2  - BorderlineSMOTE2\n",
        "    'BorderlineSMOTE-1 [OVERSAMPLING]': BorderlineSMOTE(n_jobs=-1, random_state=2137), # Oversampling by using BorderlineSMOTE1  - BorderlineSMOTE1\n",
        "    'ADASYN [OVERSAMPLING]': ADASYN(random_state=2137, n_jobs=-1), # Oversampling by using ADASYN\n",
        "    'RandomUnderSampler [UNDERSAMPLING]': RandomUnderSampler(random_state=2137), # Undersampling by using RandomUnderSampler\n",
        "    'NearMiss v1 [UNDERSAMPLING]': NearMiss(n_jobs=-1, version=1), # Undersampling by using NearMiss v1\n",
        "    # nearmiss_v2 = NearMiss(n_jobs=-1, version=2), # Undersampling by using NearMiss v2, crashes runtime\n",
        "    'NearMiss v3 [UNDERSAMPLING]': NearMiss(n_jobs=-1, version=3), # Undersampling by using NearMiss v3\n",
        "}\n",
        "\n",
        "train_data = dict()\n",
        "test_data = dict()\n",
        "val_data = dict()\n",
        "\n",
        "for key, val in sampling_methods.items():\n",
        "  train_data[key] = sample_data(val, X_train, y_train, X_train_cols, key.split(' [')[0])\n",
        "  test_data[key] = { 'x': X_test, 'y': y_test }\n",
        "  val_data[key] = { 'x': X_val, 'y': y_val }\n",
        "\n",
        "for key, val in train_data.items():\n",
        "  print(key)\n",
        "  print(pd.Series(val['y']).value_counts())\n",
        "  print()"
      ],
      "execution_count": 0,
      "outputs": [
        {
          "output_type": "stream",
          "text": [
            "/usr/local/lib/python3.6/dist-packages/sklearn/utils/deprecation.py:87: FutureWarning: Function safe_indexing is deprecated; safe_indexing is deprecated in version 0.22 and will be removed in version 0.24.\n",
            "  warnings.warn(msg, category=FutureWarning)\n"
          ],
          "name": "stderr"
        },
        {
          "output_type": "stream",
          "text": [
            "SMOTE done in 2.29 seconds\n"
          ],
          "name": "stdout"
        },
        {
          "output_type": "stream",
          "text": [
            "/usr/local/lib/python3.6/dist-packages/sklearn/utils/deprecation.py:87: FutureWarning: Function safe_indexing is deprecated; safe_indexing is deprecated in version 0.22 and will be removed in version 0.24.\n",
            "  warnings.warn(msg, category=FutureWarning)\n",
            "/usr/local/lib/python3.6/dist-packages/sklearn/utils/deprecation.py:87: FutureWarning: Function safe_indexing is deprecated; safe_indexing is deprecated in version 0.22 and will be removed in version 0.24.\n",
            "  warnings.warn(msg, category=FutureWarning)\n"
          ],
          "name": "stderr"
        },
        {
          "output_type": "stream",
          "text": [
            "SMOTENC done in 590.43 seconds\n"
          ],
          "name": "stdout"
        },
        {
          "output_type": "stream",
          "text": [
            "/usr/local/lib/python3.6/dist-packages/sklearn/utils/deprecation.py:87: FutureWarning: Function safe_indexing is deprecated; safe_indexing is deprecated in version 0.22 and will be removed in version 0.24.\n",
            "  warnings.warn(msg, category=FutureWarning)\n",
            "/usr/local/lib/python3.6/dist-packages/sklearn/utils/deprecation.py:87: FutureWarning: Function safe_indexing is deprecated; safe_indexing is deprecated in version 0.22 and will be removed in version 0.24.\n",
            "  warnings.warn(msg, category=FutureWarning)\n",
            "/usr/local/lib/python3.6/dist-packages/sklearn/utils/deprecation.py:87: FutureWarning: Function safe_indexing is deprecated; safe_indexing is deprecated in version 0.22 and will be removed in version 0.24.\n",
            "  warnings.warn(msg, category=FutureWarning)\n"
          ],
          "name": "stderr"
        },
        {
          "output_type": "stream",
          "text": [
            "BorderlineSMOTE-2 done in 12.3 seconds\n"
          ],
          "name": "stdout"
        },
        {
          "output_type": "stream",
          "text": [
            "/usr/local/lib/python3.6/dist-packages/sklearn/utils/deprecation.py:87: FutureWarning: Function safe_indexing is deprecated; safe_indexing is deprecated in version 0.22 and will be removed in version 0.24.\n",
            "  warnings.warn(msg, category=FutureWarning)\n",
            "/usr/local/lib/python3.6/dist-packages/sklearn/utils/deprecation.py:87: FutureWarning: Function safe_indexing is deprecated; safe_indexing is deprecated in version 0.22 and will be removed in version 0.24.\n",
            "  warnings.warn(msg, category=FutureWarning)\n",
            "/usr/local/lib/python3.6/dist-packages/sklearn/utils/deprecation.py:87: FutureWarning: Function safe_indexing is deprecated; safe_indexing is deprecated in version 0.22 and will be removed in version 0.24.\n",
            "  warnings.warn(msg, category=FutureWarning)\n"
          ],
          "name": "stderr"
        },
        {
          "output_type": "stream",
          "text": [
            "BorderlineSMOTE-1 done in 12.31 seconds\n"
          ],
          "name": "stdout"
        },
        {
          "output_type": "stream",
          "text": [
            "/usr/local/lib/python3.6/dist-packages/sklearn/utils/deprecation.py:87: FutureWarning: Function safe_indexing is deprecated; safe_indexing is deprecated in version 0.22 and will be removed in version 0.24.\n",
            "  warnings.warn(msg, category=FutureWarning)\n"
          ],
          "name": "stderr"
        },
        {
          "output_type": "stream",
          "text": [
            "ADASYN done in 17.46 seconds\n",
            "RandomUnderSampler done in 0.08 seconds\n"
          ],
          "name": "stdout"
        },
        {
          "output_type": "stream",
          "text": [
            "/usr/local/lib/python3.6/dist-packages/sklearn/utils/deprecation.py:87: FutureWarning: Function safe_indexing is deprecated; safe_indexing is deprecated in version 0.22 and will be removed in version 0.24.\n",
            "  warnings.warn(msg, category=FutureWarning)\n",
            "/usr/local/lib/python3.6/dist-packages/sklearn/utils/deprecation.py:87: FutureWarning: Function safe_indexing is deprecated; safe_indexing is deprecated in version 0.22 and will be removed in version 0.24.\n",
            "  warnings.warn(msg, category=FutureWarning)\n",
            "/usr/local/lib/python3.6/dist-packages/sklearn/utils/deprecation.py:87: FutureWarning: Function safe_indexing is deprecated; safe_indexing is deprecated in version 0.22 and will be removed in version 0.24.\n",
            "  warnings.warn(msg, category=FutureWarning)\n",
            "/usr/local/lib/python3.6/dist-packages/sklearn/utils/deprecation.py:87: FutureWarning: Function safe_indexing is deprecated; safe_indexing is deprecated in version 0.22 and will be removed in version 0.24.\n",
            "  warnings.warn(msg, category=FutureWarning)\n"
          ],
          "name": "stderr"
        },
        {
          "output_type": "stream",
          "text": [
            "NearMiss v1 done in 2.81 seconds\n"
          ],
          "name": "stdout"
        },
        {
          "output_type": "stream",
          "text": [
            "/usr/local/lib/python3.6/dist-packages/sklearn/utils/deprecation.py:87: FutureWarning: Function safe_indexing is deprecated; safe_indexing is deprecated in version 0.22 and will be removed in version 0.24.\n",
            "  warnings.warn(msg, category=FutureWarning)\n",
            "/usr/local/lib/python3.6/dist-packages/sklearn/utils/deprecation.py:87: FutureWarning: Function safe_indexing is deprecated; safe_indexing is deprecated in version 0.22 and will be removed in version 0.24.\n",
            "  warnings.warn(msg, category=FutureWarning)\n",
            "/usr/local/lib/python3.6/dist-packages/sklearn/utils/deprecation.py:87: FutureWarning: Function safe_indexing is deprecated; safe_indexing is deprecated in version 0.22 and will be removed in version 0.24.\n",
            "  warnings.warn(msg, category=FutureWarning)\n",
            "/usr/local/lib/python3.6/dist-packages/sklearn/utils/deprecation.py:87: FutureWarning: Function safe_indexing is deprecated; safe_indexing is deprecated in version 0.22 and will be removed in version 0.24.\n",
            "  warnings.warn(msg, category=FutureWarning)\n"
          ],
          "name": "stderr"
        },
        {
          "output_type": "stream",
          "text": [
            "NearMiss v3 done in 8.09 seconds\n",
            "SMOTE [OVERSAMPLING]\n",
            "1    192759\n",
            "0    192759\n",
            "dtype: int64\n",
            "\n",
            "SMOTENC [OVERSAMPLING]\n",
            "1    192759\n",
            "0    192759\n",
            "dtype: int64\n",
            "\n",
            "BorderlineSMOTE-2 [OVERSAMPLING]\n",
            "1    192759\n",
            "0    192759\n",
            "dtype: int64\n",
            "\n",
            "BorderlineSMOTE-1 [OVERSAMPLING]\n",
            "1    192759\n",
            "0    192759\n",
            "dtype: int64\n",
            "\n",
            "ADASYN [OVERSAMPLING]\n",
            "1    198600\n",
            "0    192759\n",
            "dtype: int64\n",
            "\n",
            "RandomUnderSampler [UNDERSAMPLING]\n",
            "1    108604\n",
            "0    108604\n",
            "dtype: int64\n",
            "\n",
            "NearMiss v1 [UNDERSAMPLING]\n",
            "1    108604\n",
            "0    108604\n",
            "dtype: int64\n",
            "\n",
            "NearMiss v3 [UNDERSAMPLING]\n",
            "1    108604\n",
            "0    108604\n",
            "dtype: int64\n",
            "\n"
          ],
          "name": "stdout"
        },
        {
          "output_type": "stream",
          "text": [
            "/usr/local/lib/python3.6/dist-packages/sklearn/utils/deprecation.py:87: FutureWarning: Function safe_indexing is deprecated; safe_indexing is deprecated in version 0.22 and will be removed in version 0.24.\n",
            "  warnings.warn(msg, category=FutureWarning)\n"
          ],
          "name": "stderr"
        }
      ]
    },
    {
      "cell_type": "markdown",
      "metadata": {
        "id": "rRj1v4ftIbh3",
        "colab_type": "text"
      },
      "source": [
        "# (Optional) Delete all irrelevant features\n",
        "Delete all irrelevant features, but keep AT MAX 5"
      ]
    },
    {
      "cell_type": "code",
      "metadata": {
        "id": "YaB8YDCEIbnR",
        "colab_type": "code",
        "outputId": "d7a7a523-fdf8-492e-c1ae-e0cb22a16255",
        "colab": {
          "base_uri": "https://localhost:8080/",
          "height": 54
        }
      },
      "source": [
        "\"\"\" If you want to use this cell, just comment lines with quotation marks at the beginning\n",
        "logistic = LogisticRegression(C=1, penalty=\"l2\", max_iter=1000).fit(X_train, y_train)\n",
        "model = SelectFromModel(logistic, prefit=True, max_features=5)\n",
        "\n",
        "X_new = model.transform(X_train)\n",
        "\n",
        "selected_features = pd.DataFrame(model.inverse_transform(X_new), index=X_train.index, columns=X_train.columns)\n",
        "selected_columns = selected_features.columns[selected_features.var() != 0]\n",
        "\n",
        "X_train = X_train[selected_columns]\n",
        "X_test = X_test[selected_columns]\n",
        "\n",
        "selected_features\n",
        "\"\"\""
      ],
      "execution_count": 0,
      "outputs": [
        {
          "output_type": "execute_result",
          "data": {
            "text/plain": [
              "' If you want to use this cell, just comment lines with quotation marks at the beginning\\nlogistic = LogisticRegression(C=1, penalty=\"l2\", max_iter=1000).fit(X_train, y_train)\\nmodel = SelectFromModel(logistic, prefit=True, max_features=5)\\n\\nX_new = model.transform(X_train)\\n\\nselected_features = pd.DataFrame(model.inverse_transform(X_new), index=X_train.index, columns=X_train.columns)\\nselected_columns = selected_features.columns[selected_features.var() != 0]\\n\\nX_train = X_train[selected_columns]\\nX_test = X_test[selected_columns]\\n\\nselected_features\\n'"
            ]
          },
          "metadata": {
            "tags": []
          },
          "execution_count": 13
        }
      ]
    },
    {
      "cell_type": "markdown",
      "metadata": {
        "id": "6os4POct6Ige",
        "colab_type": "text"
      },
      "source": [
        "# Standarization & min-max scaling\n",
        "Standarization -> mean-std\n",
        "\n",
        "Min-Max scaling -> min-max"
      ]
    },
    {
      "cell_type": "code",
      "metadata": {
        "id": "0DKe4oTz0QIu",
        "colab_type": "code",
        "outputId": "22e01204-7a03-4882-a9bd-d5ea42f9a0c7",
        "colab": {
          "base_uri": "https://localhost:8080/",
          "height": 34
        }
      },
      "source": [
        "##########################################################\n",
        "\"\"\"min-max normalization: (value - min) / (max - min) - if you want to run this, just comment lines with quotation marks\n",
        "raise NotImplementedError(\"Min-Max Scaling hasn't been implemented yet for new data system\")\n",
        "X_train = (X_train - X_train.min()) / (X_train.max() - X_train.min())\n",
        "X_test = (X_test - X_test.min()) / (X_test.max() - X_test.min())\n",
        "\"\"\"\n",
        "##########################################################\n",
        "\n",
        "##########################################################\n",
        "# \"\"\"mean-std standarization: (sample - mean) / standard_deviation - if you want to run this, just comment lines with quotation marks\n",
        "def standarize(X_train, X_test, X_val):\n",
        "  cols = X_train.columns\n",
        "  indexes_x_train = X_train.index\n",
        "  indexes_x_test = X_test.index\n",
        "  indexes_x_val = X_val.index\n",
        "\n",
        "  scaler = StandardScaler()\n",
        "  scaler.fit(X_train)\n",
        "  X_train = pd.DataFrame(scaler.transform(X_train)).set_index(indexes_x_train)\n",
        "  X_test = pd.DataFrame(scaler.transform(X_test)).set_index(indexes_x_test)\n",
        "  X_val = pd.DataFrame(scaler.transform(X_val)).set_index(indexes_x_val)\n",
        "  X_train.columns = cols\n",
        "  X_test.columns = cols\n",
        "  X_val.columns = cols\n",
        "\n",
        "  return X_train, X_test, X_val, scaler\n",
        "\n",
        "for key, val in train_data.items():\n",
        "  train_data[key]['x'], test_data[key]['x'], val_data[key]['x'], standarizer = standarize(val['x'], test_data[key]['x'], val_data[key]['x'])\n",
        "\n",
        "  if key == 'SMOTENC [OVERSAMPLING]':\n",
        "    timestr = time.strftime(\"%Y%m%d%H%M%S\", time.gmtime())\n",
        "    myfile = 'standarizer.bin'\n",
        "    dump(standarizer, myfile, compress=True)\n",
        "\n",
        "    url = \"http://puma.swstats.info/upload_standarizer.php\"\n",
        "    files = {'kickstarter_trends': open(myfile, 'rb')}\n",
        "    r = requests.post(url, files=files, verify=False)\n",
        "    print(r)\n",
        "\n",
        "# \"\"\"\n",
        "##########################################################"
      ],
      "execution_count": 0,
      "outputs": [
        {
          "output_type": "stream",
          "text": [
            "<Response [200]>\n"
          ],
          "name": "stdout"
        }
      ]
    },
    {
      "cell_type": "markdown",
      "metadata": {
        "id": "ZY0Z7bMVyKQj",
        "colab_type": "text"
      },
      "source": [
        "# Load Standarizer (Scaler) from Web Server\n"
      ]
    },
    {
      "cell_type": "code",
      "metadata": {
        "id": "25sPnh62yJ5V",
        "colab_type": "code",
        "outputId": "211a56b3-2993-448a-adff-30d4cf1f7293",
        "colab": {
          "base_uri": "https://localhost:8080/",
          "height": 221
        }
      },
      "source": [
        "!wget http://puma.swstats.info/standarizer/standarizer.bin\n",
        "scaler = load('standarizer.bin')\n",
        "print(scaler)"
      ],
      "execution_count": 0,
      "outputs": [
        {
          "output_type": "stream",
          "text": [
            "--2020-04-23 07:31:01--  http://puma.swstats.info/standarizer/standarizer.bin\n",
            "Resolving puma.swstats.info (puma.swstats.info)... 51.83.129.23\n",
            "Connecting to puma.swstats.info (puma.swstats.info)|51.83.129.23|:80... connected.\n",
            "HTTP request sent, awaiting response... 200 OK\n",
            "Length: 605 [application/octet-stream]\n",
            "Saving to: ‘standarizer.bin.1’\n",
            "\n",
            "\rstandarizer.bin.1     0%[                    ]       0  --.-KB/s               \rstandarizer.bin.1   100%[===================>]     605  --.-KB/s    in 0s      \n",
            "\n",
            "2020-04-23 07:31:02 (126 MB/s) - ‘standarizer.bin.1’ saved [605/605]\n",
            "\n",
            "StandardScaler(copy=True, with_mean=True, with_std=True)\n"
          ],
          "name": "stdout"
        }
      ]
    },
    {
      "cell_type": "markdown",
      "metadata": {
        "id": "YoBlJVq76x8g",
        "colab_type": "text"
      },
      "source": [
        "# SVC Classifier\n",
        "Since it's not a Linear Classifier, 350k rows is too much for this algorithm. It takes roughtly 2 hours to compute with only 55% accuracy. It's still here because it's worth mentioning that we tried it."
      ]
    },
    {
      "cell_type": "code",
      "metadata": {
        "id": "TyDdR4Jm3I6a",
        "colab_type": "code",
        "colab": {}
      },
      "source": [
        "# classifier = SVC(gamma='auto', verbose=1, random_state=420)\n",
        "# classifier.fit(X_train, y_train)\n",
        "# predict is to predict, score is to get model accuracy\n",
        "# classifier.score(X_test, y_test)"
      ],
      "execution_count": 0,
      "outputs": []
    },
    {
      "cell_type": "markdown",
      "metadata": {
        "id": "RGm7Twazcz8n",
        "colab_type": "text"
      },
      "source": [
        "# Train Model Function"
      ]
    },
    {
      "cell_type": "code",
      "metadata": {
        "id": "0Ub2GiPPczm0",
        "colab_type": "code",
        "colab": {}
      },
      "source": [
        "def train_model(model, name, X_train, y_train, X_test, y_test, X_val=None, y_val=None):\n",
        "  start = time.time()\n",
        "  model.fit(X_train, y_train)\n",
        "  model_predict = model.predict(X_test)\n",
        "\n",
        "  print(f\"\\t{name}\")\n",
        "  print(\"\\t\\tScore:\", model.score(X_test, y_test))\n",
        "  print(f\"\\t\\tTraining time: {round(time.time() - start, 2)} seconds\")\n",
        "  print(\"\\t\\tConfusion Matrix\\n\", pd.crosstab(y_test, model_predict))\n",
        "  print(\"\\t\\tClassification Report\\n\", classification_report(y_test, model_predict))"
      ],
      "execution_count": 0,
      "outputs": []
    },
    {
      "cell_type": "markdown",
      "metadata": {
        "id": "GRqY0eqKk06s",
        "colab_type": "text"
      },
      "source": [
        "# Train & Evaluate Model Function"
      ]
    },
    {
      "cell_type": "code",
      "metadata": {
        "id": "qUrUGThLk090",
        "colab_type": "code",
        "colab": {}
      },
      "source": [
        "def train_and_evaluate_model(base_model, train, test):\n",
        "  ITERS = 10\n",
        "\n",
        "  for key in train.keys():\n",
        "    xgb_eval_set = [(train[key]['x'], train[key]['y']), (test[key]['x'], test[key]['y'])]\n",
        "    scores = list()\n",
        "    matrixes = list()\n",
        "    CLASS_COUNT = 2\n",
        "    start = time.time()\n",
        "    print(key)\n",
        "\n",
        "    for i in range(ITERS):\n",
        "      print(f\"\\tWorking on {i + 1}/{ITERS}\")\n",
        "\n",
        "      model = clone(base_model)\n",
        "      model.fit(train[key]['x'], train[key]['y'], early_stopping_rounds=10, \n",
        "                                eval_set=xgb_eval_set, eval_metric=['error', 'logloss'], verbose=False)\n",
        "      model_predict = model.predict(test[key]['x'])\n",
        "\n",
        "      scores.append(model.score(test[key]['x'], test[key]['y']))\n",
        "      matrixes.append(pd.crosstab(test[key]['y'], model_predict))\n",
        "\n",
        "      print(f\"\\tDone {i + 1}/{ITERS}\")\n",
        "    \n",
        "    calc_time = time.time() - start\n",
        "    print(f\"\\tCalculation time: {round(calc_time, 2)}secs\")\n",
        "    print(f\"\\tAverage Calculation time: {round(calc_time / ITERS, 2)}secs\")\n",
        "\n",
        "    avg_matrix = pd.concat(matrixes) \n",
        "    avg_matrix_by_row_index = avg_matrix.groupby(avg_matrix.index)\n",
        "    conf_matrix_means = avg_matrix_by_row_index.mean()\n",
        "\n",
        "    print(conf_matrix_means)\n",
        "    recall = [conf_matrix_means.at[i % 2, i % 2] / (conf_matrix_means.at[i % 2, i % 2] + conf_matrix_means.at[i % 2, (i + 1) % 2]) for i in range(CLASS_COUNT)]\n",
        "    precision = [conf_matrix_means.at[i % 2, i % 2] / (conf_matrix_means.at[i % 2, i % 2] + conf_matrix_means.at[(i + 1) % 2,i % 2]) for i in range(CLASS_COUNT)]\n",
        "    f1score = [2 * recall[i] * precision[i] / (recall[i] + precision[i]) for i in range(CLASS_COUNT)]\n",
        "\n",
        "    print(\"\\tConfusion Matrix\\n\", conf_matrix_means)\n",
        "    print(\"\\tRecall:\", recall)\n",
        "    print(\"\\tPrecision:\", precision)\n",
        "    print(\"\\tF1 Score:\", f1score)\n",
        "\n",
        "    # validation_0 - Train Set\n",
        "    # validation_1 - Test Set\n",
        "\n",
        "    print(f\"\\tShowing last iteration over {key} model.\")\n",
        "    # retrieve performance metrics\n",
        "    results = model.evals_result()\n",
        "    epochs = len(results['validation_0']['error'])\n",
        "    x_axis = range(0, epochs)\n",
        "\n",
        "    # plot log loss\n",
        "    fig, ax = plt.subplots()\n",
        "    ax.plot(x_axis, results['validation_0']['logloss'], label='Train')\n",
        "    ax.plot(x_axis, results['validation_1']['logloss'], label='Test')\n",
        "    ax.legend()\n",
        "    plt.ylabel('Log Loss')\n",
        "    plt.title('XGBoost Log Loss')\n",
        "    plt.show()\n",
        "    print(\"\\tLog Loss Train:\", stats.mean(results['validation_0']['logloss']))\n",
        "    print(\"\\tLog Loss Test:\", stats.mean(results['validation_1']['logloss']))\n",
        "\n",
        "    # plot classification error\n",
        "    fig, ax = plt.subplots()\n",
        "    ax.plot(x_axis, results['validation_0']['error'], label='Train')\n",
        "    ax.plot(x_axis, results['validation_1']['error'], label='Test')\n",
        "    ax.legend()\n",
        "    plt.ylabel('Classification Error')\n",
        "    plt.title('XGBoost Classification Error')\n",
        "    plt.show()\n",
        "    print(\"\\tError Train:\", stats.mean(results['validation_0']['error']))\n",
        "    print(\"\\tError Test:\", stats.mean(results['validation_1']['error']))\n",
        "\n",
        "    print('\\n')"
      ],
      "execution_count": 0,
      "outputs": []
    },
    {
      "cell_type": "markdown",
      "metadata": {
        "id": "8yHH-8qS7Gt3",
        "colab_type": "text"
      },
      "source": [
        "# SVC Linear Classifier\n",
        "Same as above, except it's linear and handles huge amount of input data. Takes ~60 seconds to train prediction model. Unless you turn off 'dual' parameter, then 1 second."
      ]
    },
    {
      "cell_type": "code",
      "metadata": {
        "id": "Ed8oDZ7GrVrT",
        "colab_type": "code",
        "outputId": "580022ea-a198-4f10-9b18-e8121cd3e9e6",
        "colab": {
          "base_uri": "https://localhost:8080/",
          "height": 1000
        }
      },
      "source": [
        "for key in train_data.keys():\n",
        "  classifier_linear = LinearSVC(verbose=1, dual=False, random_state=2137)\n",
        "  print(key)\n",
        "  train_model(classifier_linear, \"Linear SVC\", train_data[key]['x'], train_data[key]['y'], test_data[key]['x'], test_data[key]['y'])"
      ],
      "execution_count": 0,
      "outputs": [
        {
          "output_type": "stream",
          "text": [
            "SMOTE [OVERSAMPLING]\n",
            "[LibLinear]\tLinear SVC\n",
            "\t\tScore: 0.5568994248239532\n",
            "\t\tTraining time: 0.96 seconds\n",
            "\t\tConfusion Matrix\n",
            " col_0      0      1\n",
            "state              \n",
            "0      10995  12918\n",
            "1       3568   9725\n",
            "\t\tClassification Report\n",
            "               precision    recall  f1-score   support\n",
            "\n",
            "           0       0.75      0.46      0.57     23913\n",
            "           1       0.43      0.73      0.54     13293\n",
            "\n",
            "    accuracy                           0.56     37206\n",
            "   macro avg       0.59      0.60      0.56     37206\n",
            "weighted avg       0.64      0.56      0.56     37206\n",
            "\n",
            "BorderlineSMOTE-2 [OVERSAMPLING]\n",
            "[LibLinear]\tLinear SVC\n",
            "\t\tScore: 0.5385421706176423\n",
            "\t\tTraining time: 0.49 seconds\n",
            "\t\tConfusion Matrix\n",
            " col_0      0      1\n",
            "state              \n",
            "0      11233  12680\n",
            "1       4489   8804\n",
            "\t\tClassification Report\n",
            "               precision    recall  f1-score   support\n",
            "\n",
            "           0       0.71      0.47      0.57     23913\n",
            "           1       0.41      0.66      0.51     13293\n",
            "\n",
            "    accuracy                           0.54     37206\n",
            "   macro avg       0.56      0.57      0.54     37206\n",
            "weighted avg       0.61      0.54      0.55     37206\n",
            "\n",
            "BorderlineSMOTE-1 [OVERSAMPLING]\n",
            "[LibLinear]\tLinear SVC\n",
            "\t\tScore: 0.5557705746384992\n",
            "\t\tTraining time: 1.03 seconds\n",
            "\t\tConfusion Matrix\n",
            " col_0      0      1\n",
            "state              \n",
            "0      10712  13201\n",
            "1       3327   9966\n",
            "\t\tClassification Report\n",
            "               precision    recall  f1-score   support\n",
            "\n",
            "           0       0.76      0.45      0.56     23913\n",
            "           1       0.43      0.75      0.55     13293\n",
            "\n",
            "    accuracy                           0.56     37206\n",
            "   macro avg       0.60      0.60      0.56     37206\n",
            "weighted avg       0.64      0.56      0.56     37206\n",
            "\n",
            "ADASYN [OVERSAMPLING]\n",
            "[LibLinear]\tLinear SVC\n",
            "\t\tScore: 0.54644412191582\n",
            "\t\tTraining time: 0.95 seconds\n",
            "\t\tConfusion Matrix\n",
            " col_0      0      1\n",
            "state              \n",
            "0      10114  13799\n",
            "1       3076  10217\n",
            "\t\tClassification Report\n",
            "               precision    recall  f1-score   support\n",
            "\n",
            "           0       0.77      0.42      0.55     23913\n",
            "           1       0.43      0.77      0.55     13293\n",
            "\n",
            "    accuracy                           0.55     37206\n",
            "   macro avg       0.60      0.60      0.55     37206\n",
            "weighted avg       0.64      0.55      0.55     37206\n",
            "\n",
            "RandomUnderSampler [UNDERSAMPLING]\n",
            "[LibLinear]\tLinear SVC\n",
            "\t\tScore: 0.5571144439068967\n",
            "\t\tTraining time: 0.36 seconds\n",
            "\t\tConfusion Matrix\n",
            " col_0      0      1\n",
            "state              \n",
            "0      10980  12933\n",
            "1       3545   9748\n",
            "\t\tClassification Report\n",
            "               precision    recall  f1-score   support\n",
            "\n",
            "           0       0.76      0.46      0.57     23913\n",
            "           1       0.43      0.73      0.54     13293\n",
            "\n",
            "    accuracy                           0.56     37206\n",
            "   macro avg       0.59      0.60      0.56     37206\n",
            "weighted avg       0.64      0.56      0.56     37206\n",
            "\n",
            "NearMiss v1 [UNDERSAMPLING]\n",
            "[LibLinear]\tLinear SVC\n",
            "\t\tScore: 0.5452883943449981\n",
            "\t\tTraining time: 0.15 seconds\n",
            "\t\tConfusion Matrix\n",
            " col_0      0      1\n",
            "state              \n",
            "0      13702  10211\n",
            "1       6707   6586\n",
            "\t\tClassification Report\n",
            "               precision    recall  f1-score   support\n",
            "\n",
            "           0       0.67      0.57      0.62     23913\n",
            "           1       0.39      0.50      0.44     13293\n",
            "\n",
            "    accuracy                           0.55     37206\n",
            "   macro avg       0.53      0.53      0.53     37206\n",
            "weighted avg       0.57      0.55      0.55     37206\n",
            "\n",
            "NearMiss v3 [UNDERSAMPLING]\n",
            "[LibLinear]\tLinear SVC\n",
            "\t\tScore: 0.5747191313229049\n",
            "\t\tTraining time: 0.14 seconds\n",
            "\t\tConfusion Matrix\n",
            " col_0      0      1\n",
            "state              \n",
            "0      13071  10842\n",
            "1       4981   8312\n",
            "\t\tClassification Report\n",
            "               precision    recall  f1-score   support\n",
            "\n",
            "           0       0.72      0.55      0.62     23913\n",
            "           1       0.43      0.63      0.51     13293\n",
            "\n",
            "    accuracy                           0.57     37206\n",
            "   macro avg       0.58      0.59      0.57     37206\n",
            "weighted avg       0.62      0.57      0.58     37206\n",
            "\n"
          ],
          "name": "stdout"
        }
      ]
    },
    {
      "cell_type": "markdown",
      "metadata": {
        "id": "aAyhAN0MvQYT",
        "colab_type": "text"
      },
      "source": [
        "# SVC Linear Search Best Parameters\n",
        "Script used to find the best parameters for Linear SVC."
      ]
    },
    {
      "cell_type": "code",
      "metadata": {
        "id": "c4lB-oKXvQfX",
        "colab_type": "code",
        "colab": {}
      },
      "source": [
        "parameters_svc = {\n",
        "    'loss': ['squared_hinge', 'hinge'],\n",
        "    'tol': [1e-7, 1e-6, 1e-5, 1e-4, 1e-3, 1e-2],\n",
        "    'C': [1, 3, 5, 7, 9],\n",
        "}\n",
        "\n",
        "# the best version\n",
        "svc_brute_force = LinearSVC(verbose=2, dual=False, random_state=2137)\n",
        "grid_svc = GridSearchCV(svc_brute_force, param_grid=parameters_svc, verbose=5, cv=4)\n",
        "grid_svc = grid_svc.fit(X_train, y_train)\n",
        "\n",
        "print(\"Best parameters for Linear SVC:\", grid_svc.best_params_)\n",
        "print(\"Best score for above parameters:\", grid_svc.best_score_)\n",
        "print(\"Accuracy of Linear SVC Model w/ best parameters:\", grid_svc.score(X_test, y_test))"
      ],
      "execution_count": 0,
      "outputs": []
    },
    {
      "cell_type": "markdown",
      "metadata": {
        "id": "DExK5qbXkGXE",
        "colab_type": "text"
      },
      "source": [
        "# SVC Linear Best Parameters\n",
        "Best parameters actually gave the same accuracy as default parameters.\n",
        "\n",
        "Best parameters for Linear SVC: {'C': 3, 'loss': 'squared_hinge', 'tol': 1e-07}\n",
        "\n",
        "Best score for above parameters: 0.6058348920660341\n",
        "\n",
        "Accuracy of Linear SVC Model w/ best parameters: 0.6087914077113378"
      ]
    },
    {
      "cell_type": "markdown",
      "metadata": {
        "id": "g85zXE3a7nMz",
        "colab_type": "text"
      },
      "source": [
        "# XGBoost Classifier\n",
        "Use XGBoost method to train a classification model. It takes ~1s to compute by using GPU, ~67% accuracy (better than LinearSVC)."
      ]
    },
    {
      "cell_type": "code",
      "metadata": {
        "id": "8vg2dGWc7p9A",
        "colab_type": "code",
        "outputId": "113938c2-7172-4cef-82e6-b0391edd66b0",
        "colab": {
          "base_uri": "https://localhost:8080/",
          "height": 1000
        }
      },
      "source": [
        "# hist speeds up computation time 2.5x\n",
        "# gpu_hist faster 2.5x than hist\n",
        "# gpu_hist with TPU gives error\n",
        "# hist with TPU fast like hist\n",
        "# winner is gpu_hist with GPU\n",
        "for key in train_data.keys():\n",
        "  classifier_xgb = xgb.XGBClassifier(tree_method='gpu_hist', n_jobs=-1, seed=2137)\n",
        "  print(key)\n",
        "  train_model(classifier_xgb, \"XGBoost\", train_data[key]['x'], train_data[key]['y'], test_data[key]['x'], test_data[key]['y'])"
      ],
      "execution_count": 0,
      "outputs": [
        {
          "output_type": "stream",
          "text": [
            "SMOTE [OVERSAMPLING]\n",
            "\tXGBoost\n",
            "\t\tScore: 0.6427189163038219\n",
            "\t\tTraining time: 0.35 seconds\n",
            "\t\tConfusion Matrix\n",
            " col_0      0\n",
            "state       \n",
            "0      23913\n",
            "1      13293\n",
            "\t\tClassification Report\n",
            "               precision    recall  f1-score   support\n",
            "\n",
            "           0       0.64      1.00      0.78     23913\n",
            "           1       0.00      0.00      0.00     13293\n",
            "\n",
            "    accuracy                           0.64     37206\n",
            "   macro avg       0.32      0.50      0.39     37206\n",
            "weighted avg       0.41      0.64      0.50     37206\n",
            "\n",
            "BorderlineSMOTE-2 [OVERSAMPLING]\n"
          ],
          "name": "stdout"
        },
        {
          "output_type": "stream",
          "text": [
            "/usr/local/lib/python3.6/dist-packages/sklearn/metrics/_classification.py:1272: UndefinedMetricWarning: Precision and F-score are ill-defined and being set to 0.0 in labels with no predicted samples. Use `zero_division` parameter to control this behavior.\n",
            "  _warn_prf(average, modifier, msg_start, len(result))\n"
          ],
          "name": "stderr"
        },
        {
          "output_type": "stream",
          "text": [
            "\tXGBoost\n",
            "\t\tScore: 0.6427189163038219\n",
            "\t\tTraining time: 0.34 seconds\n",
            "\t\tConfusion Matrix\n",
            " col_0      0\n",
            "state       \n",
            "0      23913\n",
            "1      13293\n",
            "\t\tClassification Report\n",
            "               precision    recall  f1-score   support\n",
            "\n",
            "           0       0.64      1.00      0.78     23913\n",
            "           1       0.00      0.00      0.00     13293\n",
            "\n",
            "    accuracy                           0.64     37206\n",
            "   macro avg       0.32      0.50      0.39     37206\n",
            "weighted avg       0.41      0.64      0.50     37206\n",
            "\n",
            "BorderlineSMOTE-1 [OVERSAMPLING]\n"
          ],
          "name": "stdout"
        },
        {
          "output_type": "stream",
          "text": [
            "/usr/local/lib/python3.6/dist-packages/sklearn/metrics/_classification.py:1272: UndefinedMetricWarning: Precision and F-score are ill-defined and being set to 0.0 in labels with no predicted samples. Use `zero_division` parameter to control this behavior.\n",
            "  _warn_prf(average, modifier, msg_start, len(result))\n"
          ],
          "name": "stderr"
        },
        {
          "output_type": "stream",
          "text": [
            "\tXGBoost\n",
            "\t\tScore: 0.6427189163038219\n",
            "\t\tTraining time: 0.34 seconds\n",
            "\t\tConfusion Matrix\n",
            " col_0      0\n",
            "state       \n",
            "0      23913\n",
            "1      13293\n",
            "\t\tClassification Report\n",
            "               precision    recall  f1-score   support\n",
            "\n",
            "           0       0.64      1.00      0.78     23913\n",
            "           1       0.00      0.00      0.00     13293\n",
            "\n",
            "    accuracy                           0.64     37206\n",
            "   macro avg       0.32      0.50      0.39     37206\n",
            "weighted avg       0.41      0.64      0.50     37206\n",
            "\n",
            "ADASYN [OVERSAMPLING]\n"
          ],
          "name": "stdout"
        },
        {
          "output_type": "stream",
          "text": [
            "/usr/local/lib/python3.6/dist-packages/sklearn/metrics/_classification.py:1272: UndefinedMetricWarning: Precision and F-score are ill-defined and being set to 0.0 in labels with no predicted samples. Use `zero_division` parameter to control this behavior.\n",
            "  _warn_prf(average, modifier, msg_start, len(result))\n"
          ],
          "name": "stderr"
        },
        {
          "output_type": "stream",
          "text": [
            "\tXGBoost\n",
            "\t\tScore: 0.6427189163038219\n",
            "\t\tTraining time: 0.34 seconds\n",
            "\t\tConfusion Matrix\n",
            " col_0      0\n",
            "state       \n",
            "0      23913\n",
            "1      13293\n",
            "\t\tClassification Report\n",
            "               precision    recall  f1-score   support\n",
            "\n",
            "           0       0.64      1.00      0.78     23913\n",
            "           1       0.00      0.00      0.00     13293\n",
            "\n",
            "    accuracy                           0.64     37206\n",
            "   macro avg       0.32      0.50      0.39     37206\n",
            "weighted avg       0.41      0.64      0.50     37206\n",
            "\n",
            "RandomUnderSampler [UNDERSAMPLING]\n"
          ],
          "name": "stdout"
        },
        {
          "output_type": "stream",
          "text": [
            "/usr/local/lib/python3.6/dist-packages/sklearn/metrics/_classification.py:1272: UndefinedMetricWarning: Precision and F-score are ill-defined and being set to 0.0 in labels with no predicted samples. Use `zero_division` parameter to control this behavior.\n",
            "  _warn_prf(average, modifier, msg_start, len(result))\n"
          ],
          "name": "stderr"
        },
        {
          "output_type": "stream",
          "text": [
            "\tXGBoost\n",
            "\t\tScore: 0.6427189163038219\n",
            "\t\tTraining time: 0.3 seconds\n",
            "\t\tConfusion Matrix\n",
            " col_0      0\n",
            "state       \n",
            "0      23913\n",
            "1      13293\n",
            "\t\tClassification Report\n",
            "               precision    recall  f1-score   support\n",
            "\n",
            "           0       0.64      1.00      0.78     23913\n",
            "           1       0.00      0.00      0.00     13293\n",
            "\n",
            "    accuracy                           0.64     37206\n",
            "   macro avg       0.32      0.50      0.39     37206\n",
            "weighted avg       0.41      0.64      0.50     37206\n",
            "\n",
            "NearMiss v1 [UNDERSAMPLING]\n"
          ],
          "name": "stdout"
        },
        {
          "output_type": "stream",
          "text": [
            "/usr/local/lib/python3.6/dist-packages/sklearn/metrics/_classification.py:1272: UndefinedMetricWarning: Precision and F-score are ill-defined and being set to 0.0 in labels with no predicted samples. Use `zero_division` parameter to control this behavior.\n",
            "  _warn_prf(average, modifier, msg_start, len(result))\n"
          ],
          "name": "stderr"
        },
        {
          "output_type": "stream",
          "text": [
            "\tXGBoost\n",
            "\t\tScore: 0.6427189163038219\n",
            "\t\tTraining time: 0.29 seconds\n",
            "\t\tConfusion Matrix\n",
            " col_0      0\n",
            "state       \n",
            "0      23913\n",
            "1      13293\n",
            "\t\tClassification Report\n",
            "               precision    recall  f1-score   support\n",
            "\n",
            "           0       0.64      1.00      0.78     23913\n",
            "           1       0.00      0.00      0.00     13293\n",
            "\n",
            "    accuracy                           0.64     37206\n",
            "   macro avg       0.32      0.50      0.39     37206\n",
            "weighted avg       0.41      0.64      0.50     37206\n",
            "\n",
            "NearMiss v3 [UNDERSAMPLING]\n"
          ],
          "name": "stdout"
        },
        {
          "output_type": "stream",
          "text": [
            "/usr/local/lib/python3.6/dist-packages/sklearn/metrics/_classification.py:1272: UndefinedMetricWarning: Precision and F-score are ill-defined and being set to 0.0 in labels with no predicted samples. Use `zero_division` parameter to control this behavior.\n",
            "  _warn_prf(average, modifier, msg_start, len(result))\n"
          ],
          "name": "stderr"
        },
        {
          "output_type": "stream",
          "text": [
            "\tXGBoost\n",
            "\t\tScore: 0.6427189163038219\n",
            "\t\tTraining time: 0.3 seconds\n",
            "\t\tConfusion Matrix\n",
            " col_0      0\n",
            "state       \n",
            "0      23913\n",
            "1      13293\n",
            "\t\tClassification Report\n",
            "               precision    recall  f1-score   support\n",
            "\n",
            "           0       0.64      1.00      0.78     23913\n",
            "           1       0.00      0.00      0.00     13293\n",
            "\n",
            "    accuracy                           0.64     37206\n",
            "   macro avg       0.32      0.50      0.39     37206\n",
            "weighted avg       0.41      0.64      0.50     37206\n",
            "\n"
          ],
          "name": "stdout"
        },
        {
          "output_type": "stream",
          "text": [
            "/usr/local/lib/python3.6/dist-packages/sklearn/metrics/_classification.py:1272: UndefinedMetricWarning: Precision and F-score are ill-defined and being set to 0.0 in labels with no predicted samples. Use `zero_division` parameter to control this behavior.\n",
            "  _warn_prf(average, modifier, msg_start, len(result))\n"
          ],
          "name": "stderr"
        }
      ]
    },
    {
      "cell_type": "markdown",
      "metadata": {
        "id": "X1xjRlt3-r45",
        "colab_type": "text"
      },
      "source": [
        "# XGBoost Search Best Parameters\n",
        "Brute-force this classifier, to find the best parameters."
      ]
    },
    {
      "cell_type": "code",
      "metadata": {
        "id": "slOqXGZ4-xPY",
        "colab_type": "code",
        "colab": {}
      },
      "source": [
        "parameters = {\n",
        "    'subsample': [.8, .1],\n",
        "    'max_depth': [3, 6, 10],\n",
        "    'learning_rate': [.7, .5, .3, 1e-3, 1e-4 , 1e-5],\n",
        "    'gamma': [0, .5, 1],\n",
        "    'lambda': [0, .5, 1],\n",
        "    'aplha': [0, .5, 1],\n",
        "}\n",
        "\n",
        "# the best version\n",
        "xgb_brute_force = xgb.XGBClassifier(verbosity=2, tree_method='gpu_hist', seed=2137)\n",
        "grid_obj = GridSearchCV(xgb_brute_force, param_grid=parameters, verbose=5, cv=4, n_jobs=-1)\n",
        "grid_obj = grid_obj.fit(X_train, y_train)\n",
        "\n",
        "print(\"Best parameters for XGB:\", grid_obj.best_params_)\n",
        "print(\"Best score for above parameters:\", grid_obj.best_score_)\n",
        "print(\"Accuracy of XGB Model w/ best parameters:\", grid_obj.score(X_test, y_test))"
      ],
      "execution_count": 0,
      "outputs": []
    },
    {
      "cell_type": "markdown",
      "metadata": {
        "id": "5lmswqKTkkv2",
        "colab_type": "text"
      },
      "source": [
        "# XGBoost Best Parameters\n",
        "6% accuracy boost between default & best parameter models\n",
        "\n",
        "Best parameters for XGB: {'colsample_bytree': 0.8, 'gamma': 0, 'grow_policy': 'depthwise', 'learning_rate': 0.1, 'max_depth': 6, 'max_leaves': 0, 'num_parallel_tree': 5, 'reg_alpha': 0.001, 'sampling_method': 'uniform', 'subsample': 0.8, 'learning_rate': .3}\n",
        "\n",
        "Best score for above parameters: 0.7263483962182992\n",
        "\n",
        "Accuracy of XGB Model w/ best parameters: 6987675398815558"
      ]
    },
    {
      "cell_type": "markdown",
      "metadata": {
        "id": "rYitHgzQ1137",
        "colab_type": "text"
      },
      "source": [
        "# XGBoost Best Parameters over/under-fitting\n",
        "Cell to check if model is overfitting, set to 300 iterations."
      ]
    },
    {
      "cell_type": "code",
      "metadata": {
        "id": "RoD4UuG316LL",
        "colab_type": "code",
        "outputId": "be8fd951-8a3f-40df-ff07-9abf854032cb",
        "colab": {
          "base_uri": "https://localhost:8080/",
          "height": 1000
        }
      },
      "source": [
        "classifier_xgb_fitting = xgb.XGBClassifier(verbosity=1, tree_method='gpu_hist', n_jobs=-1, colsample_bytree=.8, \n",
        "                                            gamma=0, grow_policy='depthwise', learning_rate=.3, max_depth=6, max_leaves=0, \n",
        "                                            num_parallel_tree=5, reg_alpha=.001, sampling_method='uniform', subsample=.8, n_estimators=500)\n",
        "\n",
        "train_and_evaluate_model(classifier_xgb_fitting, train_data, test_data)"
      ],
      "execution_count": 0,
      "outputs": [
        {
          "output_type": "stream",
          "text": [
            "SMOTE [OVERSAMPLING]\n",
            "\tWorking on 1/10\n",
            "\tDone 1/10\n",
            "\tWorking on 2/10\n",
            "\tDone 2/10\n",
            "\tWorking on 3/10\n",
            "\tDone 3/10\n",
            "\tWorking on 4/10\n",
            "\tDone 4/10\n",
            "\tWorking on 5/10\n",
            "\tDone 5/10\n",
            "\tWorking on 6/10\n",
            "\tDone 6/10\n",
            "\tWorking on 7/10\n",
            "\tDone 7/10\n",
            "\tWorking on 8/10\n",
            "\tDone 8/10\n",
            "\tWorking on 9/10\n",
            "\tDone 9/10\n",
            "\tWorking on 10/10\n",
            "\tDone 10/10\n",
            "\tCalculation time: 318.34secs\n",
            "\tAverage Calculation time: 31.83secs\n",
            "col_0        0       1\n",
            "state                 \n",
            "0      18883.8  5029.2\n",
            "1       6207.6  7085.4\n",
            "\tConfusion Matrix\n",
            " col_0        0       1\n",
            "state                 \n",
            "0      18883.8  5029.2\n",
            "1       6207.6  7085.4\n",
            "\tRecall: [0.7896876176138502, 0.5330173775671406]\n",
            "\tPrecision: [0.7526004925990578, 0.5848645436085385]\n",
            "\tF1 Score: [0.7706981413913853, 0.5577386293864829]\n",
            "\tShowing last iteration over SMOTE [OVERSAMPLING] model.\n"
          ],
          "name": "stdout"
        },
        {
          "output_type": "display_data",
          "data": {
            "image/png": "[encoded data removed]",
            "text/plain": [
              "<Figure size 432x288 with 1 Axes>"
            ]
          },
          "metadata": {
            "tags": [],
            "needs_background": "light"
          }
        },
        {
          "output_type": "stream",
          "text": [
            "\tLog Loss Train: 0.49676905681818184\n",
            "\tLog Loss Test: 0.5738191761363637\n"
          ],
          "name": "stdout"
        },
        {
          "output_type": "display_data",
          "data": {
            "image/png": "[encoded data removed]",
            "text/plain": [
              "<Figure size 432x288 with 1 Axes>"
            ]
          },
          "metadata": {
            "tags": [],
            "needs_background": "light"
          }
        },
        {
          "output_type": "stream",
          "text": [
            "\tError Train: 0.25988998863636364\n",
            "\tError Test: 0.3083766363636364\n",
            "\n",
            "\n",
            "SMOTENC [OVERSAMPLING]\n",
            "\tWorking on 1/10\n",
            "\tDone 1/10\n",
            "\tWorking on 2/10\n",
            "\tDone 2/10\n",
            "\tWorking on 3/10\n",
            "\tDone 3/10\n",
            "\tWorking on 4/10\n",
            "\tDone 4/10\n",
            "\tWorking on 5/10\n",
            "\tDone 5/10\n",
            "\tWorking on 6/10\n",
            "\tDone 6/10\n",
            "\tWorking on 7/10\n",
            "\tDone 7/10\n",
            "\tWorking on 8/10\n",
            "\tDone 8/10\n",
            "\tWorking on 9/10\n",
            "\tDone 9/10\n",
            "\tWorking on 10/10\n",
            "\tDone 10/10\n",
            "\tCalculation time: 392.6secs\n",
            "\tAverage Calculation time: 39.26secs\n",
            "col_0        0       1\n",
            "state                 \n",
            "0      17802.8  6110.2\n",
            "1       5443.9  7849.1\n",
            "\tConfusion Matrix\n",
            " col_0        0       1\n",
            "state                 \n",
            "0      17802.8  6110.2\n",
            "1       5443.9  7849.1\n",
            "\tRecall: [0.7444820808765107, 0.5904686677198526]\n",
            "\tPrecision: [0.7658205250637725, 0.562284641780032]\n",
            "\tF1 Score: [0.7550005619204534, 0.5760321147205925]\n",
            "\tShowing last iteration over SMOTENC [OVERSAMPLING] model.\n"
          ],
          "name": "stdout"
        },
        {
          "output_type": "display_data",
          "data": {
            "image/png": "[encoded data removed]",
            "text/plain": [
              "<Figure size 432x288 with 1 Axes>"
            ]
          },
          "metadata": {
            "tags": [],
            "needs_background": "light"
          }
        },
        {
          "output_type": "stream",
          "text": [
            "\tLog Loss Train: 0.5186993701923077\n",
            "\tLog Loss Test: 0.579502673076923\n"
          ],
          "name": "stdout"
        },
        {
          "output_type": "display_data",
          "data": {
            "image/png": "[encoded data removed]",
            "text/plain": [
              "<Figure size 432x288 with 1 Axes>"
            ]
          },
          "metadata": {
            "tags": [],
            "needs_background": "light"
          }
        },
        {
          "output_type": "stream",
          "text": [
            "\tError Train: 0.2723961057692308\n",
            "\tError Test: 0.3150657355769231\n",
            "\n",
            "\n",
            "BorderlineSMOTE-2 [OVERSAMPLING]\n",
            "\tWorking on 1/10\n",
            "\tDone 1/10\n",
            "\tWorking on 2/10\n",
            "\tDone 2/10\n",
            "\tWorking on 3/10\n",
            "\tDone 3/10\n",
            "\tWorking on 4/10\n",
            "\tDone 4/10\n",
            "\tWorking on 5/10\n",
            "\tDone 5/10\n",
            "\tWorking on 6/10\n",
            "\tDone 6/10\n",
            "\tWorking on 7/10\n",
            "\tDone 7/10\n",
            "\tWorking on 8/10\n",
            "\tDone 8/10\n",
            "\tWorking on 9/10\n",
            "\tDone 9/10\n",
            "\tWorking on 10/10\n",
            "\tDone 10/10\n",
            "\tCalculation time: 651.86secs\n",
            "\tAverage Calculation time: 65.19secs\n",
            "col_0      0     1\n",
            "state             \n",
            "0      19445  4468\n",
            "1       6674  6619\n",
            "\tConfusion Matrix\n",
            " col_0      0     1\n",
            "state             \n",
            "0      19445  4468\n",
            "1       6674  6619\n",
            "\tRecall: [0.8131560239200435, 0.4979312420070714]\n",
            "\tPrecision: [0.7444772005053792, 0.5970055019392081]\n",
            "\tF1 Score: [0.7773025263831148, 0.5429860541427399]\n",
            "\tShowing last iteration over BorderlineSMOTE-2 [OVERSAMPLING] model.\n"
          ],
          "name": "stdout"
        },
        {
          "output_type": "display_data",
          "data": {
            "image/png": "[encoded data removed]",
            "text/plain": [
              "<Figure size 432x288 with 1 Axes>"
            ]
          },
          "metadata": {
            "tags": [],
            "needs_background": "light"
          }
        },
        {
          "output_type": "stream",
          "text": [
            "\tLog Loss Train: 0.47879977511961724\n",
            "\tLog Loss Test: 0.5700147846889952\n"
          ],
          "name": "stdout"
        },
        {
          "output_type": "display_data",
          "data": {
            "image/png": "[encoded data removed]",
            "text/plain": [
              "<Figure size 432x288 with 1 Axes>"
            ]
          },
          "metadata": {
            "tags": [],
            "needs_background": "light"
          }
        },
        {
          "output_type": "stream",
          "text": [
            "\tError Train: 0.25178045454545456\n",
            "\tError Test: 0.304692985645933\n",
            "\n",
            "\n",
            "BorderlineSMOTE-1 [OVERSAMPLING]\n",
            "\tWorking on 1/10\n",
            "\tDone 1/10\n",
            "\tWorking on 2/10\n",
            "\tDone 2/10\n",
            "\tWorking on 3/10\n",
            "\tDone 3/10\n",
            "\tWorking on 4/10\n",
            "\tDone 4/10\n",
            "\tWorking on 5/10\n",
            "\tDone 5/10\n",
            "\tWorking on 6/10\n",
            "\tDone 6/10\n",
            "\tWorking on 7/10\n",
            "\tDone 7/10\n",
            "\tWorking on 8/10\n",
            "\tDone 8/10\n",
            "\tWorking on 9/10\n",
            "\tDone 9/10\n",
            "\tWorking on 10/10\n",
            "\tDone 10/10\n",
            "\tCalculation time: 265.94secs\n",
            "\tAverage Calculation time: 26.59secs\n",
            "col_0        0       1\n",
            "state                 \n",
            "0      18848.6  5064.4\n",
            "1       6177.1  7115.9\n",
            "\tConfusion Matrix\n",
            " col_0        0       1\n",
            "state                 \n",
            "0      18848.6  5064.4\n",
            "1       6177.1  7115.9\n",
            "\tRecall: [0.7882156149374816, 0.5353118182502068]\n",
            "\tPrecision: [0.7531697415057321, 0.5842138535175653]\n",
            "\tF1 Score: [0.7702942660920704, 0.5586947902313403]\n",
            "\tShowing last iteration over BorderlineSMOTE-1 [OVERSAMPLING] model.\n"
          ],
          "name": "stdout"
        },
        {
          "output_type": "display_data",
          "data": {
            "image/png": "[encoded data removed]",
            "text/plain": [
              "<Figure size 432x288 with 1 Axes>"
            ]
          },
          "metadata": {
            "tags": [],
            "needs_background": "light"
          }
        },
        {
          "output_type": "stream",
          "text": [
            "\tLog Loss Train: 0.5014519367088608\n",
            "\tLog Loss Test: 0.5756680443037975\n"
          ],
          "name": "stdout"
        },
        {
          "output_type": "display_data",
          "data": {
            "image/png": "[encoded data removed]",
            "text/plain": [
              "<Figure size 432x288 with 1 Axes>"
            ]
          },
          "metadata": {
            "tags": [],
            "needs_background": "light"
          }
        },
        {
          "output_type": "stream",
          "text": [
            "\tError Train: 0.26552117721518986\n",
            "\tError Test: 0.3095456392405063\n",
            "\n",
            "\n",
            "ADASYN [OVERSAMPLING]\n",
            "\tWorking on 1/10\n",
            "\tDone 1/10\n",
            "\tWorking on 2/10\n",
            "\tDone 2/10\n",
            "\tWorking on 3/10\n",
            "\tDone 3/10\n",
            "\tWorking on 4/10\n",
            "\tDone 4/10\n",
            "\tWorking on 5/10\n",
            "\tDone 5/10\n",
            "\tWorking on 6/10\n",
            "\tDone 6/10\n",
            "\tWorking on 7/10\n",
            "\tDone 7/10\n",
            "\tWorking on 8/10\n",
            "\tDone 8/10\n",
            "\tWorking on 9/10\n",
            "\tDone 9/10\n",
            "\tWorking on 10/10\n",
            "\tDone 10/10\n",
            "\tCalculation time: 328.12secs\n",
            "\tAverage Calculation time: 32.81secs\n",
            "col_0        0       1\n",
            "state                 \n",
            "0      18809.3  5103.7\n",
            "1       6121.7  7171.3\n",
            "\tConfusion Matrix\n",
            " col_0        0       1\n",
            "state                 \n",
            "0      18809.3  5103.7\n",
            "1       6121.7  7171.3\n",
            "\tRecall: [0.7865721574039225, 0.5394794252614158]\n",
            "\tPrecision: [0.7544542938510288, 0.5842199592668025]\n",
            "\tF1 Score: [0.7701785275571206, 0.5609590112640801]\n",
            "\tShowing last iteration over ADASYN [OVERSAMPLING] model.\n"
          ],
          "name": "stdout"
        },
        {
          "output_type": "display_data",
          "data": {
            "image/png": "[encoded data removed]",
            "text/plain": [
              "<Figure size 432x288 with 1 Axes>"
            ]
          },
          "metadata": {
            "tags": [],
            "needs_background": "light"
          }
        },
        {
          "output_type": "stream",
          "text": [
            "\tLog Loss Train: 0.490994518134715\n",
            "\tLog Loss Test: 0.5737096062176166\n"
          ],
          "name": "stdout"
        },
        {
          "output_type": "display_data",
          "data": {
            "image/png": "[encoded data removed]",
            "text/plain": [
              "<Figure size 432x288 with 1 Axes>"
            ]
          },
          "metadata": {
            "tags": [],
            "needs_background": "light"
          }
        },
        {
          "output_type": "stream",
          "text": [
            "\tError Train: 0.2579537305699482\n",
            "\tError Test: 0.3083762590673575\n",
            "\n",
            "\n",
            "RandomUnderSampler [UNDERSAMPLING]\n",
            "\tWorking on 1/10\n",
            "\tDone 1/10\n",
            "\tWorking on 2/10\n",
            "\tDone 2/10\n",
            "\tWorking on 3/10\n",
            "\tDone 3/10\n",
            "\tWorking on 4/10\n",
            "\tDone 4/10\n",
            "\tWorking on 5/10\n",
            "\tDone 5/10\n",
            "\tWorking on 6/10\n",
            "\tDone 6/10\n",
            "\tWorking on 7/10\n",
            "\tDone 7/10\n",
            "\tWorking on 8/10\n",
            "\tDone 8/10\n",
            "\tWorking on 9/10\n",
            "\tDone 9/10\n",
            "\tWorking on 10/10\n",
            "\tDone 10/10\n",
            "\tCalculation time: 376.76secs\n",
            "\tAverage Calculation time: 37.68secs\n",
            "col_0      0     1\n",
            "state             \n",
            "0      15635  8278\n",
            "1       3945  9348\n",
            "\tConfusion Matrix\n",
            " col_0      0     1\n",
            "state             \n",
            "0      15635  8278\n",
            "1       3945  9348\n",
            "\tRecall: [0.6538284615062937, 0.7032272624689686]\n",
            "\tPrecision: [0.7985188968335035, 0.5303528877794168]\n",
            "\tF1 Score: [0.7189662704343228, 0.6046767359875805]\n",
            "\tShowing last iteration over RandomUnderSampler [UNDERSAMPLING] model.\n"
          ],
          "name": "stdout"
        },
        {
          "output_type": "display_data",
          "data": {
            "image/png": "[encoded data removed]",
            "text/plain": [
              "<Figure size 432x288 with 1 Axes>"
            ]
          },
          "metadata": {
            "tags": [],
            "needs_background": "light"
          }
        },
        {
          "output_type": "stream",
          "text": [
            "\tLog Loss Train: 0.5866892857142857\n",
            "\tLog Loss Test: 0.5994075714285714\n"
          ],
          "name": "stdout"
        },
        {
          "output_type": "display_data",
          "data": {
            "image/png": "[encoded data removed]",
            "text/plain": [
              "<Figure size 432x288 with 1 Axes>"
            ]
          },
          "metadata": {
            "tags": [],
            "needs_background": "light"
          }
        },
        {
          "output_type": "stream",
          "text": [
            "\tError Train: 0.3162949365079365\n",
            "\tError Test: 0.3335615634920635\n",
            "\n",
            "\n",
            "NearMiss v1 [UNDERSAMPLING]\n",
            "\tWorking on 1/10\n",
            "\tDone 1/10\n",
            "\tWorking on 2/10\n",
            "\tDone 2/10\n",
            "\tWorking on 3/10\n",
            "\tDone 3/10\n",
            "\tWorking on 4/10\n",
            "\tDone 4/10\n",
            "\tWorking on 5/10\n",
            "\tDone 5/10\n",
            "\tWorking on 6/10\n",
            "\tDone 6/10\n",
            "\tWorking on 7/10\n",
            "\tDone 7/10\n",
            "\tWorking on 8/10\n",
            "\tDone 8/10\n",
            "\tWorking on 9/10\n",
            "\tDone 9/10\n",
            "\tWorking on 10/10\n",
            "\tDone 10/10\n",
            "\tCalculation time: 22.29secs\n",
            "\tAverage Calculation time: 2.23secs\n",
            "col_0      0      1\n",
            "state              \n",
            "0      12496  11417\n",
            "1       5149   8144\n",
            "\tConfusion Matrix\n",
            " col_0      0      1\n",
            "state              \n",
            "0      12496  11417\n",
            "1       5149   8144\n",
            "\tRecall: [0.5225609501108184, 0.6126532761603851]\n",
            "\tPrecision: [0.7081892887503543, 0.4163386329942232]\n",
            "\tF1 Score: [0.6013763896241399, 0.49576916052839837]\n",
            "\tShowing last iteration over NearMiss v1 [UNDERSAMPLING] model.\n"
          ],
          "name": "stdout"
        },
        {
          "output_type": "display_data",
          "data": {
            "image/png": "[encoded data removed]",
            "text/plain": [
              "<Figure size 432x288 with 1 Axes>"
            ]
          },
          "metadata": {
            "tags": [],
            "needs_background": "light"
          }
        },
        {
          "output_type": "stream",
          "text": [
            "\tLog Loss Train: 0.6175396363636364\n",
            "\tLog Loss Test: 0.7495983636363637\n"
          ],
          "name": "stdout"
        },
        {
          "output_type": "display_data",
          "data": {
            "image/png": "[encoded data removed]",
            "text/plain": [
              "<Figure size 432x288 with 1 Axes>"
            ]
          },
          "metadata": {
            "tags": [],
            "needs_background": "light"
          }
        },
        {
          "output_type": "stream",
          "text": [
            "\tError Train: 0.3312489090909091\n",
            "\tError Test: 0.4339989090909091\n",
            "\n",
            "\n",
            "NearMiss v3 [UNDERSAMPLING]\n",
            "\tWorking on 1/10\n",
            "\tDone 1/10\n",
            "\tWorking on 2/10\n",
            "\tDone 2/10\n",
            "\tWorking on 3/10\n",
            "\tDone 3/10\n",
            "\tWorking on 4/10\n",
            "\tDone 4/10\n",
            "\tWorking on 5/10\n",
            "\tDone 5/10\n",
            "\tWorking on 6/10\n",
            "\tDone 6/10\n",
            "\tWorking on 7/10\n",
            "\tDone 7/10\n",
            "\tWorking on 8/10\n",
            "\tDone 8/10\n",
            "\tWorking on 9/10\n",
            "\tDone 9/10\n",
            "\tWorking on 10/10\n",
            "\tDone 10/10\n",
            "\tCalculation time: 77.17secs\n",
            "\tAverage Calculation time: 7.72secs\n",
            "col_0      0     1\n",
            "state             \n",
            "0      16323  7590\n",
            "1       4790  8503\n",
            "\tConfusion Matrix\n",
            " col_0      0     1\n",
            "state             \n",
            "0      16323  7590\n",
            "1       4790  8503\n",
            "\tRecall: [0.6825994229080417, 0.6396599714135259]\n",
            "\tPrecision: [0.7731255624496756, 0.5283663704716336]\n",
            "\tF1 Score: [0.7250477501887798, 0.5787109507928946]\n",
            "\tShowing last iteration over NearMiss v3 [UNDERSAMPLING] model.\n"
          ],
          "name": "stdout"
        },
        {
          "output_type": "display_data",
          "data": {
            "image/png": "[encoded data removed]",
            "text/plain": [
              "<Figure size 432x288 with 1 Axes>"
            ]
          },
          "metadata": {
            "tags": [],
            "needs_background": "light"
          }
        },
        {
          "output_type": "stream",
          "text": [
            "\tLog Loss Train: 0.62754272\n",
            "\tLog Loss Test: 0.61783476\n"
          ],
          "name": "stdout"
        },
        {
          "output_type": "display_data",
          "data": {
            "image/png": "[encoded data removed]",
            "text/plain": [
              "<Figure size 432x288 with 1 Axes>"
            ]
          },
          "metadata": {
            "tags": [],
            "needs_background": "light"
          }
        },
        {
          "output_type": "stream",
          "text": [
            "\tError Train: 0.34938562\n",
            "\tError Test: 0.33633342\n",
            "\n",
            "\n"
          ],
          "name": "stdout"
        }
      ]
    },
    {
      "cell_type": "markdown",
      "metadata": {
        "id": "MdaK4Ed8LyB9",
        "colab_type": "text"
      },
      "source": [
        "# XGBoost Model to Web Server"
      ]
    },
    {
      "cell_type": "code",
      "metadata": {
        "id": "mizYiaBQHSFD",
        "colab_type": "code",
        "outputId": "90c69e24-8b09-4151-9f44-f211e4a3aa6d",
        "colab": {
          "base_uri": "https://localhost:8080/",
          "height": 34
        }
      },
      "source": [
        "cls = xgb.XGBClassifier(verbosity=1, tree_method='gpu_hist', n_jobs=-1, colsample_bytree=.8, \n",
        "                                            gamma=0, grow_policy='depthwise', learning_rate=.3, max_depth=6, max_leaves=0, \n",
        "                                            num_parallel_tree=5, reg_alpha=.001, sampling_method='uniform', subsample=.8, n_estimators=500)\n",
        "\n",
        "cls.fit(train_data['SMOTENC [OVERSAMPLING]']['x'], train_data['SMOTENC [OVERSAMPLING]']['y'])\n",
        "cls.save_model('model.xgb')\n",
        "\n",
        "myfile = 'model.xgb'\n",
        "pickle.dump(cls, open(myfile, \"wb\"))\n",
        "\n",
        "url = \"http://puma.swstats.info/upload_model.php\"\n",
        "files = {'kickstarter_trends': open(myfile, 'rb')}\n",
        "r = requests.post(url, files=files, verify=False)\n",
        "print(r)"
      ],
      "execution_count": 0,
      "outputs": [
        {
          "output_type": "stream",
          "text": [
            "<Response [200]>\n"
          ],
          "name": "stdout"
        }
      ]
    },
    {
      "cell_type": "markdown",
      "metadata": {
        "id": "dZYJaXqyL4SB",
        "colab_type": "text"
      },
      "source": [
        "# XGBoost Load Model"
      ]
    },
    {
      "cell_type": "code",
      "metadata": {
        "id": "ws7xq78LL4Vv",
        "colab_type": "code",
        "outputId": "2f4251e3-1b7c-4b58-ef9a-9059f4280016",
        "colab": {
          "base_uri": "https://localhost:8080/",
          "height": 238
        }
      },
      "source": [
        "!wget http://puma.swstats.info/model/model.xgb\n",
        "clscls = pickle.load(open('model.xgb', \"rb\"))\n",
        "print(clscls.score(test_data['SMOTENC [OVERSAMPLING]']['x'], test_data['SMOTENC [OVERSAMPLING]']['y']))\n",
        "print(clscls.predict(test_data['SMOTENC [OVERSAMPLING]']['x']))"
      ],
      "execution_count": 0,
      "outputs": [
        {
          "output_type": "stream",
          "text": [
            "--2020-04-23 08:49:44--  http://puma.swstats.info/model/model.xgb\n",
            "Resolving puma.swstats.info (puma.swstats.info)... 51.83.129.23\n",
            "Connecting to puma.swstats.info (puma.swstats.info)|51.83.129.23|:80... connected.\n",
            "HTTP request sent, awaiting response... 200 OK\n",
            "Length: 9259685 (8.8M) [application/octet-stream]\n",
            "Saving to: ‘model.xgb.7’\n",
            "\n",
            "model.xgb.7         100%[===================>]   8.83M  6.06MB/s    in 1.5s    \n",
            "\n",
            "2020-04-23 08:49:46 (6.06 MB/s) - ‘model.xgb.7’ saved [9259685/9259685]\n",
            "\n",
            "0.6887061226683868\n",
            "[0 1 0 ... 0 0 1]\n"
          ],
          "name": "stdout"
        }
      ]
    },
    {
      "cell_type": "markdown",
      "metadata": {
        "id": "tv2hCiaFGw-9",
        "colab_type": "text"
      },
      "source": [
        "# Dart XGBoost\n",
        "XGBoost with different booster - 'dart' instead of 'gbtree'. Takes a lot more time to compute with very similar, if not the same accuracy."
      ]
    },
    {
      "cell_type": "code",
      "metadata": {
        "id": "ixzfgvG2H3Xv",
        "colab_type": "code",
        "outputId": "df5dccae-a079-4aa1-ddf5-a7df5e25f387",
        "colab": {
          "base_uri": "https://localhost:8080/",
          "height": 1000
        }
      },
      "source": [
        "for key in train_data.keys():\n",
        "  classifier_xgb_dart = xgb.XGBClassifier(booster='dart', tree_method='gpu_hist', n_jobs=-1, seed=2137)\n",
        "  print(key)\n",
        "  train_model(classifier_xgb_dart, \"XGBoost Dart\", train_data[key]['x'], train_data[key]['y'], test_data[key]['x'], test_data[key]['y'])"
      ],
      "execution_count": 0,
      "outputs": [
        {
          "output_type": "stream",
          "text": [
            "SMOTE [OVERSAMPLING]\n",
            "\tXGBoost Dart\n",
            "\t\tScore: 0.6664516475837231\n",
            "\t\tTraining time: 23.13 seconds\n",
            "\t\tConfusion Matrix\n",
            " col_0      0     1\n",
            "state             \n",
            "0      16853  7060\n",
            "1       5350  7943\n",
            "\t\tClassification Report\n",
            "               precision    recall  f1-score   support\n",
            "\n",
            "           0       0.76      0.70      0.73     23913\n",
            "           1       0.53      0.60      0.56     13293\n",
            "\n",
            "    accuracy                           0.67     37206\n",
            "   macro avg       0.64      0.65      0.65     37206\n",
            "weighted avg       0.68      0.67      0.67     37206\n",
            "\n",
            "SMOTENC [OVERSAMPLING]\n",
            "\tXGBoost Dart\n",
            "\t\tScore: 0.6609955383540289\n",
            "\t\tTraining time: 23.28 seconds\n",
            "\t\tConfusion Matrix\n",
            " col_0      0     1\n",
            "state             \n",
            "0      16286  7627\n",
            "1       4986  8307\n",
            "\t\tClassification Report\n",
            "               precision    recall  f1-score   support\n",
            "\n",
            "           0       0.77      0.68      0.72     23913\n",
            "           1       0.52      0.62      0.57     13293\n",
            "\n",
            "    accuracy                           0.66     37206\n",
            "   macro avg       0.64      0.65      0.64     37206\n",
            "weighted avg       0.68      0.66      0.67     37206\n",
            "\n",
            "ADASYN [OVERSAMPLING]\n",
            "\tXGBoost Dart\n",
            "\t\tScore: 0.6599204429393108\n",
            "\t\tTraining time: 22.82 seconds\n",
            "\t\tConfusion Matrix\n",
            " col_0      0     1\n",
            "state             \n",
            "0      16333  7580\n",
            "1       5073  8220\n",
            "\t\tClassification Report\n",
            "               precision    recall  f1-score   support\n",
            "\n",
            "           0       0.76      0.68      0.72     23913\n",
            "           1       0.52      0.62      0.57     13293\n",
            "\n",
            "    accuracy                           0.66     37206\n",
            "   macro avg       0.64      0.65      0.64     37206\n",
            "weighted avg       0.68      0.66      0.67     37206\n",
            "\n",
            "RandomUnderSampler [UNDERSAMPLING]\n",
            "\tXGBoost Dart\n",
            "\t\tScore: 0.652099123797237\n",
            "\t\tTraining time: 16.94 seconds\n",
            "\t\tConfusion Matrix\n",
            " col_0      0     1\n",
            "state             \n",
            "0      15043  8870\n",
            "1       4074  9219\n",
            "\t\tClassification Report\n",
            "               precision    recall  f1-score   support\n",
            "\n",
            "           0       0.79      0.63      0.70     23913\n",
            "           1       0.51      0.69      0.59     13293\n",
            "\n",
            "    accuracy                           0.65     37206\n",
            "   macro avg       0.65      0.66      0.64     37206\n",
            "weighted avg       0.69      0.65      0.66     37206\n",
            "\n",
            "NearMiss v1 [UNDERSAMPLING]\n",
            "\tXGBoost Dart\n",
            "\t\tScore: 0.5778100306402193\n",
            "\t\tTraining time: 12.39 seconds\n",
            "\t\tConfusion Matrix\n",
            " col_0      0      1\n",
            "state              \n",
            "0      13424  10489\n",
            "1       5219   8074\n",
            "\t\tClassification Report\n",
            "               precision    recall  f1-score   support\n",
            "\n",
            "           0       0.72      0.56      0.63     23913\n",
            "           1       0.43      0.61      0.51     13293\n",
            "\n",
            "    accuracy                           0.58     37206\n",
            "   macro avg       0.58      0.58      0.57     37206\n",
            "weighted avg       0.62      0.58      0.59     37206\n",
            "\n",
            "NearMiss v3 [UNDERSAMPLING]\n",
            "\tXGBoost Dart\n",
            "\t\tScore: 0.6602429715637262\n",
            "\t\tTraining time: 13.31 seconds\n",
            "\t\tConfusion Matrix\n",
            " col_0      0     1\n",
            "state             \n",
            "0      16201  7712\n",
            "1       4929  8364\n",
            "\t\tClassification Report\n",
            "               precision    recall  f1-score   support\n",
            "\n",
            "           0       0.77      0.68      0.72     23913\n",
            "           1       0.52      0.63      0.57     13293\n",
            "\n",
            "    accuracy                           0.66     37206\n",
            "   macro avg       0.64      0.65      0.64     37206\n",
            "weighted avg       0.68      0.66      0.67     37206\n",
            "\n"
          ],
          "name": "stdout"
        }
      ]
    },
    {
      "cell_type": "markdown",
      "metadata": {
        "id": "WrydpW6elMU8",
        "colab_type": "text"
      },
      "source": [
        "# Dart XGBoost Search Best Parameters\n",
        "Find best parameters for Dart XGBoost."
      ]
    },
    {
      "cell_type": "code",
      "metadata": {
        "id": "Hm54KTFmG39k",
        "colab_type": "code",
        "colab": {}
      },
      "source": [
        "parameters_dart = {\n",
        "  'sample_type' : ['weighted','uniform'],\n",
        "  'skip_drop': [0, 1e-3, .1],\n",
        "  'rate_drop': [0, 1e-3, .1],\n",
        "  'learning_rate': [.7, .5, .3, 1e-3, 1e-4 , 1e-5],\n",
        "}\n",
        "\n",
        "dart_xgb_brute_force = xgb.XGBClassifier(verbosity=2, tree_method='gpu_hist', booster='dart', seed=2137)\n",
        "\n",
        "grid_obj_dart = GridSearchCV(dart_xgb_brute_force, param_grid=parameters_dart, verbose=5, cv=4, n_jobs=-1)\n",
        "grid_obj_dart = grid_obj_dart.fit(X_train, y_train)\n",
        "\n",
        "print(\"Best parameters for Dart XGB:\", grid_obj_dart.best_params_)\n",
        "print(\"Best score for above parameters:\", grid_obj_dart.best_score_)\n",
        "print(\"Accuracy of Dart XGB Model w/ best parameters:\", grid_obj_dart.score(X_test, y_test))"
      ],
      "execution_count": 0,
      "outputs": []
    },
    {
      "cell_type": "markdown",
      "metadata": {
        "id": "tfTLF3NNlRdP",
        "colab_type": "text"
      },
      "source": [
        "# Dart XGBoost Best Parameters\n",
        "Minimum Accuracy Boost\n",
        "\n",
        "Best parameters for Dart XGB: {'learning_rate': 0.5, 'rate_drop': 0.001, 'sample_type': 'weighted', 'skip_drop': 0.1}\n",
        "\n",
        "Best score for above parameters: 0.7197732314626362\n",
        "\n",
        "Accuracy of Dart XGB Model w/ best parameters: 0.6927652990449767"
      ]
    },
    {
      "cell_type": "markdown",
      "metadata": {
        "colab_type": "text",
        "id": "8fsxO_tZpeR9"
      },
      "source": [
        "# Dart XGBoost Best Parameters over/under-fitting\n",
        "Since every value (error & logloss for train & test data) decreases, model is not overfitting. The accuracy for non-related test set says that model is also not underfitting. "
      ]
    },
    {
      "cell_type": "code",
      "metadata": {
        "colab_type": "code",
        "id": "8EY7aDZJpeSE",
        "outputId": "e2d0beee-0191-40b6-a674-b5bc4486c675",
        "colab": {
          "base_uri": "https://localhost:8080/",
          "height": 1000
        }
      },
      "source": [
        "classifier_dart_xgb_fitting = xgb.XGBClassifier(verbosity=1, tree_method='gpu_hist', booster='dart', n_jobs=-1, seed=2137,\n",
        "                                              learning_rate=.5, rate_drop=1e-3, sample_type='weighted', skip_drop=.1, n_estimators=200)\n",
        "train_and_evaluate_model(classifier_dart_xgb_fitting, train_data, test_data)"
      ],
      "execution_count": 0,
      "outputs": [
        {
          "output_type": "stream",
          "text": [
            "SMOTE [OVERSAMPLING]\n",
            "\tWorking on 1/10\n",
            "\tDone 1/10\n",
            "\tWorking on 2/10\n",
            "\tDone 2/10\n",
            "\tWorking on 3/10\n",
            "\tDone 3/10\n",
            "\tWorking on 4/10\n",
            "\tDone 4/10\n",
            "\tWorking on 5/10\n",
            "\tDone 5/10\n",
            "\tWorking on 6/10\n",
            "\tDone 6/10\n",
            "\tWorking on 7/10\n",
            "\tDone 7/10\n",
            "\tWorking on 8/10\n",
            "\tDone 8/10\n",
            "\tWorking on 9/10\n",
            "\tDone 9/10\n",
            "\tWorking on 10/10\n",
            "\tDone 10/10\n",
            "\tCalculation time: 1722.5secs\n",
            "\tAverage Calculation time: 172.25secs\n",
            "col_0      0     1\n",
            "state             \n",
            "0      18687  5226\n",
            "1       6157  7136\n",
            "\tConfusion Matrix\n",
            " col_0      0     1\n",
            "state             \n",
            "0      18687  5226\n",
            "1       6157  7136\n",
            "\tRecall: [0.7814577844686991, 0.5368238922741292]\n",
            "\tPrecision: [0.7521735630333279, 0.5772528717036078]\n",
            "\tF1 Score: [0.7665360871259512, 0.5563048138764374]\n",
            "\tShowing last iteration over SMOTE [OVERSAMPLING] model.\n"
          ],
          "name": "stdout"
        },
        {
          "output_type": "display_data",
          "data": {
            "image/png": "[encoded data removed]",
            "text/plain": [
              "<Figure size 432x288 with 1 Axes>"
            ]
          },
          "metadata": {
            "tags": [],
            "needs_background": "light"
          }
        },
        {
          "output_type": "stream",
          "text": [
            "\tLog Loss Train: 0.515810375\n",
            "\tLog Loss Test: 0.581443575\n"
          ],
          "name": "stdout"
        },
        {
          "output_type": "display_data",
          "data": {
            "image/png": "[encoded data removed]",
            "text/plain": [
              "<Figure size 432x288 with 1 Axes>"
            ]
          },
          "metadata": {
            "tags": [],
            "needs_background": "light"
          }
        },
        {
          "output_type": "stream",
          "text": [
            "\tError Train: 0.27482684\n",
            "\tError Test: 0.317746065\n",
            "\n",
            "\n",
            "SMOTENC [OVERSAMPLING]\n",
            "\tWorking on 1/10\n",
            "\tDone 1/10\n",
            "\tWorking on 2/10\n",
            "\tDone 2/10\n",
            "\tWorking on 3/10\n",
            "\tDone 3/10\n",
            "\tWorking on 4/10\n",
            "\tDone 4/10\n",
            "\tWorking on 5/10\n",
            "\tDone 5/10\n",
            "\tWorking on 6/10\n",
            "\tDone 6/10\n",
            "\tWorking on 7/10\n",
            "\tDone 7/10\n",
            "\tWorking on 8/10\n",
            "\tDone 8/10\n",
            "\tWorking on 9/10\n",
            "\tDone 9/10\n",
            "\tWorking on 10/10\n",
            "\tDone 10/10\n",
            "\tCalculation time: 1741.42secs\n",
            "\tAverage Calculation time: 174.14secs\n",
            "col_0      0     1\n",
            "state             \n",
            "0      17608  6305\n",
            "1       5406  7887\n",
            "\tConfusion Matrix\n",
            " col_0      0     1\n",
            "state             \n",
            "0      17608  6305\n",
            "1       5406  7887\n",
            "\tRecall: [0.7363358842470623, 0.5933197923719251]\n",
            "\tPrecision: [0.7650995046493438, 0.5557356257046223]\n",
            "\tF1 Score: [0.7504421761459288, 0.573913043478261]\n",
            "\tShowing last iteration over SMOTENC [OVERSAMPLING] model.\n"
          ],
          "name": "stdout"
        },
        {
          "output_type": "display_data",
          "data": {
            "image/png": "[encoded data removed]",
            "text/plain": [
              "<Figure size 432x288 with 1 Axes>"
            ]
          },
          "metadata": {
            "tags": [],
            "needs_background": "light"
          }
        },
        {
          "output_type": "stream",
          "text": [
            "\tLog Loss Train: 0.544070285\n",
            "\tLog Loss Test: 0.58996189\n"
          ],
          "name": "stdout"
        },
        {
          "output_type": "display_data",
          "data": {
            "image/png": "[encoded data removed]",
            "text/plain": [
              "<Figure size 432x288 with 1 Axes>"
            ]
          },
          "metadata": {
            "tags": [],
            "needs_background": "light"
          }
        },
        {
          "output_type": "stream",
          "text": [
            "\tError Train: 0.29024321\n",
            "\tError Test: 0.32402998\n",
            "\n",
            "\n",
            "BorderlineSMOTE-2 [OVERSAMPLING]\n",
            "\tWorking on 1/10\n",
            "\tDone 1/10\n",
            "\tWorking on 2/10\n",
            "\tDone 2/10\n",
            "\tWorking on 3/10\n",
            "\tDone 3/10\n",
            "\tWorking on 4/10\n",
            "\tDone 4/10\n",
            "\tWorking on 5/10\n",
            "\tDone 5/10\n",
            "\tWorking on 6/10\n",
            "\tDone 6/10\n",
            "\tWorking on 7/10\n",
            "\tDone 7/10\n",
            "\tWorking on 8/10\n",
            "\tDone 8/10\n",
            "\tWorking on 9/10\n",
            "\tDone 9/10\n",
            "\tWorking on 10/10\n",
            "\tDone 10/10\n",
            "\tCalculation time: 1621.06secs\n",
            "\tAverage Calculation time: 162.11secs\n",
            "col_0      0     1\n",
            "state             \n",
            "0      19353  4560\n",
            "1       6689  6604\n",
            "\tConfusion Matrix\n",
            " col_0      0     1\n",
            "state             \n",
            "0      19353  4560\n",
            "1       6689  6604\n",
            "\tRecall: [0.8093087441977167, 0.4968028285563831]\n",
            "\tPrecision: [0.743145687735197, 0.5915442493729846]\n",
            "\tF1 Score: [0.7748173356020417, 0.5400498834689456]\n",
            "\tShowing last iteration over BorderlineSMOTE-2 [OVERSAMPLING] model.\n"
          ],
          "name": "stdout"
        },
        {
          "output_type": "display_data",
          "data": {
            "image/png": "[encoded data removed]",
            "text/plain": [
              "<Figure size 432x288 with 1 Axes>"
            ]
          },
          "metadata": {
            "tags": [],
            "needs_background": "light"
          }
        },
        {
          "output_type": "stream",
          "text": [
            "\tLog Loss Train: 0.501729915\n",
            "\tLog Loss Test: 0.57827957\n"
          ],
          "name": "stdout"
        },
        {
          "output_type": "display_data",
          "data": {
            "image/png": "[encoded data removed]",
            "text/plain": [
              "<Figure size 432x288 with 1 Axes>"
            ]
          },
          "metadata": {
            "tags": [],
            "needs_background": "light"
          }
        },
        {
          "output_type": "stream",
          "text": [
            "\tError Train: 0.268148055\n",
            "\tError Test: 0.3129471\n",
            "\n",
            "\n",
            "BorderlineSMOTE-1 [OVERSAMPLING]\n",
            "\tWorking on 1/10\n",
            "\tDone 1/10\n",
            "\tWorking on 2/10\n",
            "\tDone 2/10\n",
            "\tWorking on 3/10\n",
            "\tDone 3/10\n",
            "\tWorking on 4/10\n",
            "\tDone 4/10\n",
            "\tWorking on 5/10\n",
            "\tDone 5/10\n",
            "\tWorking on 6/10\n",
            "\tDone 6/10\n",
            "\tWorking on 7/10\n",
            "\tDone 7/10\n",
            "\tWorking on 8/10\n",
            "\tDone 8/10\n",
            "\tWorking on 9/10\n",
            "\tDone 9/10\n",
            "\tWorking on 10/10\n",
            "\tDone 10/10\n",
            "\tCalculation time: 1605.07secs\n",
            "\tAverage Calculation time: 160.51secs\n",
            "col_0      0     1\n",
            "state             \n",
            "0      18672  5241\n",
            "1       6162  7131\n",
            "\tConfusion Matrix\n",
            " col_0      0     1\n",
            "state             \n",
            "0      18672  5241\n",
            "1       6162  7131\n",
            "\tRecall: [0.7808305106009283, 0.5364477544572331]\n",
            "\tPrecision: [0.75187243295482, 0.5763821532492726]\n",
            "\tF1 Score: [0.7660779124869224, 0.555698421975453]\n",
            "\tShowing last iteration over BorderlineSMOTE-1 [OVERSAMPLING] model.\n"
          ],
          "name": "stdout"
        },
        {
          "output_type": "display_data",
          "data": {
            "image/png": "[encoded data removed]",
            "text/plain": [
              "<Figure size 432x288 with 1 Axes>"
            ]
          },
          "metadata": {
            "tags": [],
            "needs_background": "light"
          }
        },
        {
          "output_type": "stream",
          "text": [
            "\tLog Loss Train: 0.51605404\n",
            "\tLog Loss Test: 0.581026995\n"
          ],
          "name": "stdout"
        },
        {
          "output_type": "display_data",
          "data": {
            "image/png": "[encoded data removed]",
            "text/plain": [
              "<Figure size 432x288 with 1 Axes>"
            ]
          },
          "metadata": {
            "tags": [],
            "needs_background": "light"
          }
        },
        {
          "output_type": "stream",
          "text": [
            "\tError Train: 0.278133485\n",
            "\tError Test: 0.31600936\n",
            "\n",
            "\n",
            "ADASYN [OVERSAMPLING]\n",
            "\tWorking on 1/10\n",
            "\tDone 1/10\n",
            "\tWorking on 2/10\n",
            "\tDone 2/10\n",
            "\tWorking on 3/10\n",
            "\tDone 3/10\n",
            "\tWorking on 4/10\n",
            "\tDone 4/10\n",
            "\tWorking on 5/10\n",
            "\tDone 5/10\n",
            "\tWorking on 6/10\n",
            "\tDone 6/10\n",
            "\tWorking on 7/10\n",
            "\tDone 7/10\n",
            "\tWorking on 8/10\n",
            "\tDone 8/10\n",
            "\tWorking on 9/10\n",
            "\tDone 9/10\n",
            "\tWorking on 10/10\n",
            "\tDone 10/10\n",
            "\tCalculation time: 1668.06secs\n",
            "\tAverage Calculation time: 166.81secs\n",
            "col_0      0     1\n",
            "state             \n",
            "0      18562  5351\n",
            "1       6075  7218\n",
            "\tConfusion Matrix\n",
            " col_0      0     1\n",
            "state             \n",
            "0      18562  5351\n",
            "1       6075  7218\n",
            "\tRecall: [0.7762305022372767, 0.5429925524712255]\n",
            "\tPrecision: [0.7534196533668872, 0.5742700294375049]\n",
            "\tF1 Score: [0.7646549948506695, 0.5581934885159694]\n",
            "\tShowing last iteration over ADASYN [OVERSAMPLING] model.\n"
          ],
          "name": "stdout"
        },
        {
          "output_type": "display_data",
          "data": {
            "image/png": "[encoded data removed]",
            "text/plain": [
              "<Figure size 432x288 with 1 Axes>"
            ]
          },
          "metadata": {
            "tags": [],
            "needs_background": "light"
          }
        },
        {
          "output_type": "stream",
          "text": [
            "\tLog Loss Train: 0.51229261\n",
            "\tLog Loss Test: 0.58168696\n"
          ],
          "name": "stdout"
        },
        {
          "output_type": "display_data",
          "data": {
            "image/png": "[encoded data removed]",
            "text/plain": [
              "<Figure size 432x288 with 1 Axes>"
            ]
          },
          "metadata": {
            "tags": [],
            "needs_background": "light"
          }
        },
        {
          "output_type": "stream",
          "text": [
            "\tError Train: 0.2731372\n",
            "\tError Test: 0.317555365\n",
            "\n",
            "\n",
            "RandomUnderSampler [UNDERSAMPLING]\n",
            "\tWorking on 1/10\n",
            "\tDone 1/10\n",
            "\tWorking on 2/10\n",
            "\tDone 2/10\n",
            "\tWorking on 3/10\n",
            "\tDone 3/10\n",
            "\tWorking on 4/10\n",
            "\tDone 4/10\n",
            "\tWorking on 5/10\n",
            "\tDone 5/10\n",
            "\tWorking on 6/10\n",
            "\tDone 6/10\n",
            "\tWorking on 7/10\n",
            "\tDone 7/10\n",
            "\tWorking on 8/10\n",
            "\tDone 8/10\n",
            "\tWorking on 9/10\n",
            "\tDone 9/10\n",
            "\tWorking on 10/10\n",
            "\tDone 10/10\n",
            "\tCalculation time: 977.53secs\n",
            "\tAverage Calculation time: 97.75secs\n",
            "col_0      0     1\n",
            "state             \n",
            "0      15595  8318\n",
            "1       3980  9313\n",
            "\tConfusion Matrix\n",
            " col_0      0     1\n",
            "state             \n",
            "0      15595  8318\n",
            "1       3980  9313\n",
            "\tRecall: [0.6521557311922386, 0.7005942977506958]\n",
            "\tPrecision: [0.7966794380587484, 0.5282173444501163]\n",
            "\tF1 Score: [0.7172093451066961, 0.6023153537705342]\n",
            "\tShowing last iteration over RandomUnderSampler [UNDERSAMPLING] model.\n"
          ],
          "name": "stdout"
        },
        {
          "output_type": "display_data",
          "data": {
            "image/png": "[encoded data removed]",
            "text/plain": [
              "<Figure size 432x288 with 1 Axes>"
            ]
          },
          "metadata": {
            "tags": [],
            "needs_background": "light"
          }
        },
        {
          "output_type": "stream",
          "text": [
            "\tLog Loss Train: 0.59820716\n",
            "\tLog Loss Test: 0.60222931\n"
          ],
          "name": "stdout"
        },
        {
          "output_type": "display_data",
          "data": {
            "image/png": "[encoded data removed]",
            "text/plain": [
              "<Figure size 432x288 with 1 Axes>"
            ]
          },
          "metadata": {
            "tags": [],
            "needs_background": "light"
          }
        },
        {
          "output_type": "stream",
          "text": [
            "\tError Train: 0.327619165\n",
            "\tError Test: 0.3375716\n",
            "\n",
            "\n",
            "NearMiss v1 [UNDERSAMPLING]\n",
            "\tWorking on 1/10\n",
            "\tDone 1/10\n",
            "\tWorking on 2/10\n",
            "\tDone 2/10\n",
            "\tWorking on 3/10\n",
            "\tDone 3/10\n",
            "\tWorking on 4/10\n",
            "\tDone 4/10\n",
            "\tWorking on 5/10\n",
            "\tDone 5/10\n",
            "\tWorking on 6/10\n",
            "\tDone 6/10\n",
            "\tWorking on 7/10\n",
            "\tDone 7/10\n",
            "\tWorking on 8/10\n",
            "\tDone 8/10\n",
            "\tWorking on 9/10\n",
            "\tDone 9/10\n",
            "\tWorking on 10/10\n",
            "\tDone 10/10\n",
            "\tCalculation time: 5.59secs\n",
            "\tAverage Calculation time: 0.56secs\n",
            "col_0      0      1\n",
            "state              \n",
            "0      11955  11958\n",
            "1       5093   8200\n",
            "\tConfusion Matrix\n",
            " col_0      0      1\n",
            "state              \n",
            "0      11955  11958\n",
            "1       5093   8200\n",
            "\tRecall: [0.49993727261322296, 0.6168660197096216]\n",
            "\tPrecision: [0.7012552792116378, 0.40678638753844626]\n",
            "\tF1 Score: [0.583725983252362, 0.49026934919733334]\n",
            "\tShowing last iteration over NearMiss v1 [UNDERSAMPLING] model.\n"
          ],
          "name": "stdout"
        },
        {
          "output_type": "display_data",
          "data": {
            "image/png": "[encoded data removed]",
            "text/plain": [
              "<Figure size 432x288 with 1 Axes>"
            ]
          },
          "metadata": {
            "tags": [],
            "needs_background": "light"
          }
        },
        {
          "output_type": "stream",
          "text": [
            "\tLog Loss Train: 0.6260401\n",
            "\tLog Loss Test: 0.8079651\n"
          ],
          "name": "stdout"
        },
        {
          "output_type": "display_data",
          "data": {
            "image/png": "[encoded data removed]",
            "text/plain": [
              "<Figure size 432x288 with 1 Axes>"
            ]
          },
          "metadata": {
            "tags": [],
            "needs_background": "light"
          }
        },
        {
          "output_type": "stream",
          "text": [
            "\tError Train: 0.3580793\n",
            "\tError Test: 0.4405472\n",
            "\n",
            "\n",
            "NearMiss v3 [UNDERSAMPLING]\n",
            "\tWorking on 1/10\n",
            "\tDone 1/10\n",
            "\tWorking on 2/10\n",
            "\tDone 2/10\n",
            "\tWorking on 3/10\n",
            "\tDone 3/10\n",
            "\tWorking on 4/10\n",
            "\tDone 4/10\n",
            "\tWorking on 5/10\n",
            "\tDone 5/10\n",
            "\tWorking on 6/10\n",
            "\tDone 6/10\n",
            "\tWorking on 7/10\n",
            "\tDone 7/10\n",
            "\tWorking on 8/10\n",
            "\tDone 8/10\n",
            "\tWorking on 9/10\n",
            "\tDone 9/10\n",
            "\tWorking on 10/10\n",
            "\tDone 10/10\n",
            "\tCalculation time: 185.56secs\n",
            "\tAverage Calculation time: 18.56secs\n",
            "col_0      0     1\n",
            "state             \n",
            "0      16205  7708\n",
            "1       4767  8526\n",
            "\tConfusion Matrix\n",
            " col_0      0     1\n",
            "state             \n",
            "0      16205  7708\n",
            "1       4767  8526\n",
            "\tRecall: [0.677664868481579, 0.641390205371248]\n",
            "\tPrecision: [0.7726969292389854, 0.5251940372058642]\n",
            "\tF1 Score: [0.722067505848279, 0.5775053341009924]\n",
            "\tShowing last iteration over NearMiss v3 [UNDERSAMPLING] model.\n"
          ],
          "name": "stdout"
        },
        {
          "output_type": "display_data",
          "data": {
            "image/png": "[encoded data removed]",
            "text/plain": [
              "<Figure size 432x288 with 1 Axes>"
            ]
          },
          "metadata": {
            "tags": [],
            "needs_background": "light"
          }
        },
        {
          "output_type": "stream",
          "text": [
            "\tLog Loss Train: 0.6376768823529412\n",
            "\tLog Loss Test: 0.619123505882353\n"
          ],
          "name": "stdout"
        },
        {
          "output_type": "display_data",
          "data": {
            "image/png": "[encoded data removed]",
            "text/plain": [
              "<Figure size 432x288 with 1 Axes>"
            ]
          },
          "metadata": {
            "tags": [],
            "needs_background": "light"
          }
        },
        {
          "output_type": "stream",
          "text": [
            "\tError Train: 0.3652588\n",
            "\tError Test: 0.3449187294117647\n",
            "\n",
            "\n"
          ],
          "name": "stdout"
        }
      ]
    },
    {
      "cell_type": "markdown",
      "metadata": {
        "colab_type": "text",
        "id": "-3NCIUjfD0N-"
      },
      "source": [
        "# Random Forest Classifier\n",
        "Random Forest Classifier with default parameters, gives ~64% accuracy in 20s, so higher than SVC"
      ]
    },
    {
      "cell_type": "code",
      "metadata": {
        "colab_type": "code",
        "id": "OjG350YsD0OD",
        "outputId": "b0f35362-9ea7-477c-8d12-dfc55bb3d609",
        "colab": {
          "base_uri": "https://localhost:8080/",
          "height": 1000
        }
      },
      "source": [
        "for key in train_data.keys():\n",
        "  random_forest_clf = RandomForestClassifier(verbose=1, n_jobs=-1, random_state=2137)\n",
        "  print(key)\n",
        "  train_model(random_forest_clf, \"Random Forest\", train_data[key]['x'], train_data[key]['y'], test_data[key]['x'], test_data[key]['y'])"
      ],
      "execution_count": 0,
      "outputs": [
        {
          "output_type": "stream",
          "text": [
            "SMOTE [OVERSAMPLING]\n"
          ],
          "name": "stdout"
        },
        {
          "output_type": "stream",
          "text": [
            "[Parallel(n_jobs=-1)]: Using backend ThreadingBackend with 4 concurrent workers.\n",
            "[Parallel(n_jobs=-1)]: Done  42 tasks      | elapsed:   12.5s\n",
            "[Parallel(n_jobs=-1)]: Done 100 out of 100 | elapsed:   28.9s finished\n",
            "[Parallel(n_jobs=4)]: Using backend ThreadingBackend with 4 concurrent workers.\n",
            "[Parallel(n_jobs=4)]: Done  42 tasks      | elapsed:    0.3s\n",
            "[Parallel(n_jobs=4)]: Done 100 out of 100 | elapsed:    0.6s finished\n",
            "[Parallel(n_jobs=4)]: Using backend ThreadingBackend with 4 concurrent workers.\n"
          ],
          "name": "stderr"
        },
        {
          "output_type": "stream",
          "text": [
            "\tRandom Forest\n"
          ],
          "name": "stdout"
        },
        {
          "output_type": "stream",
          "text": [
            "[Parallel(n_jobs=4)]: Done  42 tasks      | elapsed:    0.3s\n",
            "[Parallel(n_jobs=4)]: Done 100 out of 100 | elapsed:    0.6s finished\n"
          ],
          "name": "stderr"
        },
        {
          "output_type": "stream",
          "text": [
            "\t\tScore: 0.6575552330269311\n",
            "\t\tTraining time: 30.47 seconds\n",
            "\t\tConfusion Matrix\n",
            " col_0      0     1\n",
            "state             \n",
            "0      17915  5998\n",
            "1       6743  6550\n",
            "\t\tClassification Report\n",
            "               precision    recall  f1-score   support\n",
            "\n",
            "           0       0.73      0.75      0.74     23913\n",
            "           1       0.52      0.49      0.51     13293\n",
            "\n",
            "    accuracy                           0.66     37206\n",
            "   macro avg       0.62      0.62      0.62     37206\n",
            "weighted avg       0.65      0.66      0.66     37206\n",
            "\n"
          ],
          "name": "stdout"
        },
        {
          "output_type": "stream",
          "text": [
            "[Parallel(n_jobs=-1)]: Using backend ThreadingBackend with 4 concurrent workers.\n",
            "[Parallel(n_jobs=-1)]: Done  42 tasks      | elapsed:   11.2s\n",
            "[Parallel(n_jobs=-1)]: Done 100 out of 100 | elapsed:   25.7s finished\n",
            "[Parallel(n_jobs=4)]: Using backend ThreadingBackend with 4 concurrent workers.\n",
            "[Parallel(n_jobs=4)]: Done  42 tasks      | elapsed:    0.3s\n",
            "[Parallel(n_jobs=4)]: Done 100 out of 100 | elapsed:    0.6s finished\n",
            "[Parallel(n_jobs=4)]: Using backend ThreadingBackend with 4 concurrent workers.\n"
          ],
          "name": "stderr"
        },
        {
          "output_type": "stream",
          "text": [
            "SMOTENC [OVERSAMPLING]\n",
            "\tRandom Forest\n"
          ],
          "name": "stdout"
        },
        {
          "output_type": "stream",
          "text": [
            "[Parallel(n_jobs=4)]: Done  42 tasks      | elapsed:    0.3s\n",
            "[Parallel(n_jobs=4)]: Done 100 out of 100 | elapsed:    0.6s finished\n"
          ],
          "name": "stderr"
        },
        {
          "output_type": "stream",
          "text": [
            "\t\tScore: 0.6535505026071063\n",
            "\t\tTraining time: 27.06 seconds\n",
            "\t\tConfusion Matrix\n",
            " col_0      0     1\n",
            "state             \n",
            "0      17346  6567\n",
            "1       6323  6970\n",
            "\t\tClassification Report\n",
            "               precision    recall  f1-score   support\n",
            "\n",
            "           0       0.73      0.73      0.73     23913\n",
            "           1       0.51      0.52      0.52     13293\n",
            "\n",
            "    accuracy                           0.65     37206\n",
            "   macro avg       0.62      0.62      0.62     37206\n",
            "weighted avg       0.65      0.65      0.65     37206\n",
            "\n",
            "ADASYN [OVERSAMPLING]\n"
          ],
          "name": "stdout"
        },
        {
          "output_type": "stream",
          "text": [
            "[Parallel(n_jobs=-1)]: Using backend ThreadingBackend with 4 concurrent workers.\n",
            "[Parallel(n_jobs=-1)]: Done  42 tasks      | elapsed:   13.6s\n",
            "[Parallel(n_jobs=-1)]: Done 100 out of 100 | elapsed:   31.1s finished\n",
            "[Parallel(n_jobs=4)]: Using backend ThreadingBackend with 4 concurrent workers.\n",
            "[Parallel(n_jobs=4)]: Done  42 tasks      | elapsed:    0.3s\n",
            "[Parallel(n_jobs=4)]: Done 100 out of 100 | elapsed:    0.6s finished\n",
            "[Parallel(n_jobs=4)]: Using backend ThreadingBackend with 4 concurrent workers.\n"
          ],
          "name": "stderr"
        },
        {
          "output_type": "stream",
          "text": [
            "\tRandom Forest\n"
          ],
          "name": "stdout"
        },
        {
          "output_type": "stream",
          "text": [
            "[Parallel(n_jobs=4)]: Done  42 tasks      | elapsed:    0.3s\n",
            "[Parallel(n_jobs=4)]: Done 100 out of 100 | elapsed:    0.6s finished\n"
          ],
          "name": "stderr"
        },
        {
          "output_type": "stream",
          "text": [
            "\t\tScore: 0.6536042573778423\n",
            "\t\tTraining time: 32.56 seconds\n",
            "\t\tConfusion Matrix\n",
            " col_0      0     1\n",
            "state             \n",
            "0      17727  6186\n",
            "1       6702  6591\n",
            "\t\tClassification Report\n",
            "               precision    recall  f1-score   support\n",
            "\n",
            "           0       0.73      0.74      0.73     23913\n",
            "           1       0.52      0.50      0.51     13293\n",
            "\n",
            "    accuracy                           0.65     37206\n",
            "   macro avg       0.62      0.62      0.62     37206\n",
            "weighted avg       0.65      0.65      0.65     37206\n",
            "\n"
          ],
          "name": "stdout"
        },
        {
          "output_type": "stream",
          "text": [
            "[Parallel(n_jobs=-1)]: Using backend ThreadingBackend with 4 concurrent workers.\n",
            "[Parallel(n_jobs=-1)]: Done  42 tasks      | elapsed:    5.8s\n",
            "[Parallel(n_jobs=-1)]: Done 100 out of 100 | elapsed:   13.4s finished\n",
            "[Parallel(n_jobs=4)]: Using backend ThreadingBackend with 4 concurrent workers.\n",
            "[Parallel(n_jobs=4)]: Done  42 tasks      | elapsed:    0.2s\n",
            "[Parallel(n_jobs=4)]: Done 100 out of 100 | elapsed:    0.5s finished\n",
            "[Parallel(n_jobs=4)]: Using backend ThreadingBackend with 4 concurrent workers.\n"
          ],
          "name": "stderr"
        },
        {
          "output_type": "stream",
          "text": [
            "RandomUnderSampler [UNDERSAMPLING]\n",
            "\tRandom Forest\n"
          ],
          "name": "stdout"
        },
        {
          "output_type": "stream",
          "text": [
            "[Parallel(n_jobs=4)]: Done  42 tasks      | elapsed:    0.2s\n",
            "[Parallel(n_jobs=4)]: Done 100 out of 100 | elapsed:    0.5s finished\n"
          ],
          "name": "stderr"
        },
        {
          "output_type": "stream",
          "text": [
            "\t\tScore: 0.634978229317852\n",
            "\t\tTraining time: 14.82 seconds\n",
            "\t\tConfusion Matrix\n",
            " col_0      0     1\n",
            "state             \n",
            "0      15075  8838\n",
            "1       4743  8550\n",
            "\t\tClassification Report\n",
            "               precision    recall  f1-score   support\n",
            "\n",
            "           0       0.76      0.63      0.69     23913\n",
            "           1       0.49      0.64      0.56     13293\n",
            "\n",
            "    accuracy                           0.63     37206\n",
            "   macro avg       0.63      0.64      0.62     37206\n",
            "weighted avg       0.66      0.63      0.64     37206\n",
            "\n"
          ],
          "name": "stdout"
        },
        {
          "output_type": "stream",
          "text": [
            "[Parallel(n_jobs=-1)]: Using backend ThreadingBackend with 4 concurrent workers.\n",
            "[Parallel(n_jobs=-1)]: Done  42 tasks      | elapsed:    5.5s\n",
            "[Parallel(n_jobs=-1)]: Done 100 out of 100 | elapsed:   12.6s finished\n",
            "[Parallel(n_jobs=4)]: Using backend ThreadingBackend with 4 concurrent workers.\n",
            "[Parallel(n_jobs=4)]: Done  42 tasks      | elapsed:    0.2s\n",
            "[Parallel(n_jobs=4)]: Done 100 out of 100 | elapsed:    0.5s finished\n",
            "[Parallel(n_jobs=4)]: Using backend ThreadingBackend with 4 concurrent workers.\n"
          ],
          "name": "stderr"
        },
        {
          "output_type": "stream",
          "text": [
            "NearMiss v1 [UNDERSAMPLING]\n",
            "\tRandom Forest\n"
          ],
          "name": "stdout"
        },
        {
          "output_type": "stream",
          "text": [
            "[Parallel(n_jobs=4)]: Done  42 tasks      | elapsed:    0.2s\n",
            "[Parallel(n_jobs=4)]: Done 100 out of 100 | elapsed:    0.5s finished\n"
          ],
          "name": "stderr"
        },
        {
          "output_type": "stream",
          "text": [
            "\t\tScore: 0.528221254636349\n",
            "\t\tTraining time: 13.91 seconds\n",
            "\t\tConfusion Matrix\n",
            " col_0      0      1\n",
            "state              \n",
            "0      10970  12943\n",
            "1       4610   8683\n",
            "\t\tClassification Report\n",
            "               precision    recall  f1-score   support\n",
            "\n",
            "           0       0.70      0.46      0.56     23913\n",
            "           1       0.40      0.65      0.50     13293\n",
            "\n",
            "    accuracy                           0.53     37206\n",
            "   macro avg       0.55      0.56      0.53     37206\n",
            "weighted avg       0.60      0.53      0.53     37206\n",
            "\n",
            "NearMiss v3 [UNDERSAMPLING]\n"
          ],
          "name": "stdout"
        },
        {
          "output_type": "stream",
          "text": [
            "[Parallel(n_jobs=-1)]: Using backend ThreadingBackend with 4 concurrent workers.\n",
            "[Parallel(n_jobs=-1)]: Done  42 tasks      | elapsed:    5.7s\n",
            "[Parallel(n_jobs=-1)]: Done 100 out of 100 | elapsed:   13.1s finished\n",
            "[Parallel(n_jobs=4)]: Using backend ThreadingBackend with 4 concurrent workers.\n",
            "[Parallel(n_jobs=4)]: Done  42 tasks      | elapsed:    0.2s\n",
            "[Parallel(n_jobs=4)]: Done 100 out of 100 | elapsed:    0.6s finished\n",
            "[Parallel(n_jobs=4)]: Using backend ThreadingBackend with 4 concurrent workers.\n"
          ],
          "name": "stderr"
        },
        {
          "output_type": "stream",
          "text": [
            "\tRandom Forest\n"
          ],
          "name": "stdout"
        },
        {
          "output_type": "stream",
          "text": [
            "[Parallel(n_jobs=4)]: Done  42 tasks      | elapsed:    0.2s\n"
          ],
          "name": "stderr"
        },
        {
          "output_type": "stream",
          "text": [
            "\t\tScore: 0.623313444068161\n",
            "\t\tTraining time: 14.42 seconds\n",
            "\t\tConfusion Matrix\n",
            " col_0      0     1\n",
            "state             \n",
            "0      15264  8649\n",
            "1       5366  7927\n",
            "\t\tClassification Report\n",
            "               precision    recall  f1-score   support\n",
            "\n",
            "           0       0.74      0.64      0.69     23913\n",
            "           1       0.48      0.60      0.53     13293\n",
            "\n",
            "    accuracy                           0.62     37206\n",
            "   macro avg       0.61      0.62      0.61     37206\n",
            "weighted avg       0.65      0.62      0.63     37206\n",
            "\n"
          ],
          "name": "stdout"
        },
        {
          "output_type": "stream",
          "text": [
            "[Parallel(n_jobs=4)]: Done 100 out of 100 | elapsed:    0.5s finished\n"
          ],
          "name": "stderr"
        }
      ]
    },
    {
      "cell_type": "markdown",
      "metadata": {
        "colab_type": "text",
        "id": "SKqTaDUGD0OI"
      },
      "source": [
        "# Random Forest Search Best Parameters\n",
        "Brute-force this classifier, to find the best parameters."
      ]
    },
    {
      "cell_type": "code",
      "metadata": {
        "colab_type": "code",
        "id": "jSFSwPfXD0OJ",
        "colab": {}
      },
      "source": [
        "parameters_forest = {\n",
        "    'max_depth': [3, 10],\n",
        "    'min_samples_split': [2, 1e-7, 1e-3, .1],\n",
        "    'min_samples_leaf': [1, 1e-7, 1e-3, .1],\n",
        "    'oob_score': [True, False],\n",
        "    'ccp_alpha': [0, 1],\n",
        "}\n",
        "\n",
        "# the best version\n",
        "random_forest_clf = RandomForestClassifier(verbose=1, n_jobs=-1, random_state=2137)\n",
        "grid_obj_forest = GridSearchCV(random_forest_clf, param_grid=parameters_forest, verbose=5, cv=4)\n",
        "grid_obj_forest = grid_obj_forest.fit(X_train, y_train)\n",
        "\n",
        "print(\"Best parameters for Random Forest:\", grid_obj_forest.best_params_)\n",
        "print(\"Best score for above parameters:\", grid_obj_forest.best_score_)\n",
        "print(\"Accuracy of Random Forest Model w/ best parameters:\", grid_obj_forest.score(X_test, y_test))"
      ],
      "execution_count": 0,
      "outputs": []
    },
    {
      "cell_type": "markdown",
      "metadata": {
        "colab_type": "text",
        "id": "61OJBmcfD0OM"
      },
      "source": [
        "# Random Forest Best Parameters\n",
        "2% accuracy boost between default & best parameter models\n",
        "\n",
        "Best parameters for Random Forest: {'ccp_alpha': 0, 'max_depth': 10, 'min_samples_leaf': 1, 'min_samples_split': 1e-07, 'oob_score': True}\n",
        "\n",
        "Best score for above parameters: 0.6686757764793282\n",
        "\n",
        "Accuracy of Random Forest Model w/ best parameters: 0.6693115308031135"
      ]
    },
    {
      "cell_type": "markdown",
      "metadata": {
        "id": "GWnhrKsgLUlD",
        "colab_type": "text"
      },
      "source": [
        "# Deep Neural Network"
      ]
    },
    {
      "cell_type": "code",
      "metadata": {
        "id": "VTV6Or_U3y2m",
        "colab_type": "code",
        "outputId": "90dd88e2-c003-4bb3-af46-e51b36b2875b",
        "colab": {
          "base_uri": "https://localhost:8080/",
          "height": 1000
        }
      },
      "source": [
        "tf.random.set_seed(2137)\n",
        "\n",
        "model = tf.keras.models.Sequential([\n",
        "  tf.keras.layers.Dense(128, input_dim=X_train.shape[1], activation='relu'),\n",
        "  tf.keras.layers.Dense(64, activation='relu'),\n",
        "  tf.keras.layers.Dense(1, activation='sigmoid'),\n",
        "])\n",
        "\n",
        "model.compile(loss='binary_crossentropy', optimizer='adam', metrics=['accuracy', tf.keras.metrics.Recall()])\n",
        "model.fit(X_train, y_train, epochs=250, batch_size=1024, validation_data=(X_val, y_val))\n",
        "\n",
        "loss, accuracy, recall = model.evaluate(X_test, y_test)\n",
        "print(\"Loss for test data:\", loss)\n",
        "print(\"Accuracy for test data:\", accuracy)"
      ],
      "execution_count": 0,
      "outputs": [
        {
          "output_type": "stream",
          "text": [
            "Epoch 1/250\n",
            "377/377 [==============================] - 2s 5ms/step - loss: 0.6580 - accuracy: 0.6048 - recall: 0.6814 - val_loss: 0.6551 - val_accuracy: 0.5883 - val_recall: 0.6677\n",
            "Epoch 2/250\n",
            "377/377 [==============================] - 2s 4ms/step - loss: 0.6387 - accuracy: 0.6302 - recall: 0.7040 - val_loss: 0.6414 - val_accuracy: 0.6062 - val_recall: 0.6337\n",
            "Epoch 3/250\n",
            "377/377 [==============================] - 2s 4ms/step - loss: 0.6344 - accuracy: 0.6343 - recall: 0.6992 - val_loss: 0.6440 - val_accuracy: 0.6050 - val_recall: 0.6650\n",
            "Epoch 4/250\n",
            "377/377 [==============================] - 2s 4ms/step - loss: 0.6309 - accuracy: 0.6372 - recall: 0.6979 - val_loss: 0.6482 - val_accuracy: 0.5963 - val_recall: 0.7155\n",
            "Epoch 5/250\n",
            "377/377 [==============================] - 2s 4ms/step - loss: 0.6282 - accuracy: 0.6399 - recall: 0.6949 - val_loss: 0.6412 - val_accuracy: 0.6113 - val_recall: 0.6873\n",
            "Epoch 6/250\n",
            "377/377 [==============================] - 2s 4ms/step - loss: 0.6258 - accuracy: 0.6422 - recall: 0.6953 - val_loss: 0.6448 - val_accuracy: 0.6079 - val_recall: 0.6959\n",
            "Epoch 7/250\n",
            "377/377 [==============================] - 2s 4ms/step - loss: 0.6238 - accuracy: 0.6445 - recall: 0.6942 - val_loss: 0.6348 - val_accuracy: 0.6181 - val_recall: 0.6723\n",
            "Epoch 8/250\n",
            "377/377 [==============================] - 2s 4ms/step - loss: 0.6218 - accuracy: 0.6462 - recall: 0.6927 - val_loss: 0.6353 - val_accuracy: 0.6166 - val_recall: 0.6807\n",
            "Epoch 9/250\n",
            "377/377 [==============================] - 2s 4ms/step - loss: 0.6203 - accuracy: 0.6476 - recall: 0.6934 - val_loss: 0.6237 - val_accuracy: 0.6344 - val_recall: 0.6184\n",
            "Epoch 10/250\n",
            "377/377 [==============================] - 2s 4ms/step - loss: 0.6186 - accuracy: 0.6494 - recall: 0.6941 - val_loss: 0.6140 - val_accuracy: 0.6478 - val_recall: 0.5762\n",
            "Epoch 11/250\n",
            "377/377 [==============================] - 2s 4ms/step - loss: 0.6173 - accuracy: 0.6500 - recall: 0.6913 - val_loss: 0.6414 - val_accuracy: 0.6139 - val_recall: 0.6860\n",
            "Epoch 12/250\n",
            "377/377 [==============================] - 2s 4ms/step - loss: 0.6166 - accuracy: 0.6508 - recall: 0.6925 - val_loss: 0.6223 - val_accuracy: 0.6355 - val_recall: 0.6259\n",
            "Epoch 13/250\n",
            "377/377 [==============================] - 2s 4ms/step - loss: 0.6148 - accuracy: 0.6526 - recall: 0.6923 - val_loss: 0.6288 - val_accuracy: 0.6257 - val_recall: 0.6667\n",
            "Epoch 14/250\n",
            "377/377 [==============================] - 2s 4ms/step - loss: 0.6140 - accuracy: 0.6533 - recall: 0.6919 - val_loss: 0.6281 - val_accuracy: 0.6271 - val_recall: 0.6706\n",
            "Epoch 15/250\n",
            "377/377 [==============================] - 2s 4ms/step - loss: 0.6128 - accuracy: 0.6546 - recall: 0.6923 - val_loss: 0.6392 - val_accuracy: 0.6203 - val_recall: 0.6925\n",
            "Epoch 16/250\n",
            "377/377 [==============================] - 2s 4ms/step - loss: 0.6117 - accuracy: 0.6554 - recall: 0.6925 - val_loss: 0.6214 - val_accuracy: 0.6372 - val_recall: 0.6384\n",
            "Epoch 17/250\n",
            "377/377 [==============================] - 2s 4ms/step - loss: 0.6111 - accuracy: 0.6562 - recall: 0.6911 - val_loss: 0.6198 - val_accuracy: 0.6388 - val_recall: 0.6311\n",
            "Epoch 18/250\n",
            "377/377 [==============================] - 2s 4ms/step - loss: 0.6102 - accuracy: 0.6575 - recall: 0.6915 - val_loss: 0.6166 - val_accuracy: 0.6448 - val_recall: 0.6285\n",
            "Epoch 19/250\n",
            "377/377 [==============================] - 2s 4ms/step - loss: 0.6100 - accuracy: 0.6579 - recall: 0.6894 - val_loss: 0.6150 - val_accuracy: 0.6442 - val_recall: 0.6166\n",
            "Epoch 20/250\n",
            "377/377 [==============================] - 2s 4ms/step - loss: 0.6091 - accuracy: 0.6582 - recall: 0.6897 - val_loss: 0.6198 - val_accuracy: 0.6403 - val_recall: 0.6456\n",
            "Epoch 21/250\n",
            "377/377 [==============================] - 2s 4ms/step - loss: 0.6085 - accuracy: 0.6591 - recall: 0.6887 - val_loss: 0.6396 - val_accuracy: 0.6225 - val_recall: 0.7046\n",
            "Epoch 22/250\n",
            "377/377 [==============================] - 2s 4ms/step - loss: 0.6074 - accuracy: 0.6607 - recall: 0.6898 - val_loss: 0.6233 - val_accuracy: 0.6367 - val_recall: 0.6632\n",
            "Epoch 23/250\n",
            "377/377 [==============================] - 2s 4ms/step - loss: 0.6068 - accuracy: 0.6611 - recall: 0.6886 - val_loss: 0.6121 - val_accuracy: 0.6515 - val_recall: 0.6045\n",
            "Epoch 24/250\n",
            "377/377 [==============================] - 2s 4ms/step - loss: 0.6066 - accuracy: 0.6611 - recall: 0.6877 - val_loss: 0.6160 - val_accuracy: 0.6474 - val_recall: 0.6350\n",
            "Epoch 25/250\n",
            "377/377 [==============================] - 2s 4ms/step - loss: 0.6053 - accuracy: 0.6639 - recall: 0.6902 - val_loss: 0.6275 - val_accuracy: 0.6369 - val_recall: 0.6763\n",
            "Epoch 26/250\n",
            "377/377 [==============================] - 2s 4ms/step - loss: 0.6051 - accuracy: 0.6635 - recall: 0.6888 - val_loss: 0.6117 - val_accuracy: 0.6517 - val_recall: 0.6358\n",
            "Epoch 27/250\n",
            "377/377 [==============================] - 2s 4ms/step - loss: 0.6041 - accuracy: 0.6640 - recall: 0.6885 - val_loss: 0.6207 - val_accuracy: 0.6395 - val_recall: 0.6835\n",
            "Epoch 28/250\n",
            "377/377 [==============================] - 2s 4ms/step - loss: 0.6036 - accuracy: 0.6650 - recall: 0.6890 - val_loss: 0.6098 - val_accuracy: 0.6515 - val_recall: 0.6238\n",
            "Epoch 29/250\n",
            "377/377 [==============================] - 2s 4ms/step - loss: 0.6031 - accuracy: 0.6654 - recall: 0.6888 - val_loss: 0.6175 - val_accuracy: 0.6476 - val_recall: 0.6538\n",
            "Epoch 30/250\n",
            "377/377 [==============================] - 2s 4ms/step - loss: 0.6025 - accuracy: 0.6661 - recall: 0.6888 - val_loss: 0.6264 - val_accuracy: 0.6388 - val_recall: 0.6980\n",
            "Epoch 31/250\n",
            "377/377 [==============================] - 2s 4ms/step - loss: 0.6016 - accuracy: 0.6670 - recall: 0.6895 - val_loss: 0.6278 - val_accuracy: 0.6349 - val_recall: 0.7020\n",
            "Epoch 32/250\n",
            "377/377 [==============================] - 2s 4ms/step - loss: 0.6020 - accuracy: 0.6665 - recall: 0.6890 - val_loss: 0.6197 - val_accuracy: 0.6441 - val_recall: 0.6632\n",
            "Epoch 33/250\n",
            "377/377 [==============================] - 2s 4ms/step - loss: 0.6013 - accuracy: 0.6668 - recall: 0.6884 - val_loss: 0.6101 - val_accuracy: 0.6534 - val_recall: 0.6334\n",
            "Epoch 34/250\n",
            "377/377 [==============================] - 2s 4ms/step - loss: 0.6009 - accuracy: 0.6672 - recall: 0.6879 - val_loss: 0.6403 - val_accuracy: 0.6211 - val_recall: 0.7414\n",
            "Epoch 35/250\n",
            "377/377 [==============================] - 2s 4ms/step - loss: 0.6003 - accuracy: 0.6689 - recall: 0.6910 - val_loss: 0.6154 - val_accuracy: 0.6513 - val_recall: 0.6486\n",
            "Epoch 36/250\n",
            "377/377 [==============================] - 2s 4ms/step - loss: 0.5998 - accuracy: 0.6690 - recall: 0.6913 - val_loss: 0.6115 - val_accuracy: 0.6541 - val_recall: 0.6448\n",
            "Epoch 37/250\n",
            "377/377 [==============================] - 2s 4ms/step - loss: 0.5989 - accuracy: 0.6698 - recall: 0.6910 - val_loss: 0.6089 - val_accuracy: 0.6568 - val_recall: 0.6383\n",
            "Epoch 38/250\n",
            "377/377 [==============================] - 2s 4ms/step - loss: 0.5989 - accuracy: 0.6703 - recall: 0.6913 - val_loss: 0.6128 - val_accuracy: 0.6512 - val_recall: 0.6517\n",
            "Epoch 39/250\n",
            "377/377 [==============================] - 2s 4ms/step - loss: 0.5983 - accuracy: 0.6711 - recall: 0.6935 - val_loss: 0.6017 - val_accuracy: 0.6649 - val_recall: 0.5892\n",
            "Epoch 40/250\n",
            "377/377 [==============================] - 2s 4ms/step - loss: 0.5977 - accuracy: 0.6714 - recall: 0.6931 - val_loss: 0.5974 - val_accuracy: 0.6704 - val_recall: 0.5593\n",
            "Epoch 41/250\n",
            "377/377 [==============================] - 2s 4ms/step - loss: 0.5980 - accuracy: 0.6713 - recall: 0.6922 - val_loss: 0.6115 - val_accuracy: 0.6538 - val_recall: 0.6587\n",
            "Epoch 42/250\n",
            "377/377 [==============================] - 2s 4ms/step - loss: 0.5968 - accuracy: 0.6728 - recall: 0.6944 - val_loss: 0.5949 - val_accuracy: 0.6742 - val_recall: 0.5418\n",
            "Epoch 43/250\n",
            "377/377 [==============================] - 2s 4ms/step - loss: 0.5965 - accuracy: 0.6728 - recall: 0.6938 - val_loss: 0.6131 - val_accuracy: 0.6507 - val_recall: 0.6695\n",
            "Epoch 44/250\n",
            "377/377 [==============================] - 2s 4ms/step - loss: 0.5962 - accuracy: 0.6733 - recall: 0.6950 - val_loss: 0.6191 - val_accuracy: 0.6464 - val_recall: 0.6852\n",
            "Epoch 45/250\n",
            "377/377 [==============================] - 2s 4ms/step - loss: 0.5954 - accuracy: 0.6735 - recall: 0.6942 - val_loss: 0.6145 - val_accuracy: 0.6538 - val_recall: 0.6632\n",
            "Epoch 46/250\n",
            "377/377 [==============================] - 2s 4ms/step - loss: 0.5952 - accuracy: 0.6740 - recall: 0.6944 - val_loss: 0.6159 - val_accuracy: 0.6514 - val_recall: 0.6663\n",
            "Epoch 47/250\n",
            "377/377 [==============================] - 2s 4ms/step - loss: 0.5947 - accuracy: 0.6744 - recall: 0.6961 - val_loss: 0.6078 - val_accuracy: 0.6594 - val_recall: 0.6412\n",
            "Epoch 48/250\n",
            "377/377 [==============================] - 2s 4ms/step - loss: 0.5944 - accuracy: 0.6752 - recall: 0.6959 - val_loss: 0.6138 - val_accuracy: 0.6513 - val_recall: 0.6632\n",
            "Epoch 49/250\n",
            "377/377 [==============================] - 2s 5ms/step - loss: 0.5944 - accuracy: 0.6749 - recall: 0.6945 - val_loss: 0.6258 - val_accuracy: 0.6391 - val_recall: 0.7025\n",
            "Epoch 50/250\n",
            "377/377 [==============================] - 2s 5ms/step - loss: 0.5940 - accuracy: 0.6750 - recall: 0.6962 - val_loss: 0.6144 - val_accuracy: 0.6508 - val_recall: 0.6592\n",
            "Epoch 51/250\n",
            "377/377 [==============================] - 2s 4ms/step - loss: 0.5933 - accuracy: 0.6760 - recall: 0.6963 - val_loss: 0.6199 - val_accuracy: 0.6505 - val_recall: 0.6635\n",
            "Epoch 52/250\n",
            "377/377 [==============================] - 2s 4ms/step - loss: 0.5934 - accuracy: 0.6755 - recall: 0.6955 - val_loss: 0.6139 - val_accuracy: 0.6505 - val_recall: 0.6704\n",
            "Epoch 53/250\n",
            "377/377 [==============================] - 2s 4ms/step - loss: 0.5925 - accuracy: 0.6766 - recall: 0.6965 - val_loss: 0.5993 - val_accuracy: 0.6697 - val_recall: 0.5885\n",
            "Epoch 54/250\n",
            "377/377 [==============================] - 2s 4ms/step - loss: 0.5929 - accuracy: 0.6764 - recall: 0.6962 - val_loss: 0.6041 - val_accuracy: 0.6631 - val_recall: 0.6145\n",
            "Epoch 55/250\n",
            "377/377 [==============================] - 2s 4ms/step - loss: 0.5922 - accuracy: 0.6775 - recall: 0.6975 - val_loss: 0.6150 - val_accuracy: 0.6507 - val_recall: 0.6815\n",
            "Epoch 56/250\n",
            "377/377 [==============================] - 2s 4ms/step - loss: 0.5922 - accuracy: 0.6771 - recall: 0.6969 - val_loss: 0.6219 - val_accuracy: 0.6392 - val_recall: 0.7011\n",
            "Epoch 57/250\n",
            "377/377 [==============================] - 2s 4ms/step - loss: 0.5920 - accuracy: 0.6774 - recall: 0.6972 - val_loss: 0.6163 - val_accuracy: 0.6481 - val_recall: 0.6922\n",
            "Epoch 58/250\n",
            "377/377 [==============================] - 2s 4ms/step - loss: 0.5914 - accuracy: 0.6783 - recall: 0.6983 - val_loss: 0.6037 - val_accuracy: 0.6657 - val_recall: 0.6342\n",
            "Epoch 59/250\n",
            "377/377 [==============================] - 2s 4ms/step - loss: 0.5911 - accuracy: 0.6783 - recall: 0.6969 - val_loss: 0.6401 - val_accuracy: 0.6317 - val_recall: 0.7265\n",
            "Epoch 60/250\n",
            "377/377 [==============================] - 2s 4ms/step - loss: 0.5911 - accuracy: 0.6778 - recall: 0.6982 - val_loss: 0.6194 - val_accuracy: 0.6445 - val_recall: 0.7032\n",
            "Epoch 61/250\n",
            "377/377 [==============================] - 2s 4ms/step - loss: 0.5909 - accuracy: 0.6787 - recall: 0.6991 - val_loss: 0.6159 - val_accuracy: 0.6505 - val_recall: 0.6848\n",
            "Epoch 62/250\n",
            "377/377 [==============================] - 2s 4ms/step - loss: 0.5909 - accuracy: 0.6780 - recall: 0.6968 - val_loss: 0.6154 - val_accuracy: 0.6495 - val_recall: 0.6748\n",
            "Epoch 63/250\n",
            "377/377 [==============================] - 2s 4ms/step - loss: 0.5906 - accuracy: 0.6785 - recall: 0.6969 - val_loss: 0.6137 - val_accuracy: 0.6533 - val_recall: 0.6724\n",
            "Epoch 64/250\n",
            "377/377 [==============================] - 2s 4ms/step - loss: 0.5901 - accuracy: 0.6787 - recall: 0.6981 - val_loss: 0.6181 - val_accuracy: 0.6489 - val_recall: 0.6852\n",
            "Epoch 65/250\n",
            "377/377 [==============================] - 2s 4ms/step - loss: 0.5900 - accuracy: 0.6784 - recall: 0.6982 - val_loss: 0.6277 - val_accuracy: 0.6383 - val_recall: 0.7131\n",
            "Epoch 66/250\n",
            "377/377 [==============================] - 2s 4ms/step - loss: 0.5898 - accuracy: 0.6791 - recall: 0.6982 - val_loss: 0.6268 - val_accuracy: 0.6384 - val_recall: 0.7135\n",
            "Epoch 67/250\n",
            "377/377 [==============================] - 2s 4ms/step - loss: 0.5898 - accuracy: 0.6795 - recall: 0.6981 - val_loss: 0.6026 - val_accuracy: 0.6645 - val_recall: 0.6276\n",
            "Epoch 68/250\n",
            "377/377 [==============================] - 2s 4ms/step - loss: 0.5893 - accuracy: 0.6798 - recall: 0.6986 - val_loss: 0.6031 - val_accuracy: 0.6651 - val_recall: 0.6279\n",
            "Epoch 69/250\n",
            "377/377 [==============================] - 2s 4ms/step - loss: 0.5889 - accuracy: 0.6804 - recall: 0.6990 - val_loss: 0.6099 - val_accuracy: 0.6575 - val_recall: 0.6577\n",
            "Epoch 70/250\n",
            "377/377 [==============================] - 2s 4ms/step - loss: 0.5888 - accuracy: 0.6807 - recall: 0.6985 - val_loss: 0.6032 - val_accuracy: 0.6644 - val_recall: 0.6280\n",
            "Epoch 71/250\n",
            "377/377 [==============================] - 2s 4ms/step - loss: 0.5885 - accuracy: 0.6802 - recall: 0.6984 - val_loss: 0.6240 - val_accuracy: 0.6406 - val_recall: 0.7131\n",
            "Epoch 72/250\n",
            "377/377 [==============================] - 2s 4ms/step - loss: 0.5890 - accuracy: 0.6797 - recall: 0.6988 - val_loss: 0.5946 - val_accuracy: 0.6726 - val_recall: 0.6002\n",
            "Epoch 73/250\n",
            "377/377 [==============================] - 2s 4ms/step - loss: 0.5887 - accuracy: 0.6806 - recall: 0.6982 - val_loss: 0.6175 - val_accuracy: 0.6485 - val_recall: 0.6925\n",
            "Epoch 74/250\n",
            "377/377 [==============================] - 2s 5ms/step - loss: 0.5884 - accuracy: 0.6806 - recall: 0.6985 - val_loss: 0.6180 - val_accuracy: 0.6466 - val_recall: 0.6743\n",
            "Epoch 75/250\n",
            "377/377 [==============================] - 2s 5ms/step - loss: 0.5887 - accuracy: 0.6805 - recall: 0.6994 - val_loss: 0.6178 - val_accuracy: 0.6516 - val_recall: 0.6752\n",
            "Epoch 76/250\n",
            "377/377 [==============================] - 2s 4ms/step - loss: 0.5884 - accuracy: 0.6805 - recall: 0.6988 - val_loss: 0.6117 - val_accuracy: 0.6563 - val_recall: 0.6665\n",
            "Epoch 77/250\n",
            "377/377 [==============================] - 2s 4ms/step - loss: 0.5883 - accuracy: 0.6803 - recall: 0.6983 - val_loss: 0.6216 - val_accuracy: 0.6463 - val_recall: 0.6932\n",
            "Epoch 78/250\n",
            "377/377 [==============================] - 2s 4ms/step - loss: 0.5881 - accuracy: 0.6809 - recall: 0.6994 - val_loss: 0.6021 - val_accuracy: 0.6656 - val_recall: 0.6316\n",
            "Epoch 79/250\n",
            "377/377 [==============================] - 2s 4ms/step - loss: 0.5880 - accuracy: 0.6803 - recall: 0.6992 - val_loss: 0.6210 - val_accuracy: 0.6469 - val_recall: 0.7077\n",
            "Epoch 80/250\n",
            "377/377 [==============================] - 2s 4ms/step - loss: 0.5872 - accuracy: 0.6822 - recall: 0.6996 - val_loss: 0.6146 - val_accuracy: 0.6543 - val_recall: 0.6812\n",
            "Epoch 81/250\n",
            "377/377 [==============================] - 2s 4ms/step - loss: 0.5871 - accuracy: 0.6815 - recall: 0.6990 - val_loss: 0.6341 - val_accuracy: 0.6342 - val_recall: 0.7286\n",
            "Epoch 82/250\n",
            "377/377 [==============================] - 2s 4ms/step - loss: 0.5867 - accuracy: 0.6827 - recall: 0.7012 - val_loss: 0.6107 - val_accuracy: 0.6565 - val_recall: 0.6685\n",
            "Epoch 83/250\n",
            "377/377 [==============================] - 2s 4ms/step - loss: 0.5868 - accuracy: 0.6821 - recall: 0.7013 - val_loss: 0.6108 - val_accuracy: 0.6560 - val_recall: 0.6671\n",
            "Epoch 84/250\n",
            "377/377 [==============================] - 2s 4ms/step - loss: 0.5874 - accuracy: 0.6817 - recall: 0.7004 - val_loss: 0.6088 - val_accuracy: 0.6581 - val_recall: 0.6623\n",
            "Epoch 85/250\n",
            "377/377 [==============================] - 2s 4ms/step - loss: 0.5865 - accuracy: 0.6828 - recall: 0.7014 - val_loss: 0.6156 - val_accuracy: 0.6518 - val_recall: 0.6957\n",
            "Epoch 86/250\n",
            "377/377 [==============================] - 2s 4ms/step - loss: 0.5870 - accuracy: 0.6825 - recall: 0.7014 - val_loss: 0.6001 - val_accuracy: 0.6719 - val_recall: 0.6078\n",
            "Epoch 87/250\n",
            "377/377 [==============================] - 2s 4ms/step - loss: 0.5866 - accuracy: 0.6824 - recall: 0.7007 - val_loss: 0.5932 - val_accuracy: 0.6757 - val_recall: 0.5789\n",
            "Epoch 88/250\n",
            "377/377 [==============================] - 2s 4ms/step - loss: 0.5866 - accuracy: 0.6822 - recall: 0.6996 - val_loss: 0.6054 - val_accuracy: 0.6603 - val_recall: 0.6433\n",
            "Epoch 89/250\n",
            "377/377 [==============================] - 2s 4ms/step - loss: 0.5865 - accuracy: 0.6830 - recall: 0.7014 - val_loss: 0.6144 - val_accuracy: 0.6536 - val_recall: 0.6839\n",
            "Epoch 90/250\n",
            "377/377 [==============================] - 2s 4ms/step - loss: 0.5860 - accuracy: 0.6826 - recall: 0.7008 - val_loss: 0.6064 - val_accuracy: 0.6598 - val_recall: 0.6496\n",
            "Epoch 91/250\n",
            "377/377 [==============================] - 2s 4ms/step - loss: 0.5861 - accuracy: 0.6828 - recall: 0.7009 - val_loss: 0.6103 - val_accuracy: 0.6606 - val_recall: 0.6432\n",
            "Epoch 92/250\n",
            "377/377 [==============================] - 2s 4ms/step - loss: 0.5856 - accuracy: 0.6827 - recall: 0.7004 - val_loss: 0.6087 - val_accuracy: 0.6555 - val_recall: 0.6708\n",
            "Epoch 93/250\n",
            "377/377 [==============================] - 2s 4ms/step - loss: 0.5863 - accuracy: 0.6824 - recall: 0.7010 - val_loss: 0.6012 - val_accuracy: 0.6682 - val_recall: 0.6326\n",
            "Epoch 94/250\n",
            "377/377 [==============================] - 2s 4ms/step - loss: 0.5854 - accuracy: 0.6837 - recall: 0.7015 - val_loss: 0.6143 - val_accuracy: 0.6520 - val_recall: 0.6830\n",
            "Epoch 95/250\n",
            "377/377 [==============================] - 2s 4ms/step - loss: 0.5857 - accuracy: 0.6829 - recall: 0.7012 - val_loss: 0.6091 - val_accuracy: 0.6568 - val_recall: 0.6702\n",
            "Epoch 96/250\n",
            "377/377 [==============================] - 2s 4ms/step - loss: 0.5853 - accuracy: 0.6834 - recall: 0.7007 - val_loss: 0.6176 - val_accuracy: 0.6519 - val_recall: 0.6875\n",
            "Epoch 97/250\n",
            "377/377 [==============================] - 2s 4ms/step - loss: 0.5853 - accuracy: 0.6839 - recall: 0.7024 - val_loss: 0.6177 - val_accuracy: 0.6476 - val_recall: 0.6941\n",
            "Epoch 98/250\n",
            "377/377 [==============================] - 2s 4ms/step - loss: 0.5855 - accuracy: 0.6835 - recall: 0.7013 - val_loss: 0.6116 - val_accuracy: 0.6568 - val_recall: 0.6678\n",
            "Epoch 99/250\n",
            "377/377 [==============================] - 2s 4ms/step - loss: 0.5850 - accuracy: 0.6844 - recall: 0.7027 - val_loss: 0.6110 - val_accuracy: 0.6558 - val_recall: 0.6811\n",
            "Epoch 100/250\n",
            "377/377 [==============================] - 2s 4ms/step - loss: 0.5853 - accuracy: 0.6834 - recall: 0.7014 - val_loss: 0.6102 - val_accuracy: 0.6570 - val_recall: 0.6697\n",
            "Epoch 101/250\n",
            "377/377 [==============================] - 2s 4ms/step - loss: 0.5853 - accuracy: 0.6834 - recall: 0.7004 - val_loss: 0.6126 - val_accuracy: 0.6541 - val_recall: 0.6635\n",
            "Epoch 102/250\n",
            "377/377 [==============================] - 2s 4ms/step - loss: 0.5848 - accuracy: 0.6844 - recall: 0.7024 - val_loss: 0.6228 - val_accuracy: 0.6457 - val_recall: 0.7085\n",
            "Epoch 103/250\n",
            "377/377 [==============================] - 2s 4ms/step - loss: 0.5858 - accuracy: 0.6835 - recall: 0.7024 - val_loss: 0.6006 - val_accuracy: 0.6688 - val_recall: 0.6121\n",
            "Epoch 104/250\n",
            "377/377 [==============================] - 2s 4ms/step - loss: 0.5846 - accuracy: 0.6844 - recall: 0.7020 - val_loss: 0.6016 - val_accuracy: 0.6676 - val_recall: 0.6248\n",
            "Epoch 105/250\n",
            "377/377 [==============================] - 2s 4ms/step - loss: 0.5847 - accuracy: 0.6842 - recall: 0.7022 - val_loss: 0.6179 - val_accuracy: 0.6495 - val_recall: 0.6928\n",
            "Epoch 106/250\n",
            "377/377 [==============================] - 2s 4ms/step - loss: 0.5849 - accuracy: 0.6845 - recall: 0.7028 - val_loss: 0.6092 - val_accuracy: 0.6594 - val_recall: 0.6617\n",
            "Epoch 107/250\n",
            "377/377 [==============================] - 2s 4ms/step - loss: 0.5842 - accuracy: 0.6846 - recall: 0.7019 - val_loss: 0.6112 - val_accuracy: 0.6582 - val_recall: 0.6719\n",
            "Epoch 108/250\n",
            "377/377 [==============================] - 2s 4ms/step - loss: 0.5844 - accuracy: 0.6841 - recall: 0.7033 - val_loss: 0.6080 - val_accuracy: 0.6615 - val_recall: 0.6433\n",
            "Epoch 109/250\n",
            "377/377 [==============================] - 2s 4ms/step - loss: 0.5848 - accuracy: 0.6838 - recall: 0.7021 - val_loss: 0.6295 - val_accuracy: 0.6404 - val_recall: 0.7065\n",
            "Epoch 110/250\n",
            "377/377 [==============================] - 2s 4ms/step - loss: 0.5845 - accuracy: 0.6845 - recall: 0.7028 - val_loss: 0.6052 - val_accuracy: 0.6607 - val_recall: 0.6494\n",
            "Epoch 111/250\n",
            "377/377 [==============================] - 2s 4ms/step - loss: 0.5843 - accuracy: 0.6845 - recall: 0.7026 - val_loss: 0.6172 - val_accuracy: 0.6510 - val_recall: 0.6943\n",
            "Epoch 112/250\n",
            "377/377 [==============================] - 2s 4ms/step - loss: 0.5848 - accuracy: 0.6841 - recall: 0.7023 - val_loss: 0.6254 - val_accuracy: 0.6426 - val_recall: 0.7047\n",
            "Epoch 113/250\n",
            "377/377 [==============================] - 2s 4ms/step - loss: 0.5844 - accuracy: 0.6846 - recall: 0.7026 - val_loss: 0.6135 - val_accuracy: 0.6508 - val_recall: 0.6750\n",
            "Epoch 114/250\n",
            "377/377 [==============================] - 2s 4ms/step - loss: 0.5839 - accuracy: 0.6849 - recall: 0.7027 - val_loss: 0.6076 - val_accuracy: 0.6610 - val_recall: 0.6462\n",
            "Epoch 115/250\n",
            "377/377 [==============================] - 2s 4ms/step - loss: 0.5841 - accuracy: 0.6848 - recall: 0.7028 - val_loss: 0.6087 - val_accuracy: 0.6593 - val_recall: 0.6716\n",
            "Epoch 116/250\n",
            "377/377 [==============================] - 2s 4ms/step - loss: 0.5838 - accuracy: 0.6851 - recall: 0.7037 - val_loss: 0.6256 - val_accuracy: 0.6424 - val_recall: 0.7219\n",
            "Epoch 117/250\n",
            "377/377 [==============================] - 2s 4ms/step - loss: 0.5843 - accuracy: 0.6841 - recall: 0.7019 - val_loss: 0.6028 - val_accuracy: 0.6658 - val_recall: 0.6374\n",
            "Epoch 118/250\n",
            "377/377 [==============================] - 2s 4ms/step - loss: 0.5835 - accuracy: 0.6849 - recall: 0.7030 - val_loss: 0.6171 - val_accuracy: 0.6549 - val_recall: 0.6581\n",
            "Epoch 119/250\n",
            "377/377 [==============================] - 2s 4ms/step - loss: 0.5840 - accuracy: 0.6850 - recall: 0.7035 - val_loss: 0.5977 - val_accuracy: 0.6702 - val_recall: 0.6127\n",
            "Epoch 120/250\n",
            "377/377 [==============================] - 2s 4ms/step - loss: 0.5835 - accuracy: 0.6851 - recall: 0.7028 - val_loss: 0.5974 - val_accuracy: 0.6700 - val_recall: 0.6274\n",
            "Epoch 121/250\n",
            "377/377 [==============================] - 2s 4ms/step - loss: 0.5838 - accuracy: 0.6852 - recall: 0.7048 - val_loss: 0.6041 - val_accuracy: 0.6629 - val_recall: 0.6402\n",
            "Epoch 122/250\n",
            "377/377 [==============================] - 2s 4ms/step - loss: 0.5835 - accuracy: 0.6854 - recall: 0.7039 - val_loss: 0.6186 - val_accuracy: 0.6438 - val_recall: 0.7116\n",
            "Epoch 123/250\n",
            "377/377 [==============================] - 2s 4ms/step - loss: 0.5829 - accuracy: 0.6862 - recall: 0.7048 - val_loss: 0.5987 - val_accuracy: 0.6677 - val_recall: 0.6274\n",
            "Epoch 124/250\n",
            "377/377 [==============================] - 2s 4ms/step - loss: 0.5829 - accuracy: 0.6856 - recall: 0.7057 - val_loss: 0.6233 - val_accuracy: 0.6429 - val_recall: 0.7140\n",
            "Epoch 125/250\n",
            "377/377 [==============================] - 2s 4ms/step - loss: 0.5829 - accuracy: 0.6863 - recall: 0.7059 - val_loss: 0.6027 - val_accuracy: 0.6648 - val_recall: 0.6531\n",
            "Epoch 126/250\n",
            "377/377 [==============================] - 2s 4ms/step - loss: 0.5830 - accuracy: 0.6854 - recall: 0.7046 - val_loss: 0.5975 - val_accuracy: 0.6721 - val_recall: 0.6068\n",
            "Epoch 127/250\n",
            "377/377 [==============================] - 2s 4ms/step - loss: 0.5830 - accuracy: 0.6853 - recall: 0.7043 - val_loss: 0.6020 - val_accuracy: 0.6642 - val_recall: 0.6322\n",
            "Epoch 128/250\n",
            "377/377 [==============================] - 2s 4ms/step - loss: 0.5825 - accuracy: 0.6862 - recall: 0.7054 - val_loss: 0.6059 - val_accuracy: 0.6609 - val_recall: 0.6619\n",
            "Epoch 129/250\n",
            "377/377 [==============================] - 2s 4ms/step - loss: 0.5824 - accuracy: 0.6869 - recall: 0.7060 - val_loss: 0.6062 - val_accuracy: 0.6614 - val_recall: 0.6634\n",
            "Epoch 130/250\n",
            "377/377 [==============================] - 2s 4ms/step - loss: 0.5827 - accuracy: 0.6863 - recall: 0.7050 - val_loss: 0.5986 - val_accuracy: 0.6717 - val_recall: 0.6193\n",
            "Epoch 131/250\n",
            "377/377 [==============================] - 2s 4ms/step - loss: 0.5825 - accuracy: 0.6863 - recall: 0.7041 - val_loss: 0.6260 - val_accuracy: 0.6414 - val_recall: 0.7139\n",
            "Epoch 132/250\n",
            "377/377 [==============================] - 2s 4ms/step - loss: 0.5828 - accuracy: 0.6858 - recall: 0.7047 - val_loss: 0.6275 - val_accuracy: 0.6397 - val_recall: 0.7155\n",
            "Epoch 133/250\n",
            "377/377 [==============================] - 2s 4ms/step - loss: 0.5822 - accuracy: 0.6867 - recall: 0.7054 - val_loss: 0.6076 - val_accuracy: 0.6612 - val_recall: 0.6472\n",
            "Epoch 134/250\n",
            "377/377 [==============================] - 2s 4ms/step - loss: 0.5823 - accuracy: 0.6867 - recall: 0.7052 - val_loss: 0.5990 - val_accuracy: 0.6705 - val_recall: 0.6220\n",
            "Epoch 135/250\n",
            "377/377 [==============================] - 2s 4ms/step - loss: 0.5821 - accuracy: 0.6865 - recall: 0.7047 - val_loss: 0.6121 - val_accuracy: 0.6563 - val_recall: 0.6798\n",
            "Epoch 136/250\n",
            "377/377 [==============================] - 2s 4ms/step - loss: 0.5821 - accuracy: 0.6865 - recall: 0.7057 - val_loss: 0.6094 - val_accuracy: 0.6576 - val_recall: 0.6677\n",
            "Epoch 137/250\n",
            "377/377 [==============================] - 2s 4ms/step - loss: 0.5822 - accuracy: 0.6865 - recall: 0.7052 - val_loss: 0.6094 - val_accuracy: 0.6605 - val_recall: 0.6461\n",
            "Epoch 138/250\n",
            "377/377 [==============================] - 2s 4ms/step - loss: 0.5821 - accuracy: 0.6871 - recall: 0.7064 - val_loss: 0.6119 - val_accuracy: 0.6581 - val_recall: 0.6687\n",
            "Epoch 139/250\n",
            "377/377 [==============================] - 2s 4ms/step - loss: 0.5819 - accuracy: 0.6867 - recall: 0.7049 - val_loss: 0.6155 - val_accuracy: 0.6538 - val_recall: 0.6832\n",
            "Epoch 140/250\n",
            "377/377 [==============================] - 2s 4ms/step - loss: 0.5815 - accuracy: 0.6873 - recall: 0.7066 - val_loss: 0.6035 - val_accuracy: 0.6648 - val_recall: 0.6474\n",
            "Epoch 141/250\n",
            "377/377 [==============================] - 2s 4ms/step - loss: 0.5821 - accuracy: 0.6864 - recall: 0.7048 - val_loss: 0.6100 - val_accuracy: 0.6586 - val_recall: 0.6711\n",
            "Epoch 142/250\n",
            "377/377 [==============================] - 2s 4ms/step - loss: 0.5818 - accuracy: 0.6861 - recall: 0.7053 - val_loss: 0.6027 - val_accuracy: 0.6657 - val_recall: 0.6424\n",
            "Epoch 143/250\n",
            "377/377 [==============================] - 2s 4ms/step - loss: 0.5818 - accuracy: 0.6867 - recall: 0.7050 - val_loss: 0.5989 - val_accuracy: 0.6706 - val_recall: 0.6256\n",
            "Epoch 144/250\n",
            "377/377 [==============================] - 2s 4ms/step - loss: 0.5814 - accuracy: 0.6876 - recall: 0.7064 - val_loss: 0.6038 - val_accuracy: 0.6669 - val_recall: 0.6316\n",
            "Epoch 145/250\n",
            "377/377 [==============================] - 2s 4ms/step - loss: 0.5813 - accuracy: 0.6875 - recall: 0.7063 - val_loss: 0.6011 - val_accuracy: 0.6673 - val_recall: 0.6140\n",
            "Epoch 146/250\n",
            "377/377 [==============================] - 2s 4ms/step - loss: 0.5813 - accuracy: 0.6872 - recall: 0.7054 - val_loss: 0.6092 - val_accuracy: 0.6585 - val_recall: 0.6697\n",
            "Epoch 147/250\n",
            "377/377 [==============================] - 2s 4ms/step - loss: 0.5813 - accuracy: 0.6872 - recall: 0.7056 - val_loss: 0.6188 - val_accuracy: 0.6499 - val_recall: 0.6971\n",
            "Epoch 148/250\n",
            "377/377 [==============================] - 2s 4ms/step - loss: 0.5813 - accuracy: 0.6872 - recall: 0.7066 - val_loss: 0.5945 - val_accuracy: 0.6746 - val_recall: 0.5923\n",
            "Epoch 149/250\n",
            "377/377 [==============================] - 2s 4ms/step - loss: 0.5809 - accuracy: 0.6876 - recall: 0.7074 - val_loss: 0.6075 - val_accuracy: 0.6584 - val_recall: 0.6627\n",
            "Epoch 150/250\n",
            "377/377 [==============================] - 2s 4ms/step - loss: 0.5812 - accuracy: 0.6873 - recall: 0.7060 - val_loss: 0.6090 - val_accuracy: 0.6570 - val_recall: 0.6621\n",
            "Epoch 151/250\n",
            "377/377 [==============================] - 2s 4ms/step - loss: 0.5810 - accuracy: 0.6875 - recall: 0.7061 - val_loss: 0.6096 - val_accuracy: 0.6572 - val_recall: 0.6795\n",
            "Epoch 152/250\n",
            "377/377 [==============================] - 2s 4ms/step - loss: 0.5810 - accuracy: 0.6878 - recall: 0.7059 - val_loss: 0.6051 - val_accuracy: 0.6646 - val_recall: 0.6402\n",
            "Epoch 153/250\n",
            "377/377 [==============================] - 2s 4ms/step - loss: 0.5809 - accuracy: 0.6874 - recall: 0.7071 - val_loss: 0.5993 - val_accuracy: 0.6712 - val_recall: 0.6206\n",
            "Epoch 154/250\n",
            "377/377 [==============================] - 2s 4ms/step - loss: 0.5804 - accuracy: 0.6886 - recall: 0.7061 - val_loss: 0.6173 - val_accuracy: 0.6501 - val_recall: 0.6941\n",
            "Epoch 155/250\n",
            "377/377 [==============================] - 2s 4ms/step - loss: 0.5808 - accuracy: 0.6880 - recall: 0.7069 - val_loss: 0.6044 - val_accuracy: 0.6609 - val_recall: 0.6509\n",
            "Epoch 156/250\n",
            "377/377 [==============================] - 2s 4ms/step - loss: 0.5810 - accuracy: 0.6878 - recall: 0.7070 - val_loss: 0.6117 - val_accuracy: 0.6575 - val_recall: 0.6592\n",
            "Epoch 157/250\n",
            "377/377 [==============================] - 2s 4ms/step - loss: 0.5801 - accuracy: 0.6887 - recall: 0.7074 - val_loss: 0.6161 - val_accuracy: 0.6513 - val_recall: 0.6902\n",
            "Epoch 158/250\n",
            "377/377 [==============================] - 2s 4ms/step - loss: 0.5806 - accuracy: 0.6880 - recall: 0.7064 - val_loss: 0.6001 - val_accuracy: 0.6686 - val_recall: 0.6331\n",
            "Epoch 159/250\n",
            "377/377 [==============================] - 2s 4ms/step - loss: 0.5808 - accuracy: 0.6878 - recall: 0.7067 - val_loss: 0.5985 - val_accuracy: 0.6684 - val_recall: 0.6215\n",
            "Epoch 160/250\n",
            "377/377 [==============================] - 2s 4ms/step - loss: 0.5805 - accuracy: 0.6879 - recall: 0.7070 - val_loss: 0.6161 - val_accuracy: 0.6540 - val_recall: 0.6729\n",
            "Epoch 161/250\n",
            "377/377 [==============================] - 2s 4ms/step - loss: 0.5802 - accuracy: 0.6880 - recall: 0.7061 - val_loss: 0.6120 - val_accuracy: 0.6532 - val_recall: 0.6863\n",
            "Epoch 162/250\n",
            "377/377 [==============================] - 2s 4ms/step - loss: 0.5802 - accuracy: 0.6881 - recall: 0.7067 - val_loss: 0.6208 - val_accuracy: 0.6455 - val_recall: 0.7124\n",
            "Epoch 163/250\n",
            "377/377 [==============================] - 2s 4ms/step - loss: 0.5800 - accuracy: 0.6884 - recall: 0.7066 - val_loss: 0.6199 - val_accuracy: 0.6478 - val_recall: 0.6975\n",
            "Epoch 164/250\n",
            "377/377 [==============================] - 2s 4ms/step - loss: 0.5802 - accuracy: 0.6884 - recall: 0.7076 - val_loss: 0.6196 - val_accuracy: 0.6466 - val_recall: 0.6971\n",
            "Epoch 165/250\n",
            "377/377 [==============================] - 2s 4ms/step - loss: 0.5804 - accuracy: 0.6879 - recall: 0.7061 - val_loss: 0.5910 - val_accuracy: 0.6799 - val_recall: 0.5743\n",
            "Epoch 166/250\n",
            "377/377 [==============================] - 2s 4ms/step - loss: 0.5802 - accuracy: 0.6879 - recall: 0.7074 - val_loss: 0.6031 - val_accuracy: 0.6637 - val_recall: 0.6370\n",
            "Epoch 167/250\n",
            "377/377 [==============================] - 2s 4ms/step - loss: 0.5798 - accuracy: 0.6884 - recall: 0.7066 - val_loss: 0.6004 - val_accuracy: 0.6658 - val_recall: 0.6317\n",
            "Epoch 168/250\n",
            "377/377 [==============================] - 2s 4ms/step - loss: 0.5799 - accuracy: 0.6887 - recall: 0.7084 - val_loss: 0.5974 - val_accuracy: 0.6713 - val_recall: 0.6248\n",
            "Epoch 169/250\n",
            "377/377 [==============================] - 2s 4ms/step - loss: 0.5799 - accuracy: 0.6887 - recall: 0.7079 - val_loss: 0.6129 - val_accuracy: 0.6551 - val_recall: 0.6757\n",
            "Epoch 170/250\n",
            "377/377 [==============================] - 2s 4ms/step - loss: 0.5794 - accuracy: 0.6888 - recall: 0.7078 - val_loss: 0.6128 - val_accuracy: 0.6566 - val_recall: 0.6642\n",
            "Epoch 171/250\n",
            "377/377 [==============================] - 2s 4ms/step - loss: 0.5795 - accuracy: 0.6890 - recall: 0.7077 - val_loss: 0.5963 - val_accuracy: 0.6720 - val_recall: 0.6178\n",
            "Epoch 172/250\n",
            "377/377 [==============================] - 2s 4ms/step - loss: 0.5800 - accuracy: 0.6881 - recall: 0.7070 - val_loss: 0.6110 - val_accuracy: 0.6566 - val_recall: 0.6670\n",
            "Epoch 173/250\n",
            "377/377 [==============================] - 2s 4ms/step - loss: 0.5796 - accuracy: 0.6881 - recall: 0.7073 - val_loss: 0.6116 - val_accuracy: 0.6560 - val_recall: 0.6690\n",
            "Epoch 174/250\n",
            "377/377 [==============================] - 2s 4ms/step - loss: 0.5795 - accuracy: 0.6888 - recall: 0.7080 - val_loss: 0.6071 - val_accuracy: 0.6609 - val_recall: 0.6711\n",
            "Epoch 175/250\n",
            "377/377 [==============================] - 2s 4ms/step - loss: 0.5793 - accuracy: 0.6890 - recall: 0.7076 - val_loss: 0.6077 - val_accuracy: 0.6593 - val_recall: 0.6597\n",
            "Epoch 176/250\n",
            "377/377 [==============================] - 2s 4ms/step - loss: 0.5791 - accuracy: 0.6890 - recall: 0.7084 - val_loss: 0.5990 - val_accuracy: 0.6678 - val_recall: 0.6222\n",
            "Epoch 177/250\n",
            "377/377 [==============================] - 2s 4ms/step - loss: 0.5794 - accuracy: 0.6886 - recall: 0.7077 - val_loss: 0.6164 - val_accuracy: 0.6489 - val_recall: 0.6928\n",
            "Epoch 178/250\n",
            "377/377 [==============================] - 2s 4ms/step - loss: 0.5792 - accuracy: 0.6889 - recall: 0.7069 - val_loss: 0.6023 - val_accuracy: 0.6671 - val_recall: 0.6428\n",
            "Epoch 179/250\n",
            "377/377 [==============================] - 2s 4ms/step - loss: 0.5792 - accuracy: 0.6893 - recall: 0.7078 - val_loss: 0.6193 - val_accuracy: 0.6481 - val_recall: 0.7066\n",
            "Epoch 180/250\n",
            "377/377 [==============================] - 2s 4ms/step - loss: 0.5790 - accuracy: 0.6892 - recall: 0.7083 - val_loss: 0.6084 - val_accuracy: 0.6605 - val_recall: 0.6583\n",
            "Epoch 181/250\n",
            "377/377 [==============================] - 2s 4ms/step - loss: 0.5792 - accuracy: 0.6893 - recall: 0.7084 - val_loss: 0.6036 - val_accuracy: 0.6635 - val_recall: 0.6501\n",
            "Epoch 182/250\n",
            "377/377 [==============================] - 2s 4ms/step - loss: 0.5789 - accuracy: 0.6894 - recall: 0.7080 - val_loss: 0.5967 - val_accuracy: 0.6726 - val_recall: 0.6065\n",
            "Epoch 183/250\n",
            "377/377 [==============================] - 2s 4ms/step - loss: 0.5790 - accuracy: 0.6891 - recall: 0.7079 - val_loss: 0.6069 - val_accuracy: 0.6594 - val_recall: 0.6668\n",
            "Epoch 184/250\n",
            "377/377 [==============================] - 2s 4ms/step - loss: 0.5788 - accuracy: 0.6899 - recall: 0.7091 - val_loss: 0.6032 - val_accuracy: 0.6632 - val_recall: 0.6496\n",
            "Epoch 185/250\n",
            "377/377 [==============================] - 2s 4ms/step - loss: 0.5787 - accuracy: 0.6889 - recall: 0.7083 - val_loss: 0.6060 - val_accuracy: 0.6626 - val_recall: 0.6540\n",
            "Epoch 186/250\n",
            "377/377 [==============================] - 2s 4ms/step - loss: 0.5789 - accuracy: 0.6889 - recall: 0.7073 - val_loss: 0.6174 - val_accuracy: 0.6502 - val_recall: 0.7007\n",
            "Epoch 187/250\n",
            "377/377 [==============================] - 2s 4ms/step - loss: 0.5786 - accuracy: 0.6893 - recall: 0.7081 - val_loss: 0.6009 - val_accuracy: 0.6714 - val_recall: 0.6218\n",
            "Epoch 188/250\n",
            "377/377 [==============================] - 2s 4ms/step - loss: 0.5792 - accuracy: 0.6891 - recall: 0.7082 - val_loss: 0.5998 - val_accuracy: 0.6708 - val_recall: 0.6242\n",
            "Epoch 189/250\n",
            "377/377 [==============================] - 2s 4ms/step - loss: 0.5782 - accuracy: 0.6901 - recall: 0.7083 - val_loss: 0.6054 - val_accuracy: 0.6614 - val_recall: 0.6652\n",
            "Epoch 190/250\n",
            "377/377 [==============================] - 2s 4ms/step - loss: 0.5782 - accuracy: 0.6895 - recall: 0.7087 - val_loss: 0.6060 - val_accuracy: 0.6611 - val_recall: 0.6396\n",
            "Epoch 191/250\n",
            "377/377 [==============================] - 2s 4ms/step - loss: 0.5784 - accuracy: 0.6900 - recall: 0.7092 - val_loss: 0.6005 - val_accuracy: 0.6673 - val_recall: 0.6355\n",
            "Epoch 192/250\n",
            "377/377 [==============================] - 2s 4ms/step - loss: 0.5787 - accuracy: 0.6894 - recall: 0.7088 - val_loss: 0.6044 - val_accuracy: 0.6616 - val_recall: 0.6556\n",
            "Epoch 193/250\n",
            "377/377 [==============================] - 2s 4ms/step - loss: 0.5782 - accuracy: 0.6905 - recall: 0.7092 - val_loss: 0.5981 - val_accuracy: 0.6706 - val_recall: 0.6280\n",
            "Epoch 194/250\n",
            "377/377 [==============================] - 2s 4ms/step - loss: 0.5780 - accuracy: 0.6903 - recall: 0.7095 - val_loss: 0.6066 - val_accuracy: 0.6611 - val_recall: 0.6545\n",
            "Epoch 195/250\n",
            "377/377 [==============================] - 2s 4ms/step - loss: 0.5788 - accuracy: 0.6893 - recall: 0.7092 - val_loss: 0.6152 - val_accuracy: 0.6524 - val_recall: 0.6904\n",
            "Epoch 196/250\n",
            "377/377 [==============================] - 2s 4ms/step - loss: 0.5781 - accuracy: 0.6899 - recall: 0.7101 - val_loss: 0.6127 - val_accuracy: 0.6560 - val_recall: 0.6855\n",
            "Epoch 197/250\n",
            "377/377 [==============================] - 2s 4ms/step - loss: 0.5782 - accuracy: 0.6898 - recall: 0.7089 - val_loss: 0.5940 - val_accuracy: 0.6740 - val_recall: 0.5959\n",
            "Epoch 198/250\n",
            "377/377 [==============================] - 2s 4ms/step - loss: 0.5781 - accuracy: 0.6903 - recall: 0.7096 - val_loss: 0.6130 - val_accuracy: 0.6541 - val_recall: 0.6727\n",
            "Epoch 199/250\n",
            "377/377 [==============================] - 2s 4ms/step - loss: 0.5779 - accuracy: 0.6898 - recall: 0.7087 - val_loss: 0.6076 - val_accuracy: 0.6586 - val_recall: 0.6672\n",
            "Epoch 200/250\n",
            "377/377 [==============================] - 2s 4ms/step - loss: 0.5778 - accuracy: 0.6905 - recall: 0.7098 - val_loss: 0.6040 - val_accuracy: 0.6670 - val_recall: 0.6438\n",
            "Epoch 201/250\n",
            "377/377 [==============================] - 2s 4ms/step - loss: 0.5784 - accuracy: 0.6898 - recall: 0.7083 - val_loss: 0.6079 - val_accuracy: 0.6650 - val_recall: 0.6534\n",
            "Epoch 202/250\n",
            "377/377 [==============================] - 2s 4ms/step - loss: 0.5779 - accuracy: 0.6903 - recall: 0.7100 - val_loss: 0.6123 - val_accuracy: 0.6544 - val_recall: 0.6774\n",
            "Epoch 203/250\n",
            "377/377 [==============================] - 2s 4ms/step - loss: 0.5777 - accuracy: 0.6905 - recall: 0.7098 - val_loss: 0.6094 - val_accuracy: 0.6579 - val_recall: 0.6729\n",
            "Epoch 204/250\n",
            "377/377 [==============================] - 2s 4ms/step - loss: 0.5778 - accuracy: 0.6899 - recall: 0.7092 - val_loss: 0.6108 - val_accuracy: 0.6537 - val_recall: 0.6945\n",
            "Epoch 205/250\n",
            "377/377 [==============================] - 2s 4ms/step - loss: 0.5778 - accuracy: 0.6901 - recall: 0.7093 - val_loss: 0.6002 - val_accuracy: 0.6699 - val_recall: 0.6200\n",
            "Epoch 206/250\n",
            "377/377 [==============================] - 2s 4ms/step - loss: 0.5779 - accuracy: 0.6902 - recall: 0.7086 - val_loss: 0.6038 - val_accuracy: 0.6653 - val_recall: 0.6539\n",
            "Epoch 207/250\n",
            "377/377 [==============================] - 2s 4ms/step - loss: 0.5778 - accuracy: 0.6901 - recall: 0.7098 - val_loss: 0.6115 - val_accuracy: 0.6561 - val_recall: 0.6685\n",
            "Epoch 208/250\n",
            "377/377 [==============================] - 2s 4ms/step - loss: 0.5775 - accuracy: 0.6902 - recall: 0.7089 - val_loss: 0.6068 - val_accuracy: 0.6632 - val_recall: 0.6432\n",
            "Epoch 209/250\n",
            "377/377 [==============================] - 2s 4ms/step - loss: 0.5776 - accuracy: 0.6905 - recall: 0.7110 - val_loss: 0.5942 - val_accuracy: 0.6728 - val_recall: 0.5968\n",
            "Epoch 210/250\n",
            "377/377 [==============================] - 2s 4ms/step - loss: 0.5776 - accuracy: 0.6901 - recall: 0.7096 - val_loss: 0.5976 - val_accuracy: 0.6731 - val_recall: 0.6105\n",
            "Epoch 211/250\n",
            "377/377 [==============================] - 2s 4ms/step - loss: 0.5779 - accuracy: 0.6895 - recall: 0.7090 - val_loss: 0.6149 - val_accuracy: 0.6537 - val_recall: 0.6943\n",
            "Epoch 212/250\n",
            "377/377 [==============================] - 2s 4ms/step - loss: 0.5772 - accuracy: 0.6903 - recall: 0.7101 - val_loss: 0.6061 - val_accuracy: 0.6614 - val_recall: 0.6398\n",
            "Epoch 213/250\n",
            "377/377 [==============================] - 2s 4ms/step - loss: 0.5773 - accuracy: 0.6905 - recall: 0.7092 - val_loss: 0.5980 - val_accuracy: 0.6706 - val_recall: 0.6345\n",
            "Epoch 214/250\n",
            "377/377 [==============================] - 2s 4ms/step - loss: 0.5770 - accuracy: 0.6905 - recall: 0.7107 - val_loss: 0.6045 - val_accuracy: 0.6633 - val_recall: 0.6570\n",
            "Epoch 215/250\n",
            "377/377 [==============================] - 2s 4ms/step - loss: 0.5774 - accuracy: 0.6908 - recall: 0.7103 - val_loss: 0.6082 - val_accuracy: 0.6629 - val_recall: 0.6520\n",
            "Epoch 216/250\n",
            "377/377 [==============================] - 2s 4ms/step - loss: 0.5766 - accuracy: 0.6916 - recall: 0.7115 - val_loss: 0.6073 - val_accuracy: 0.6612 - val_recall: 0.6727\n",
            "Epoch 217/250\n",
            "377/377 [==============================] - 2s 4ms/step - loss: 0.5772 - accuracy: 0.6906 - recall: 0.7099 - val_loss: 0.6006 - val_accuracy: 0.6630 - val_recall: 0.6413\n",
            "Epoch 218/250\n",
            "377/377 [==============================] - 2s 4ms/step - loss: 0.5771 - accuracy: 0.6901 - recall: 0.7098 - val_loss: 0.6104 - val_accuracy: 0.6605 - val_recall: 0.6711\n",
            "Epoch 219/250\n",
            "377/377 [==============================] - 2s 4ms/step - loss: 0.5774 - accuracy: 0.6906 - recall: 0.7100 - val_loss: 0.6007 - val_accuracy: 0.6707 - val_recall: 0.6362\n",
            "Epoch 220/250\n",
            "377/377 [==============================] - 2s 4ms/step - loss: 0.5767 - accuracy: 0.6908 - recall: 0.7117 - val_loss: 0.6144 - val_accuracy: 0.6542 - val_recall: 0.6957\n",
            "Epoch 221/250\n",
            "377/377 [==============================] - 2s 4ms/step - loss: 0.5766 - accuracy: 0.6914 - recall: 0.7118 - val_loss: 0.6004 - val_accuracy: 0.6695 - val_recall: 0.6222\n",
            "Epoch 222/250\n",
            "377/377 [==============================] - 2s 4ms/step - loss: 0.5764 - accuracy: 0.6913 - recall: 0.7116 - val_loss: 0.6013 - val_accuracy: 0.6656 - val_recall: 0.6421\n",
            "Epoch 223/250\n",
            "377/377 [==============================] - 2s 4ms/step - loss: 0.5770 - accuracy: 0.6906 - recall: 0.7099 - val_loss: 0.6040 - val_accuracy: 0.6618 - val_recall: 0.6529\n",
            "Epoch 224/250\n",
            "377/377 [==============================] - 2s 4ms/step - loss: 0.5769 - accuracy: 0.6910 - recall: 0.7108 - val_loss: 0.6021 - val_accuracy: 0.6644 - val_recall: 0.6437\n",
            "Epoch 225/250\n",
            "377/377 [==============================] - 2s 4ms/step - loss: 0.5768 - accuracy: 0.6910 - recall: 0.7111 - val_loss: 0.5933 - val_accuracy: 0.6750 - val_recall: 0.5937\n",
            "Epoch 226/250\n",
            "377/377 [==============================] - 2s 4ms/step - loss: 0.5771 - accuracy: 0.6907 - recall: 0.7109 - val_loss: 0.6064 - val_accuracy: 0.6624 - val_recall: 0.6579\n",
            "Epoch 227/250\n",
            "377/377 [==============================] - 2s 4ms/step - loss: 0.5767 - accuracy: 0.6906 - recall: 0.7106 - val_loss: 0.6201 - val_accuracy: 0.6496 - val_recall: 0.6812\n",
            "Epoch 228/250\n",
            "377/377 [==============================] - 2s 4ms/step - loss: 0.5763 - accuracy: 0.6919 - recall: 0.7124 - val_loss: 0.5961 - val_accuracy: 0.6725 - val_recall: 0.6073\n",
            "Epoch 229/250\n",
            "377/377 [==============================] - 2s 4ms/step - loss: 0.5769 - accuracy: 0.6907 - recall: 0.7109 - val_loss: 0.6118 - val_accuracy: 0.6559 - val_recall: 0.6804\n",
            "Epoch 230/250\n",
            "377/377 [==============================] - 2s 4ms/step - loss: 0.5769 - accuracy: 0.6911 - recall: 0.7112 - val_loss: 0.6058 - val_accuracy: 0.6636 - val_recall: 0.6587\n",
            "Epoch 231/250\n",
            "377/377 [==============================] - 2s 4ms/step - loss: 0.5763 - accuracy: 0.6912 - recall: 0.7113 - val_loss: 0.6049 - val_accuracy: 0.6620 - val_recall: 0.6662\n",
            "Epoch 232/250\n",
            "377/377 [==============================] - 2s 4ms/step - loss: 0.5761 - accuracy: 0.6914 - recall: 0.7122 - val_loss: 0.6017 - val_accuracy: 0.6636 - val_recall: 0.6431\n",
            "Epoch 233/250\n",
            "377/377 [==============================] - 2s 4ms/step - loss: 0.5761 - accuracy: 0.6913 - recall: 0.7115 - val_loss: 0.5979 - val_accuracy: 0.6716 - val_recall: 0.6282\n",
            "Epoch 234/250\n",
            "377/377 [==============================] - 2s 4ms/step - loss: 0.5764 - accuracy: 0.6908 - recall: 0.7105 - val_loss: 0.6049 - val_accuracy: 0.6617 - val_recall: 0.6566\n",
            "Epoch 235/250\n",
            "377/377 [==============================] - 2s 4ms/step - loss: 0.5760 - accuracy: 0.6920 - recall: 0.7121 - val_loss: 0.6040 - val_accuracy: 0.6634 - val_recall: 0.6504\n",
            "Epoch 236/250\n",
            "377/377 [==============================] - 2s 4ms/step - loss: 0.5762 - accuracy: 0.6917 - recall: 0.7122 - val_loss: 0.6346 - val_accuracy: 0.6362 - val_recall: 0.7246\n",
            "Epoch 237/250\n",
            "377/377 [==============================] - 2s 4ms/step - loss: 0.5765 - accuracy: 0.6907 - recall: 0.7124 - val_loss: 0.6132 - val_accuracy: 0.6547 - val_recall: 0.6778\n",
            "Epoch 238/250\n",
            "377/377 [==============================] - 2s 4ms/step - loss: 0.5761 - accuracy: 0.6913 - recall: 0.7113 - val_loss: 0.6036 - val_accuracy: 0.6647 - val_recall: 0.6417\n",
            "Epoch 239/250\n",
            "377/377 [==============================] - 2s 4ms/step - loss: 0.5760 - accuracy: 0.6916 - recall: 0.7115 - val_loss: 0.6001 - val_accuracy: 0.6678 - val_recall: 0.6463\n",
            "Epoch 240/250\n",
            "377/377 [==============================] - 2s 4ms/step - loss: 0.5761 - accuracy: 0.6917 - recall: 0.7117 - val_loss: 0.6179 - val_accuracy: 0.6487 - val_recall: 0.6972\n",
            "Epoch 241/250\n",
            "377/377 [==============================] - 2s 4ms/step - loss: 0.5757 - accuracy: 0.6911 - recall: 0.7115 - val_loss: 0.6113 - val_accuracy: 0.6584 - val_recall: 0.6693\n",
            "Epoch 242/250\n",
            "377/377 [==============================] - 2s 5ms/step - loss: 0.5760 - accuracy: 0.6912 - recall: 0.7118 - val_loss: 0.5987 - val_accuracy: 0.6716 - val_recall: 0.6195\n",
            "Epoch 243/250\n",
            "377/377 [==============================] - 2s 4ms/step - loss: 0.5763 - accuracy: 0.6916 - recall: 0.7112 - val_loss: 0.6190 - val_accuracy: 0.6453 - val_recall: 0.7110\n",
            "Epoch 244/250\n",
            "377/377 [==============================] - 2s 4ms/step - loss: 0.5757 - accuracy: 0.6921 - recall: 0.7125 - val_loss: 0.5977 - val_accuracy: 0.6709 - val_recall: 0.6278\n",
            "Epoch 245/250\n",
            "377/377 [==============================] - 2s 4ms/step - loss: 0.5761 - accuracy: 0.6912 - recall: 0.7111 - val_loss: 0.5988 - val_accuracy: 0.6667 - val_recall: 0.6389\n",
            "Epoch 246/250\n",
            "377/377 [==============================] - 2s 4ms/step - loss: 0.5757 - accuracy: 0.6915 - recall: 0.7120 - val_loss: 0.5993 - val_accuracy: 0.6689 - val_recall: 0.6460\n",
            "Epoch 247/250\n",
            "377/377 [==============================] - 2s 4ms/step - loss: 0.5757 - accuracy: 0.6919 - recall: 0.7124 - val_loss: 0.6171 - val_accuracy: 0.6505 - val_recall: 0.6997\n",
            "Epoch 248/250\n",
            "377/377 [==============================] - 2s 4ms/step - loss: 0.5764 - accuracy: 0.6914 - recall: 0.7122 - val_loss: 0.6013 - val_accuracy: 0.6675 - val_recall: 0.6477\n",
            "Epoch 249/250\n",
            "377/377 [==============================] - 2s 4ms/step - loss: 0.5759 - accuracy: 0.6913 - recall: 0.7110 - val_loss: 0.5886 - val_accuracy: 0.6838 - val_recall: 0.5772\n",
            "Epoch 250/250\n",
            "377/377 [==============================] - 2s 4ms/step - loss: 0.5754 - accuracy: 0.6919 - recall: 0.7122 - val_loss: 0.5957 - val_accuracy: 0.6698 - val_recall: 0.6323\n",
            "1163/1163 [==============================] - 1s 1ms/step - loss: 0.5955 - accuracy: 0.6683 - recall: 0.6287\n",
            "Loss for test data: 0.5954967141151428\n",
            "Accuracy for test data: 0.6683330535888672\n"
          ],
          "name": "stdout"
        }
      ]
    }
  ]
}