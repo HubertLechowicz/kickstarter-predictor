{
  "nbformat": 4,
  "nbformat_minor": 0,
  "metadata": {
    "colab": {
      "name": "classification predictor.ipynb",
      "provenance": [],
      "collapsed_sections": [],
      "authorship_tag": "ABX9TyNUO5qqh2/6CecmGiCiobGT",
      "include_colab_link": true
    },
    "kernelspec": {
      "name": "python3",
      "display_name": "Python 3"
    }
  },
  "cells": [
    {
      "cell_type": "markdown",
      "metadata": {
        "id": "view-in-github",
        "colab_type": "text"
      },
      "source": [
        "<a href=\"https://colab.research.google.com/github/QuatZo/kickstarter-predictor/blob/master/classification_predictor.ipynb\" target=\"_parent\"><img src=\"https://colab.research.google.com/assets/colab-badge.svg\" alt=\"Open In Colab\"/></a>"
      ]
    },
    {
      "cell_type": "markdown",
      "metadata": {
        "id": "ROb5Hjb-51E6",
        "colab_type": "text"
      },
      "source": [
        "# Prepare environment\n"
      ]
    },
    {
      "cell_type": "code",
      "metadata": {
        "id": "6zc6TkG15yoP",
        "colab_type": "code",
        "colab": {
          "base_uri": "https://localhost:8080/",
          "height": 71
        },
        "outputId": "f6628764-0ada-40bb-84e0-d91b9c2f5a68"
      },
      "source": [
        "import pandas as pd\n",
        "import numpy as np\n",
        "import datetime\n",
        "import time\n",
        "import statistics as stats\n",
        "import requests\n",
        "import pickle\n",
        "\n",
        "# import xgboost as xgb\n",
        "# from sklearn.preprocessing import StandardScaler\n",
        "from sklearn.externals.joblib import dump, load"
      ],
      "execution_count": 1,
      "outputs": [
        {
          "output_type": "stream",
          "text": [
            "/usr/local/lib/python3.6/dist-packages/sklearn/externals/joblib/__init__.py:15: FutureWarning: sklearn.externals.joblib is deprecated in 0.21 and will be removed in 0.23. Please import this functionality directly from joblib, which can be installed with: pip install joblib. If this warning is raised when loading pickled models, you may need to re-serialize those models with scikit-learn 0.21+.\n",
            "  warnings.warn(msg, category=FutureWarning)\n"
          ],
          "name": "stderr"
        }
      ]
    },
    {
      "cell_type": "markdown",
      "metadata": {
        "id": "WijYvGuj55uy",
        "colab_type": "text"
      },
      "source": [
        "# Load Standarizer"
      ]
    },
    {
      "cell_type": "code",
      "metadata": {
        "id": "oEA7IloW55yS",
        "colab_type": "code",
        "colab": {
          "base_uri": "https://localhost:8080/",
          "height": 221
        },
        "outputId": "4b11f95a-c3b2-4b83-f2e7-372bcaa27c01"
      },
      "source": [
        "!wget http://puma.swstats.info/standarizer/standarizer.bin\n",
        "scaler = load('standarizer.bin')\n",
        "print(scaler)"
      ],
      "execution_count": 2,
      "outputs": [
        {
          "output_type": "stream",
          "text": [
            "--2020-04-23 08:55:12--  http://puma.swstats.info/standarizer/standarizer.bin\n",
            "Resolving puma.swstats.info (puma.swstats.info)... 51.83.129.23\n",
            "Connecting to puma.swstats.info (puma.swstats.info)|51.83.129.23|:80... connected.\n",
            "HTTP request sent, awaiting response... 200 OK\n",
            "Length: 605 [application/octet-stream]\n",
            "Saving to: ‘standarizer.bin.2’\n",
            "\n",
            "\rstandarizer.bin.2     0%[                    ]       0  --.-KB/s               \rstandarizer.bin.2   100%[===================>]     605  --.-KB/s    in 0s      \n",
            "\n",
            "2020-04-23 08:55:12 (86.7 MB/s) - ‘standarizer.bin.2’ saved [605/605]\n",
            "\n",
            "StandardScaler(copy=True, with_mean=True, with_std=True)\n"
          ],
          "name": "stdout"
        }
      ]
    },
    {
      "cell_type": "markdown",
      "metadata": {
        "id": "rLUdlE52552E",
        "colab_type": "text"
      },
      "source": [
        "# Load Model"
      ]
    },
    {
      "cell_type": "code",
      "metadata": {
        "id": "rFa1Oz2A555L",
        "colab_type": "code",
        "colab": {
          "base_uri": "https://localhost:8080/",
          "height": 204
        },
        "outputId": "53ac7633-9603-443e-9dbd-ec734b3215c6"
      },
      "source": [
        "!wget http://puma.swstats.info/model/model.xgb\n",
        "clscls = pickle.load(open('model.xgb', \"rb\"))"
      ],
      "execution_count": 3,
      "outputs": [
        {
          "output_type": "stream",
          "text": [
            "--2020-04-23 08:55:14--  http://puma.swstats.info/model/model.xgb\n",
            "Resolving puma.swstats.info (puma.swstats.info)... 51.83.129.23\n",
            "Connecting to puma.swstats.info (puma.swstats.info)|51.83.129.23|:80... connected.\n",
            "HTTP request sent, awaiting response... 200 OK\n",
            "Length: 9259685 (8.8M) [application/octet-stream]\n",
            "Saving to: ‘model.xgb.2’\n",
            "\n",
            "model.xgb.2         100%[===================>]   8.83M  6.11MB/s    in 1.4s    \n",
            "\n",
            "2020-04-23 08:55:15 (6.11 MB/s) - ‘model.xgb.2’ saved [9259685/9259685]\n",
            "\n"
          ],
          "name": "stdout"
        }
      ]
    },
    {
      "cell_type": "markdown",
      "metadata": {
        "id": "Ve6jt28k558J",
        "colab_type": "text"
      },
      "source": [
        "# Load & Prepare Data"
      ]
    },
    {
      "cell_type": "code",
      "metadata": {
        "id": "Y4trD1Ri55-4",
        "colab_type": "code",
        "colab": {
          "base_uri": "https://localhost:8080/",
          "height": 80
        },
        "outputId": "d0b7a71b-ee8c-400a-8386-481886ecd511"
      },
      "source": [
        "df = pd.DataFrame([[3, 5, 1, 2137, 23, 13]], columns=['category', 'main_category', 'country', 'usd_goal_real', 'trend', 'campaign_length'])\n",
        "df"
      ],
      "execution_count": 4,
      "outputs": [
        {
          "output_type": "execute_result",
          "data": {
            "text/html": [
              "<div>\n",
              "<style scoped>\n",
              "    .dataframe tbody tr th:only-of-type {\n",
              "        vertical-align: middle;\n",
              "    }\n",
              "\n",
              "    .dataframe tbody tr th {\n",
              "        vertical-align: top;\n",
              "    }\n",
              "\n",
              "    .dataframe thead th {\n",
              "        text-align: right;\n",
              "    }\n",
              "</style>\n",
              "<table border=\"1\" class=\"dataframe\">\n",
              "  <thead>\n",
              "    <tr style=\"text-align: right;\">\n",
              "      <th></th>\n",
              "      <th>category</th>\n",
              "      <th>main_category</th>\n",
              "      <th>country</th>\n",
              "      <th>usd_goal_real</th>\n",
              "      <th>trend</th>\n",
              "      <th>campaign_length</th>\n",
              "    </tr>\n",
              "  </thead>\n",
              "  <tbody>\n",
              "    <tr>\n",
              "      <th>0</th>\n",
              "      <td>3</td>\n",
              "      <td>5</td>\n",
              "      <td>1</td>\n",
              "      <td>2137</td>\n",
              "      <td>23</td>\n",
              "      <td>13</td>\n",
              "    </tr>\n",
              "  </tbody>\n",
              "</table>\n",
              "</div>"
            ],
            "text/plain": [
              "   category  main_category  country  usd_goal_real  trend  campaign_length\n",
              "0         3              5        1           2137     23               13"
            ]
          },
          "metadata": {
            "tags": []
          },
          "execution_count": 4
        }
      ]
    },
    {
      "cell_type": "markdown",
      "metadata": {
        "id": "Ut-qnbi-56Bl",
        "colab_type": "text"
      },
      "source": [
        "# Predict"
      ]
    },
    {
      "cell_type": "code",
      "metadata": {
        "id": "90YD3h1B56EL",
        "colab_type": "code",
        "colab": {
          "base_uri": "https://localhost:8080/",
          "height": 34
        },
        "outputId": "89ada959-2ca5-4c22-ea29-aa740fc1d763"
      },
      "source": [
        "clscls.predict(df)"
      ],
      "execution_count": 5,
      "outputs": [
        {
          "output_type": "execute_result",
          "data": {
            "text/plain": [
              "array([0])"
            ]
          },
          "metadata": {
            "tags": []
          },
          "execution_count": 5
        }
      ]
    }
  ]
}